{
 "cells": [
  {
   "cell_type": "markdown",
   "metadata": {},
   "source": [
    "# 3rd Homework - Segmentation of e-shop customers (deadline November 29th 23:59)\n",
    "\n",
    "An essential application of clustering is **customer segmentation**. \n",
    "\n",
    "Given transactional data of the form:\n",
    "\n",
    ">TransactionID, CustomerID, Date (of the purchase), Subtotal (the price of the purchase)\n",
    "\n",
    "we want to find segments of customers with similar behaviour. For this, we need to aggregate the transactions and have **one row as one customer**.\n",
    "\n",
    "A popular framework to do that is **RFM**, which means:\n",
    "\n",
    "- **R**ecency: Day since last purchase (last date in the data set - last purchase date set of a given customer)\n",
    "- **F**requency: Number of purchases. Customers with only one purchase are sometimes excluded; let's leave them in the dataset for simplicity.\n",
    "- **M**onetary: Total amount spent by the customer.\n",
    "\n",
    "## Data source\n",
    "\n",
    "Data about purchases of an (almost) fake e-shop are in the file `eshop.csv`.\n",
    "\n",
    "## Instructions\n",
    "\n",
    "Take the date of the last transaction (19. 12. 2015) as the actual date of the analysis - to simulate that the data is current.\n",
    "\n",
    "**Basic points of the assignment (8 points)**:\n",
    "  * Create an `rfm` data frame that has as many rows as customers, where each row is a customer, and the other columns are calculated as described above.\n",
    "  * Use `k-means` for clustering. Find the optimal number of clusters (explain why you have chosen it).\n",
    "  * Work with scaling and standardization of the data. Is it needed? Do it if yes.\n",
    "  * Give an interpretation for the clusters. Can the clusters help you identify some superstar customers (high monetary, high frequency, low recency) from lousy ones (high recency, low frequency, low monetary)? Identify them.\n",
    "\n",
    "**Further points of assignment**, for possible more points (you can choose, maximum for the homework is 12):\n",
    "  * (up to 4 points) Use the method Silhouette to analyze the found clusters (https://en.wikipedia.org/wiki/Silhouette_(clustering)).\n",
    "  * (up to 4 points) Do the clustering with a modified version of **RFM** where\n",
    "    * Recency: a maximum of the number of months since the last purchase and number 1.\n",
    "    * Frequency: a maximum of the number of purchases during last 12 months and number 1.\n",
    "    * Monetary: the highest price of a single purchase of the given customer.\n",
    "    \n",
    "    Compare results with the original approach.\n",
    "\n",
    "## Submission notes\n",
    "\n",
    "  * Follow instructions at https://courses.fit.cvut.cz/BIE-VZD/homeworks/index.html\n",
    "  * Submit Jupyter Notebook.\n",
    "  * Reviewer may allow you to finish or correct your homework to achieve additional points. However, the first version is crucial."
   ]
  },
  {
   "cell_type": "code",
   "execution_count": null,
   "metadata": {},
   "outputs": [],
   "source": [
    "### your code\n"
   ]
  }
 ],
 "metadata": {
  "kernelspec": {
   "display_name": "Python 3",
   "language": "python",
   "name": "python3"
  },
  "language_info": {
   "codemirror_mode": {
    "name": "ipython",
    "version": 3
   },
   "file_extension": ".py",
   "mimetype": "text/x-python",
   "name": "python",
   "nbconvert_exporter": "python",
   "pygments_lexer": "ipython3",
   "version": "3.8.3"
  }
 },
 "nbformat": 4,
 "nbformat_minor": 4
}
