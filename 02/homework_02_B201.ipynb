{
 "cells": [
  {
   "cell_type": "markdown",
   "metadata": {},
   "source": [
    "# 2nd Homework - Data preprocessing and binary classification (deadline November 8th 23:59)\n",
    "\n",
    "  * In this homework you have to handle features of various data types.\n",
    "  * The features should be preprocessed and transformed to numeric representation, before training an ML model on the data.\n",
    "  \n",
    "> **Homework is assigned in a way that you have space for invention. Thinking of the _exact solution path_ is part of the assignment. Originality will be taken into account in the evaluation.**\n",
    "\n",
    "## Data source\n",
    "\n",
    "Your task is to predict the survival of Titanic passengers. Training data is in file **data.csv** and validation data in **evaluation.csv**.\n",
    "\n",
    "### Features\n",
    "* survived - 0 = No, 1 = Yes, **target variable**, \n",
    "* pclass - passenger's class, 1 = first, 2 = second, 3 = third\n",
    "* name\n",
    "* sex\n",
    "* age - in years\n",
    "* sibsp\t- number of siblings / spouses onboard\n",
    "* parch - number of parents / children onboard\n",
    "* ticket - ticket number\n",
    "* fare - ticket fare\n",
    "* cabin\t- cabin number\n",
    "* embarked\t- place of embarkment, C = Cherbourg, Q = Queenstown, S = Southampton\n",
    "* home.dest - Home/destination\n",
    "\n",
    "## Instructions\n",
    "\n",
    "**Basic points of the assignment (8 points)**:\n",
    "  * In the Jupyter notebook load **data.csv**. Split the data into subsets suitable for ML model training.\n",
    "  * Explore and transform particular features into a format suitable for the selected classification method.\n",
    "  * You can create new features (based on the existing ones), e.g. you can create a column with the length of the passenger's name. You can drop some features entirely too.\n",
    "  * Handle the missing values in the dataset.\n",
    "  * Select a suitable classification method from the lectures. Train it on the training set and tune the hyperparameters. Compute its accuracy on the training and validation set.\n",
    "  * Load data from the file **evaluation.csv**. Compute predictions from these data (there are no target variable values in the file). Create a file **results.csv** and save your predictions into two columns - ID and the prediction of surviving. Upload this file alongside the Jupyter notebook to the repository.\n",
    "  * Possible head of the file **results.csv**:\n",
    "  \n",
    "```\n",
    "ID,survived\n",
    "1000,0\n",
    "1001,1\n",
    "...\n",
    "```\n",
    "**Further points of assignment**, for possible more points (you can choose, maximum for the homework is 12):\n",
    "  * (up to 4 points) Apply all of the classification methods discussed in the lectures to the problem. Select the best one based on the accuracy on the validation set. Use cross-validation to estimate the real accuracy of the best model. Use this model for prediction on the **evaluation.csv** data.\n",
    "  * (up to 4 points) Try to use at least two advanced methods for filling missing values in the `age` feature. Explore the impact of these methods on the performance of the trained model. Use the method which you find to perform the best for the prediction on the **evaluation.csv** data.\n",
    "  \n",
    "## Submission notes\n",
    "\n",
    "  * Follow instructions at https://courses.fit.cvut.cz/BIE-VZD/homeworks/index.html\n",
    "  * Submit **Jupyter Notebook** (possibly with additional scripts) and file **results.csv** with the test predictions.\n",
    "  * Reviewer may allow you to finish or correct your homework to achieve additional points. However, the first version is crucial."
   ]
  },
  {
   "cell_type": "code",
   "execution_count": 1,
   "metadata": {},
   "outputs": [],
   "source": [
    "import pandas as pd\n",
    "import numpy as np\n",
    "import matplotlib\n",
    "import matplotlib.pyplot as plt\n",
    "import sklearn.metrics as metrics\n",
    "from sklearn.tree import DecisionTreeClassifier\n",
    "from sklearn.ensemble import RandomForestClassifier\n",
    "from sklearn.model_selection import train_test_split\n",
    "from sklearn.model_selection import ParameterGrid"
   ]
  },
  {
   "cell_type": "code",
   "execution_count": 2,
   "metadata": {},
   "outputs": [
    {
     "data": {
      "text/html": [
       "<div>\n",
       "<style scoped>\n",
       "    .dataframe tbody tr th:only-of-type {\n",
       "        vertical-align: middle;\n",
       "    }\n",
       "\n",
       "    .dataframe tbody tr th {\n",
       "        vertical-align: top;\n",
       "    }\n",
       "\n",
       "    .dataframe thead th {\n",
       "        text-align: right;\n",
       "    }\n",
       "</style>\n",
       "<table border=\"1\" class=\"dataframe\">\n",
       "  <thead>\n",
       "    <tr style=\"text-align: right;\">\n",
       "      <th></th>\n",
       "      <th>survived</th>\n",
       "      <th>pclass</th>\n",
       "      <th>name</th>\n",
       "      <th>sex</th>\n",
       "      <th>age</th>\n",
       "      <th>sibsp</th>\n",
       "      <th>parch</th>\n",
       "      <th>ticket</th>\n",
       "      <th>fare</th>\n",
       "      <th>cabin</th>\n",
       "      <th>embarked</th>\n",
       "      <th>home.dest</th>\n",
       "    </tr>\n",
       "    <tr>\n",
       "      <th>ID</th>\n",
       "      <th></th>\n",
       "      <th></th>\n",
       "      <th></th>\n",
       "      <th></th>\n",
       "      <th></th>\n",
       "      <th></th>\n",
       "      <th></th>\n",
       "      <th></th>\n",
       "      <th></th>\n",
       "      <th></th>\n",
       "      <th></th>\n",
       "      <th></th>\n",
       "    </tr>\n",
       "  </thead>\n",
       "  <tbody>\n",
       "    <tr>\n",
       "      <th>0</th>\n",
       "      <td>1</td>\n",
       "      <td>3</td>\n",
       "      <td>Dorking, Mr. Edward Arthur</td>\n",
       "      <td>male</td>\n",
       "      <td>19.0</td>\n",
       "      <td>0</td>\n",
       "      <td>0</td>\n",
       "      <td>A/5. 10482</td>\n",
       "      <td>8.0500</td>\n",
       "      <td>NaN</td>\n",
       "      <td>S</td>\n",
       "      <td>England Oglesby, IL</td>\n",
       "    </tr>\n",
       "    <tr>\n",
       "      <th>1</th>\n",
       "      <td>1</td>\n",
       "      <td>2</td>\n",
       "      <td>Smith, Miss. Marion Elsie</td>\n",
       "      <td>female</td>\n",
       "      <td>40.0</td>\n",
       "      <td>0</td>\n",
       "      <td>0</td>\n",
       "      <td>31418</td>\n",
       "      <td>13.0000</td>\n",
       "      <td>NaN</td>\n",
       "      <td>S</td>\n",
       "      <td>NaN</td>\n",
       "    </tr>\n",
       "    <tr>\n",
       "      <th>2</th>\n",
       "      <td>0</td>\n",
       "      <td>3</td>\n",
       "      <td>Hegarty, Miss. Hanora \"Nora\"</td>\n",
       "      <td>female</td>\n",
       "      <td>18.0</td>\n",
       "      <td>0</td>\n",
       "      <td>0</td>\n",
       "      <td>365226</td>\n",
       "      <td>6.7500</td>\n",
       "      <td>NaN</td>\n",
       "      <td>Q</td>\n",
       "      <td>NaN</td>\n",
       "    </tr>\n",
       "    <tr>\n",
       "      <th>3</th>\n",
       "      <td>0</td>\n",
       "      <td>3</td>\n",
       "      <td>Sage, Mr. John George</td>\n",
       "      <td>male</td>\n",
       "      <td>NaN</td>\n",
       "      <td>1</td>\n",
       "      <td>9</td>\n",
       "      <td>CA. 2343</td>\n",
       "      <td>69.5500</td>\n",
       "      <td>NaN</td>\n",
       "      <td>S</td>\n",
       "      <td>NaN</td>\n",
       "    </tr>\n",
       "    <tr>\n",
       "      <th>4</th>\n",
       "      <td>0</td>\n",
       "      <td>3</td>\n",
       "      <td>Cacic, Miss. Marija</td>\n",
       "      <td>female</td>\n",
       "      <td>30.0</td>\n",
       "      <td>0</td>\n",
       "      <td>0</td>\n",
       "      <td>315084</td>\n",
       "      <td>8.6625</td>\n",
       "      <td>NaN</td>\n",
       "      <td>S</td>\n",
       "      <td>NaN</td>\n",
       "    </tr>\n",
       "  </tbody>\n",
       "</table>\n",
       "</div>"
      ],
      "text/plain": [
       "    survived  pclass                          name     sex   age  sibsp  \\\n",
       "ID                                                                        \n",
       "0          1       3    Dorking, Mr. Edward Arthur    male  19.0      0   \n",
       "1          1       2     Smith, Miss. Marion Elsie  female  40.0      0   \n",
       "2          0       3  Hegarty, Miss. Hanora \"Nora\"  female  18.0      0   \n",
       "3          0       3         Sage, Mr. John George    male   NaN      1   \n",
       "4          0       3           Cacic, Miss. Marija  female  30.0      0   \n",
       "\n",
       "    parch      ticket     fare cabin embarked            home.dest  \n",
       "ID                                                                  \n",
       "0       0  A/5. 10482   8.0500   NaN        S  England Oglesby, IL  \n",
       "1       0       31418  13.0000   NaN        S                  NaN  \n",
       "2       0      365226   6.7500   NaN        Q                  NaN  \n",
       "3       9    CA. 2343  69.5500   NaN        S                  NaN  \n",
       "4       0      315084   8.6625   NaN        S                  NaN  "
      ]
     },
     "metadata": {},
     "output_type": "display_data"
    },
    {
     "name": "stdout",
     "output_type": "stream",
     "text": [
      "<class 'pandas.core.frame.DataFrame'>\n",
      "Int64Index: 1000 entries, 0 to 999\n",
      "Data columns (total 12 columns):\n",
      " #   Column     Non-Null Count  Dtype  \n",
      "---  ------     --------------  -----  \n",
      " 0   survived   1000 non-null   int64  \n",
      " 1   pclass     1000 non-null   int64  \n",
      " 2   name       1000 non-null   object \n",
      " 3   sex        1000 non-null   object \n",
      " 4   age        797 non-null    float64\n",
      " 5   sibsp      1000 non-null   int64  \n",
      " 6   parch      1000 non-null   int64  \n",
      " 7   ticket     1000 non-null   object \n",
      " 8   fare       1000 non-null   float64\n",
      " 9   cabin      226 non-null    object \n",
      " 10  embarked   998 non-null    object \n",
      " 11  home.dest  554 non-null    object \n",
      "dtypes: float64(2), int64(4), object(6)\n",
      "memory usage: 101.6+ KB\n"
     ]
    }
   ],
   "source": [
    "data = pd.read_csv('data.csv', index_col='ID')\n",
    "display(data.head())\n",
    "data.info()"
   ]
  },
  {
   "cell_type": "markdown",
   "metadata": {},
   "source": [
    "### Preparing the data"
   ]
  },
  {
   "cell_type": "code",
   "execution_count": 3,
   "metadata": {},
   "outputs": [
    {
     "name": "stdout",
     "output_type": "stream",
     "text": [
      "\n",
      "Number of NaN values in the columns:\n"
     ]
    },
    {
     "data": {
      "text/plain": [
       "survived       0\n",
       "pclass         0\n",
       "name           0\n",
       "sex            0\n",
       "age          203\n",
       "sibsp          0\n",
       "parch          0\n",
       "ticket         0\n",
       "fare           0\n",
       "cabin        774\n",
       "embarked       2\n",
       "home.dest    446\n",
       "dtype: int64"
      ]
     },
     "execution_count": 3,
     "metadata": {},
     "output_type": "execute_result"
    }
   ],
   "source": [
    "print(f'\\nNumber of NaN values in the columns:')\n",
    "data.isnull().sum(axis=0)"
   ]
  },
  {
   "cell_type": "code",
   "execution_count": 4,
   "metadata": {},
   "outputs": [
    {
     "data": {
      "text/html": [
       "<div>\n",
       "<style scoped>\n",
       "    .dataframe tbody tr th:only-of-type {\n",
       "        vertical-align: middle;\n",
       "    }\n",
       "\n",
       "    .dataframe tbody tr th {\n",
       "        vertical-align: top;\n",
       "    }\n",
       "\n",
       "    .dataframe thead th {\n",
       "        text-align: right;\n",
       "    }\n",
       "</style>\n",
       "<table border=\"1\" class=\"dataframe\">\n",
       "  <thead>\n",
       "    <tr style=\"text-align: right;\">\n",
       "      <th></th>\n",
       "      <th>name</th>\n",
       "      <th>embarked</th>\n",
       "    </tr>\n",
       "    <tr>\n",
       "      <th>ID</th>\n",
       "      <th></th>\n",
       "      <th></th>\n",
       "    </tr>\n",
       "  </thead>\n",
       "  <tbody>\n",
       "    <tr>\n",
       "      <th>218</th>\n",
       "      <td>Stone, Mrs. George Nelson (Martha Evelyn)</td>\n",
       "      <td>NaN</td>\n",
       "    </tr>\n",
       "    <tr>\n",
       "      <th>346</th>\n",
       "      <td>Icard, Miss. Amelie</td>\n",
       "      <td>NaN</td>\n",
       "    </tr>\n",
       "  </tbody>\n",
       "</table>\n",
       "</div>"
      ],
      "text/plain": [
       "                                          name embarked\n",
       "ID                                                     \n",
       "218  Stone, Mrs. George Nelson (Martha Evelyn)      NaN\n",
       "346                        Icard, Miss. Amelie      NaN"
      ]
     },
     "metadata": {},
     "output_type": "display_data"
    },
    {
     "data": {
      "text/html": [
       "<div>\n",
       "<style scoped>\n",
       "    .dataframe tbody tr th:only-of-type {\n",
       "        vertical-align: middle;\n",
       "    }\n",
       "\n",
       "    .dataframe tbody tr th {\n",
       "        vertical-align: top;\n",
       "    }\n",
       "\n",
       "    .dataframe thead tr th {\n",
       "        text-align: left;\n",
       "    }\n",
       "\n",
       "    .dataframe thead tr:last-of-type th {\n",
       "        text-align: right;\n",
       "    }\n",
       "</style>\n",
       "<table border=\"1\" class=\"dataframe\">\n",
       "  <thead>\n",
       "    <tr>\n",
       "      <th></th>\n",
       "      <th colspan=\"8\" halign=\"left\">survived</th>\n",
       "      <th colspan=\"2\" halign=\"left\">pclass</th>\n",
       "      <th>...</th>\n",
       "      <th colspan=\"2\" halign=\"left\">parch</th>\n",
       "      <th colspan=\"8\" halign=\"left\">fare</th>\n",
       "    </tr>\n",
       "    <tr>\n",
       "      <th></th>\n",
       "      <th>count</th>\n",
       "      <th>mean</th>\n",
       "      <th>std</th>\n",
       "      <th>min</th>\n",
       "      <th>25%</th>\n",
       "      <th>50%</th>\n",
       "      <th>75%</th>\n",
       "      <th>max</th>\n",
       "      <th>count</th>\n",
       "      <th>mean</th>\n",
       "      <th>...</th>\n",
       "      <th>75%</th>\n",
       "      <th>max</th>\n",
       "      <th>count</th>\n",
       "      <th>mean</th>\n",
       "      <th>std</th>\n",
       "      <th>min</th>\n",
       "      <th>25%</th>\n",
       "      <th>50%</th>\n",
       "      <th>75%</th>\n",
       "      <th>max</th>\n",
       "    </tr>\n",
       "    <tr>\n",
       "      <th>embarked</th>\n",
       "      <th></th>\n",
       "      <th></th>\n",
       "      <th></th>\n",
       "      <th></th>\n",
       "      <th></th>\n",
       "      <th></th>\n",
       "      <th></th>\n",
       "      <th></th>\n",
       "      <th></th>\n",
       "      <th></th>\n",
       "      <th></th>\n",
       "      <th></th>\n",
       "      <th></th>\n",
       "      <th></th>\n",
       "      <th></th>\n",
       "      <th></th>\n",
       "      <th></th>\n",
       "      <th></th>\n",
       "      <th></th>\n",
       "      <th></th>\n",
       "      <th></th>\n",
       "    </tr>\n",
       "  </thead>\n",
       "  <tbody>\n",
       "    <tr>\n",
       "      <th>C</th>\n",
       "      <td>219.0</td>\n",
       "      <td>0.557078</td>\n",
       "      <td>0.497869</td>\n",
       "      <td>0.0</td>\n",
       "      <td>0.0</td>\n",
       "      <td>1.0</td>\n",
       "      <td>1.0</td>\n",
       "      <td>1.0</td>\n",
       "      <td>219.0</td>\n",
       "      <td>1.922374</td>\n",
       "      <td>...</td>\n",
       "      <td>1.0</td>\n",
       "      <td>3.0</td>\n",
       "      <td>219.0</td>\n",
       "      <td>58.906604</td>\n",
       "      <td>77.285609</td>\n",
       "      <td>4.0125</td>\n",
       "      <td>13.825</td>\n",
       "      <td>27.7208</td>\n",
       "      <td>78.73335</td>\n",
       "      <td>512.3292</td>\n",
       "    </tr>\n",
       "    <tr>\n",
       "      <th>Q</th>\n",
       "      <td>88.0</td>\n",
       "      <td>0.375000</td>\n",
       "      <td>0.486897</td>\n",
       "      <td>0.0</td>\n",
       "      <td>0.0</td>\n",
       "      <td>0.0</td>\n",
       "      <td>1.0</td>\n",
       "      <td>1.0</td>\n",
       "      <td>88.0</td>\n",
       "      <td>2.875000</td>\n",
       "      <td>...</td>\n",
       "      <td>0.0</td>\n",
       "      <td>5.0</td>\n",
       "      <td>88.0</td>\n",
       "      <td>12.833241</td>\n",
       "      <td>13.462257</td>\n",
       "      <td>6.7500</td>\n",
       "      <td>7.750</td>\n",
       "      <td>7.7646</td>\n",
       "      <td>12.35000</td>\n",
       "      <td>90.0000</td>\n",
       "    </tr>\n",
       "    <tr>\n",
       "      <th>S</th>\n",
       "      <td>691.0</td>\n",
       "      <td>0.341534</td>\n",
       "      <td>0.474568</td>\n",
       "      <td>0.0</td>\n",
       "      <td>0.0</td>\n",
       "      <td>0.0</td>\n",
       "      <td>1.0</td>\n",
       "      <td>1.0</td>\n",
       "      <td>691.0</td>\n",
       "      <td>2.367583</td>\n",
       "      <td>...</td>\n",
       "      <td>0.0</td>\n",
       "      <td>9.0</td>\n",
       "      <td>691.0</td>\n",
       "      <td>27.714338</td>\n",
       "      <td>38.656831</td>\n",
       "      <td>0.0000</td>\n",
       "      <td>8.050</td>\n",
       "      <td>13.0000</td>\n",
       "      <td>27.82500</td>\n",
       "      <td>263.0000</td>\n",
       "    </tr>\n",
       "  </tbody>\n",
       "</table>\n",
       "<p>3 rows × 48 columns</p>\n",
       "</div>"
      ],
      "text/plain": [
       "         survived                                              pclass  \\\n",
       "            count      mean       std  min  25%  50%  75%  max  count   \n",
       "embarked                                                                \n",
       "C           219.0  0.557078  0.497869  0.0  0.0  1.0  1.0  1.0  219.0   \n",
       "Q            88.0  0.375000  0.486897  0.0  0.0  0.0  1.0  1.0   88.0   \n",
       "S           691.0  0.341534  0.474568  0.0  0.0  0.0  1.0  1.0  691.0   \n",
       "\n",
       "                    ... parch        fare                                \\\n",
       "              mean  ...   75%  max  count       mean        std     min   \n",
       "embarked            ...                                                   \n",
       "C         1.922374  ...   1.0  3.0  219.0  58.906604  77.285609  4.0125   \n",
       "Q         2.875000  ...   0.0  5.0   88.0  12.833241  13.462257  6.7500   \n",
       "S         2.367583  ...   0.0  9.0  691.0  27.714338  38.656831  0.0000   \n",
       "\n",
       "                                               \n",
       "             25%      50%       75%       max  \n",
       "embarked                                       \n",
       "C         13.825  27.7208  78.73335  512.3292  \n",
       "Q          7.750   7.7646  12.35000   90.0000  \n",
       "S          8.050  13.0000  27.82500  263.0000  \n",
       "\n",
       "[3 rows x 48 columns]"
      ]
     },
     "execution_count": 4,
     "metadata": {},
     "output_type": "execute_result"
    }
   ],
   "source": [
    "display(data[data['embarked'].isnull()][['name', 'embarked']])\n",
    "data.groupby( 'embarked').describe()"
   ]
  },
  {
   "cell_type": "code",
   "execution_count": 5,
   "metadata": {},
   "outputs": [
    {
     "name": "stdout",
     "output_type": "stream",
     "text": [
      "<class 'pandas.core.frame.DataFrame'>\n",
      "Int64Index: 1000 entries, 0 to 999\n",
      "Data columns (total 13 columns):\n",
      " #   Column       Non-Null Count  Dtype  \n",
      "---  ------       --------------  -----  \n",
      " 0   survived     1000 non-null   int64  \n",
      " 1   pclass       1000 non-null   int64  \n",
      " 2   name         1000 non-null   int16  \n",
      " 3   sex          1000 non-null   int8   \n",
      " 4   age          1000 non-null   int32  \n",
      " 5   sibsp        1000 non-null   int64  \n",
      " 6   parch        1000 non-null   int64  \n",
      " 7   ticket       1000 non-null   int16  \n",
      " 8   fare         1000 non-null   float64\n",
      " 9   cabin        1000 non-null   int16  \n",
      " 10  embarked     1000 non-null   int32  \n",
      " 11  home.dest    1000 non-null   int16  \n",
      " 12  family_size  1000 non-null   int64  \n",
      "dtypes: float64(1), int16(4), int32(2), int64(5), int8(1)\n",
      "memory usage: 71.3 KB\n"
     ]
    }
   ],
   "source": [
    "# S - is the largest group from embarked feature, so lets change this 2 NaN's to S.\n",
    "data['embarked'] = data['embarked'].fillna('S')\n",
    "data['embarked'] = data['embarked'].map( {'S': 0, 'C': 1, 'Q': 2} ).astype(int)\n",
    "\n",
    "# In Age column we can replace Nan's by -1.\n",
    "data['age'].fillna(data['age'].median(), inplace=True)\n",
    "data['age'] = data['age'].astype(int)\n",
    "\n",
    "# Creating new feature family_size\n",
    "data['family_size'] = data['sibsp'] + data['parch'] + 1\n",
    "data.drop( columns=['sibsp', 'parch'] )\n",
    "\n",
    "# Label encoding of strings columns\n",
    "object_dtype = data.select_dtypes(['object']).columns\n",
    "data[object_dtype] = data[object_dtype].astype('category').apply(lambda x: x.cat.codes)\n",
    "\n",
    "data.info()"
   ]
  },
  {
   "cell_type": "markdown",
   "metadata": {},
   "source": [
    "### Split the data"
   ]
  },
  {
   "cell_type": "code",
   "execution_count": 6,
   "metadata": {},
   "outputs": [
    {
     "name": "stdout",
     "output_type": "stream",
     "text": [
      "original data:   (1000, 12)\n",
      "train data:   (562, 12)\n",
      "validation data:   (188, 12)\n",
      "test data:   (250, 12)\n"
     ]
    }
   ],
   "source": [
    "Xdata = data.drop(columns='survived')\n",
    "ydata = data.survived \n",
    "\n",
    "rd_seed = 578\n",
    "Xtrain, Xtest, ytrain, ytest = train_test_split(Xdata, ydata, test_size=0.25, random_state=rd_seed) \n",
    "Xtrain, Xvalid, ytrain, yvalid = train_test_split(Xtrain, ytrain, test_size=0.25, random_state=rd_seed) \n",
    "print(f\"original data:   {Xdata.shape}\")\n",
    "print(f\"train data:   {Xtrain.shape}\")\n",
    "print(f\"validation data:   {Xvalid.shape}\")\n",
    "print(f\"test data:   {Xtest.shape}\")"
   ]
  },
  {
   "cell_type": "markdown",
   "metadata": {},
   "source": [
    "# #1: Decision Tree"
   ]
  },
  {
   "cell_type": "markdown",
   "metadata": {},
   "source": [
    "### Hyperparameter tuning - `max_depth` and `criterion`\n"
   ]
  },
  {
   "cell_type": "code",
   "execution_count": 7,
   "metadata": {},
   "outputs": [],
   "source": [
    "param_grid = {\n",
    "    'max_depth': range(1,50), \n",
    "    'criterion': ['entropy', 'gini']\n",
    "}"
   ]
  },
  {
   "cell_type": "code",
   "execution_count": 8,
   "metadata": {},
   "outputs": [],
   "source": [
    "param_comb = ParameterGrid(param_grid)\n",
    "valid_acc = []\n",
    "train_acc = []\n",
    "\n",
    "for params in param_comb:\n",
    "    tree_model = DecisionTreeClassifier(max_depth=params['max_depth'], criterion=params['criterion'])\n",
    "    tree_model.fit(Xtrain, ytrain)\n",
    "\n",
    "    train_acc.append(metrics.accuracy_score(ytrain, tree_model.predict(Xtrain)))\n",
    "    valid_acc.append(metrics.accuracy_score(yvalid, tree_model.predict(Xvalid)))\n"
   ]
  },
  {
   "cell_type": "code",
   "execution_count": 9,
   "metadata": {},
   "outputs": [
    {
     "name": "stdout",
     "output_type": "stream",
     "text": [
      "best hyperparameters:   {'max_depth': 3, 'criterion': 'entropy'}\n",
      "training acc:   0.8113879003558719\n",
      "validation acc:   0.7978723404255319\n"
     ]
    },
    {
     "data": {
      "image/png": "[encoded data removed]",
      "text/plain": [
       "<Figure size 1440x720 with 1 Axes>"
      ]
     },
     "metadata": {
      "needs_background": "light"
     },
     "output_type": "display_data"
    }
   ],
   "source": [
    "%matplotlib inline\n",
    "plt.figure(figsize=(20,10))\n",
    "plt.plot(train_acc,'or-')\n",
    "plt.plot(valid_acc,'ob-')\n",
    "plt.yticks(np.arange(0.6, 1.01, step=0.01))\n",
    "plt.xticks(np.arange(0, 61, step=2))\n",
    "plt.grid()\n",
    "plt.xlabel('hyperparametr index')\n",
    "plt.ylabel('accuracy')\n",
    "plt.legend(['train', 'validation'])\n",
    "\n",
    "best_params = param_comb[np.argmax(valid_acc)]\n",
    "print(f\"best hyperparameters:   {best_params}\")\n",
    "print(f\"training acc:   {train_acc[np.argmax(valid_acc)]}\")\n",
    "print(f\"validation acc:   {valid_acc[np.argmax(valid_acc)]}\")"
   ]
  },
  {
   "cell_type": "code",
   "execution_count": 10,
   "metadata": {},
   "outputs": [
    {
     "name": "stdout",
     "output_type": "stream",
     "text": [
      "accuracy score (train): 0.811388\n",
      "accuracy score (validation): 0.797872\n",
      "accuracy score (test): 0.816000\n"
     ]
    }
   ],
   "source": [
    "tree_model = DecisionTreeClassifier(**best_params)\n",
    "tree_model.fit(Xtrain, ytrain)\n",
    "print('accuracy score (train): {0:.6f}'.format(metrics.accuracy_score(ytrain, tree_model.predict(Xtrain))))\n",
    "print('accuracy score (validation): {0:.6f}'.format(metrics.accuracy_score(yvalid, tree_model.predict(Xvalid))))\n",
    "print('accuracy score (test): {0:.6f}'.format(metrics.accuracy_score(ytest, tree_model.predict(Xtest))))"
   ]
  },
  {
   "cell_type": "code",
   "execution_count": 11,
   "metadata": {
    "scrolled": false
   },
   "outputs": [],
   "source": [
    "# dt.predict(Xtest)"
   ]
  },
  {
   "cell_type": "markdown",
   "metadata": {},
   "source": [
    "# #2 Random Forest"
   ]
  },
  {
   "cell_type": "code",
   "execution_count": 12,
   "metadata": {},
   "outputs": [],
   "source": [
    "param_grid = {\n",
    "    'n_estimators': range(1, 100, 5),\n",
    "    'max_depth': range(1, 10),\n",
    "    'random_state': [rd_seed]\n",
    "}"
   ]
  },
  {
   "cell_type": "code",
   "execution_count": 13,
   "metadata": {},
   "outputs": [],
   "source": [
    "param_comb = ParameterGrid(param_grid)\n",
    "\n",
    "train_acc.clear()\n",
    "valid_acc.clear()\n",
    "for params in param_comb:\n",
    "    forest_model = RandomForestClassifier(**params).fit(Xtrain, ytrain)\n",
    "    \n",
    "    train_acc.append(metrics.accuracy_score(ytrain, forest_model.predict(Xtrain)))\n",
    "    valid_acc.append(metrics.accuracy_score(yvalid, forest_model.predict(Xvalid)))"
   ]
  },
  {
   "cell_type": "code",
   "execution_count": 14,
   "metadata": {},
   "outputs": [
    {
     "name": "stdout",
     "output_type": "stream",
     "text": [
      "best hyperparameters:   {'random_state': 578, 'n_estimators': 86, 'max_depth': 7}\n",
      "training acc:   0.9537366548042705\n",
      "validation acc:   0.8085106382978723\n"
     ]
    }
   ],
   "source": [
    "best_params = param_comb[np.argmax(valid_acc)]\n",
    "print(f\"best hyperparameters:   {best_params}\")\n",
    "print(f\"training acc:   {train_acc[np.argmax(train_acc)]}\")\n",
    "print(f\"validation acc:   {valid_acc[np.argmax(valid_acc)]}\")"
   ]
  },
  {
   "cell_type": "code",
   "execution_count": 15,
   "metadata": {},
   "outputs": [
    {
     "name": "stdout",
     "output_type": "stream",
     "text": [
      "accuracy score (train): 0.909253\n",
      "accuracy score (validation): 0.808511\n",
      "accuracy score (test): 0.812000\n"
     ]
    }
   ],
   "source": [
    "forest_model = RandomForestClassifier(**best_params)\n",
    "forest_model.fit(Xtrain, ytrain)\n",
    "print('accuracy score (train): {0:.6f}'.format(metrics.accuracy_score(ytrain, forest_model.predict(Xtrain))))\n",
    "print('accuracy score (validation): {0:.6f}'.format(metrics.accuracy_score(yvalid, forest_model.predict(Xvalid))))\n",
    "print('accuracy score (test): {0:.6f}'.format(metrics.accuracy_score(ytest, forest_model.predict(Xtest))))"
   ]
  },
  {
   "cell_type": "code",
   "execution_count": null,
   "metadata": {},
   "outputs": [],
   "source": []
  }
 ],
 "metadata": {
  "kernelspec": {
   "display_name": "Python 3",
   "language": "python",
   "name": "python3"
  },
  "language_info": {
   "codemirror_mode": {
    "name": "ipython",
    "version": 3
   },
   "file_extension": ".py",
   "mimetype": "text/x-python",
   "name": "python",
   "nbconvert_exporter": "python",
   "pygments_lexer": "ipython3",
   "version": "3.8.3"
  }
 },
 "nbformat": 4,
 "nbformat_minor": 4
}
