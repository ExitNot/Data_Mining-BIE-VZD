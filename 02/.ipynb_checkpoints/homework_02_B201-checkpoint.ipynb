{
 "cells": [
  {
   "cell_type": "markdown",
   "metadata": {},
   "source": [
    "# 2nd Homework - Data preprocessing and binary classification (deadline November 8th 23:59)\n",
    "\n",
    "  * In this homework you have to handle features of various data types.\n",
    "  * The features should be preprocessed and transformed to numeric representation, before training an ML model on the data.\n",
    "  \n",
    "> **Homework is assigned in a way that you have space for invention. Thinking of the _exact solution path_ is part of the assignment. Originality will be taken into account in the evaluation.**\n",
    "\n",
    "## Data source\n",
    "\n",
    "Your task is to predict the survival of Titanic passengers. Training data is in file **data.csv** and validation data in **evaluation.csv**.\n",
    "\n",
    "### Features\n",
    "* survived - 0 = No, 1 = Yes, **target variable**, \n",
    "* pclass - passenger's class, 1 = first, 2 = second, 3 = third\n",
    "* name\n",
    "* sex\n",
    "* age - in years\n",
    "* sibsp\t- number of siblings / spouses onboard\n",
    "* parch - number of parents / children onboard\n",
    "* ticket - ticket number\n",
    "* fare - ticket fare\n",
    "* cabin\t- cabin number\n",
    "* embarked\t- place of embarkment, C = Cherbourg, Q = Queenstown, S = Southampton\n",
    "* home.dest - Home/destination\n",
    "\n",
    "## Instructions\n",
    "\n",
    "**Basic points of the assignment (8 points)**:\n",
    "  * In the Jupyter notebook load **data.csv**. Split the data into subsets suitable for ML model training.\n",
    "  * Explore and transform particular features into a format suitable for the selected classification method.\n",
    "  * You can create new features (based on the existing ones), e.g. you can create a column with the length of the passenger's name. You can drop some features entirely too.\n",
    "  * Handle the missing values in the dataset.\n",
    "  * Select a suitable classification method from the lectures. Train it on the training set and tune the hyperparameters. Compute its accuracy on the training and validation set.\n",
    "  * Load data from the file **evaluation.csv**. Compute predictions from these data (there are no target variable values in the file). Create a file **results.csv** and save your predictions into two columns - ID and the prediction of surviving. Upload this file alongside the Jupyter notebook to the repository.\n",
    "  * Possible head of the file **results.csv**:\n",
    "  \n",
    "```\n",
    "ID,survived\n",
    "1000,0\n",
    "1001,1\n",
    "...\n",
    "```\n",
    "**Further points of assignment**, for possible more points (you can choose, maximum for the homework is 12):\n",
    "  * (up to 4 points) Apply all of the classification methods discussed in the lectures to the problem. Select the best one based on the accuracy on the validation set. Use cross-validation to estimate the real accuracy of the best model. Use this model for prediction on the **evaluation.csv** data.\n",
    "  * (up to 4 points) Try to use at least two advanced methods for filling missing values in the `age` feature. Explore the impact of these methods on the performance of the trained model. Use the method which you find to perform the best for the prediction on the **evaluation.csv** data.\n",
    "  \n",
    "## Submission notes\n",
    "\n",
    "  * Follow instructions at https://courses.fit.cvut.cz/BIE-VZD/homeworks/index.html\n",
    "  * Submit **Jupyter Notebook** (possibly with additional scripts) and file **results.csv** with the test predictions.\n",
    "  * Reviewer may allow you to finish or correct your homework to achieve additional points. However, the first version is crucial."
   ]
  },
  {
   "cell_type": "code",
   "execution_count": 3,
   "metadata": {},
   "outputs": [],
   "source": [
    "### your code\n"
   ]
  }
 ],
 "metadata": {
  "kernelspec": {
   "display_name": "Python 3",
   "language": "python",
   "name": "python3"
  },
  "language_info": {
   "codemirror_mode": {
    "name": "ipython",
    "version": 3
   },
   "file_extension": ".py",
   "mimetype": "text/x-python",
   "name": "python",
   "nbconvert_exporter": "python",
   "pygments_lexer": "ipython3",
   "version": "3.8.3"
  }
 },
 "nbformat": 4,
 "nbformat_minor": 4
}
