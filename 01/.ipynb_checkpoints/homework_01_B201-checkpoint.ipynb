{
 "cells": [
  {
   "cell_type": "markdown",
   "metadata": {},
   "source": [
    "# 1st Homework - data visualisation and web scraping (deadline October 18th)\n",
    "\n",
    "  * In this homework you should download (*scrape*) data from the web, process it and visualise.\n",
    "  * The objective is to download data from server https://www.psp.cz/en/sqw/hlasovani.sqw?o=8 regarding voting in the Chamber of Deputies of the Parliament of the Czech Republic, save it in a tabular form and create visualisations, which make exploration of the data easier and show interesting information about it.\n",
    "\n",
    "> **Unfortunately, the web page is only in Czech. However, it should be possible to navigate it. Please contact your tutorial teacher in case of any questions.**\n",
    "\n",
    "## Data\n",
    "\n",
    " * Download data from all votings of the current Chamber of Deputies (since 2017). Download details of voting of particular deputies.\n",
    " * Data should contain basic information about the voting - number of meeting, number of voting, point of the meeting and date.\n",
    "\n",
    "## Instructions\n",
    "\n",
    "> **Homework is assigned in a way that you have space for invention. Thinking of the _exact solution path_ is part of the assignment. Originality will be taken into account in the evaluation.**\n",
    "\n",
    "**Basic points of the assignment (8 points)**:\n",
    "  * Write Python script for downloading data. Download the data and save it in a suitable machine-readable format.\n",
    "  * **Wait at least 1 second between two consecutive requests to the server, to not overload it.**\n",
    "  * In the second part of the notebook, work with the data loaded from a local file. File(s) with downloaded data should be submitted as well (so the reviewer do not have to download the data again).\n",
    "  * Create visualisations to show the following:\n",
    "    * Deputies changing their parliamentary clubs.\n",
    "    * Attendance of individual deputies in the votings. Attendance of parliamentary clubs in the votings.\n",
    "    * How often individual parliamentary clubs vote the same and different.\n",
    "    * Are deputies in the same parliamentary club voting the same? Who are the biggest rebels?\n",
    "\n",
    "**Further points of assignment**, each for 2 points (maximum for the homework is 12):\n",
    "  * Visualise some time development in the data (e.g. attendance, change of agreement in voting among individual parliamentary clubs, etc.)\n",
    "  * Find individual deputies who have the most similar voting or attendance.\n",
    "  * Try to find particular voting, where deputies voted the most differently than traditionally.\n",
    "  \n",
    "## Tips and tricks\n",
    "  * Import libraries at the beginning of the notebook, or the beginning of scraping and visualisation parts.\n",
    "  * Use markdown cells (like this one) and headings to make orientation in the notebook easier.\n",
    "  * Select plots and visualisation matching the information you want to show. You can see galleries of libraries `matplotlib` and `seaborn` for inspiration.\n",
    "\n",
    "## Submission notes\n",
    "\n",
    "  * Follow instructions at https://courses.fit.cvut.cz/BIE-VZD/homeworks/index.html\n",
    "  * Submit **Jupyter Notebook** (possibly with additional scripts) and **file(s)** with downloaded data\n",
    "  * Reviewer may allow you to finish or correct your homework to achieve additional points. However, the first version is crucial."
   ]
  },
  {
   "cell_type": "code",
   "execution_count": 1,
   "metadata": {},
   "outputs": [],
   "source": [
    "import requests\n",
    "from bs4 import BeautifulSoup\n",
    "import pandas as pd\n",
    "import time\n",
    "import re\n",
    "import lxml.html\n",
    "\n",
    "\n",
    "class Deputy:\n",
    "    def __init__(self, name, id):\n",
    "        self.name = name\n",
    "        self.id = id\n",
    "        self.generate_info()\n",
    "        \n",
    "    def generate_info(self):\n",
    "        time.sleep(0.5)\n",
    "        if self.id == '6165':  # speaker exeption. His page is changed\n",
    "            self.polit_group = 'ANO 2011'\n",
    "            self.member_from = '26.10.2013'\n",
    "            return\n",
    "        self.url = str('https://public.psp.cz/en/sqw/detail.sqw?id=' + str(self.id) + '&o=8&l=cz')\n",
    "        r = requests.get(self.url)\n",
    "        soup = BeautifulSoup(r.content.decode('windows-1252', 'ignore'), 'html.parser')\n",
    "        # Politic group\n",
    "        polit_groups = [i for i in soup.find_all('a') if 'Political group' in str(i)]\n",
    "        for idx, p_group in enumerate(polit_groups):\n",
    "            polit_groups[idx] = str(str(p_group).split('Political group ', 1)[1])[:-4]\n",
    "        self.polit_group = polit_groups\n",
    "        # Member from\n",
    "        self.member_from = str(soup.find_all('li')[0]).split('member  from ')[1].replace('\\xa0', '')[:-5]\n",
    "        \n",
    "    def load_to_csv(self, path):\n",
    "        out = str(self.name) + ';' + str(self.id) + ';' + str(self.polit_group) + ';' + str(self.member_from) + '\\n'\n",
    "        with open(path, 'w') as file:\n",
    "            file.write(out)\n",
    "\n",
    "            \n",
    "class Voting():\n",
    "    def __init__(self, id, meeting, topic, date, result):\n",
    "        self.id = id\n",
    "        self.meeting = meeting\n",
    "        self.topic = topic\n",
    "        self.date = date\n",
    "        self.result = result\n",
    "        \n",
    "        self.url = 'https://public.psp.cz/en/sqw/hlasy.sqw?g=' + str(self.id) + '&l=en'\n",
    "#     add list with each deputy vote\n",
    "        "
   ]
  },
  {
   "cell_type": "code",
   "execution_count": 13,
   "metadata": {},
   "outputs": [],
   "source": [
    "\n",
    "def download_data(url):\n",
    "    vote_list = []\n",
    "    deput_list = []\n",
    "    # Step one\n",
    "    r = requests.get(url)\n",
    "    soup = BeautifulSoup(r.content.decode('windows-1252', 'ignore'), 'html.parser')\n",
    "    ahrefs = []\n",
    "    \n",
    "    for link in soup.find_all('a'):\n",
    "        ahrefs.append(link.get('href'))\n",
    "    \n",
    "    meeting_links = []\n",
    "    url = 'https://public.psp.cz/en/sqw/'\n",
    "    \n",
    "    for elem in ahrefs:\n",
    "        if elem.startswith('hl.sqw?o=8&s=') and len(elem) <= 15:\n",
    "            meeting_links.append(url + elem)\n",
    "    # Step two\n",
    "    r = requests.get(meeting_links[0])\n",
    "    r.encoding=\"windows-1252\"\n",
    "    soup = BeautifulSoup(r.content, 'lxml')\n",
    "\n",
    "    # soup.find_all('a', href=re.compile(\"phlasa.sqw\"))  -> alternative\n",
    "    link = soup.select_one(\"a[href^='phlasa.sqw']\") \n",
    "    link = re.search(r'\"([^\"]*)\"', str(link))\n",
    "    link = url + link.group()[1:-1]  # link == 'https://public.psp.cz/en/sqw/phlasa.sqw?o=8&l=en&pg=1'\n",
    "    \n",
    "    r = requests.get(link)\n",
    "    soup = BeautifulSoup(r.content.decode('windows-1252', 'ignore'), 'html.parser')\n",
    "    ahrefs.clear()\n",
    "    \n",
    "    for link in soup.find_all('a'):\n",
    "        ahrefs.append(link.get('href'))\n",
    "    \n",
    "#     for elem in ahrefs:\n",
    "#         if elem.startswith('hlasy.sqw?g='):\n",
    "#             id_list.append(str(elem.split('hlasy.sqw?g=')[1])[:-5])\n",
    "\n",
    "    pg_list = []\n",
    "    for elem in ahrefs:\n",
    "        if elem.startswith('phlasa.sqw?o=8&l=en&pg='):\n",
    "            pg_list.append(int(elem.split('phlasa.sqw?o=8&l=en&pg=')[1]))\n",
    "\n",
    "    for i in range(max(pg_list) + 1):\n",
    "        if i == 0:\n",
    "            continue\n",
    "        url = 'https://public.psp.cz/en/sqw/phlasa.sqw?o=8&l=en&pg=' + str(i)\n",
    "        r = requests.get(url)\n",
    "        soup = BeautifulSoup(r.content.decode('windows-1252', 'ignore'), 'html.parser')\n",
    "        ahrefs.clear()\n",
    "\n",
    "        # Step three\n",
    "        # Creating Votings data\n",
    "        for tr in soup.find_all('table')[0].find_all('tr'):\n",
    "            tds = []\n",
    "            for td in tr.find_all('td'):\n",
    "        #         display(td)\n",
    "                tds.append(td)\n",
    "            if not tds:\n",
    "                continue\n",
    "            # Meeting\n",
    "            meeting = tds.pop(0)\n",
    "            meeting = int(meeting.text)\n",
    "            # ID\n",
    "            id = tds.pop(0)\n",
    "            id = str(str(id.find('a').get('href')).split('hlasy.sqw?g=', 1)[1])[:-5]\n",
    "            # Topic\n",
    "            tds.remove(tds[0])\n",
    "            topic = tds.pop(0).text\n",
    "            # Date\n",
    "            date = tds.pop(0).text.replace('\\xa0', '')\n",
    "            # Result\n",
    "            result = tds.pop(0).text.replace('\\u00E8', '\\u010D').replace('\\xa0', ' ').replace('\\u00F8', '\\u0159').replace('\\u00EC', '\\u00E8')\n",
    "            if result == 'Přijato':\n",
    "                result = 'Accepted'\n",
    "            elif result == 'Zamítnuto':\n",
    "                result = 'Denied'\n",
    "            elif result == 'Přijato (zmatečné)':\n",
    "                result = 'Accepted (invalid)'\n",
    "            vote_list.append(Voting(id, meeting, topic, date, result))\n",
    "#         for i in vote_list:\n",
    "#             display(i.id)\n",
    "        # Step four\n",
    "        # Creating Depute data\n",
    "        for vote in vote_list:\n",
    "            \n",
    "            \n",
    "    \n",
    "    \n",
    "\n",
    "    \n",
    "        \n",
    "    "
   ]
  },
  {
   "cell_type": "code",
   "execution_count": null,
   "metadata": {},
   "outputs": [],
   "source": []
  },
  {
   "cell_type": "code",
   "execution_count": 14,
   "metadata": {
    "scrolled": true
   },
   "outputs": [
    {
     "data": {
      "text/plain": [
       "[<__main__.Voting at 0x2a7d63a8a60>,\n",
       " <__main__.Voting at 0x2a7d63a8a90>,\n",
       " <__main__.Voting at 0x2a7d63a8ac0>,\n",
       " <__main__.Voting at 0x2a7d63a8af0>,\n",
       " <__main__.Voting at 0x2a7d63a8b20>,\n",
       " <__main__.Voting at 0x2a7d63a8b50>,\n",
       " <__main__.Voting at 0x2a7d63a8b80>,\n",
       " <__main__.Voting at 0x2a7d63a8bb0>,\n",
       " <__main__.Voting at 0x2a7d63a8be0>,\n",
       " <__main__.Voting at 0x2a7d63a8c10>,\n",
       " <__main__.Voting at 0x2a7d63a8c40>,\n",
       " <__main__.Voting at 0x2a7d63a8c70>,\n",
       " <__main__.Voting at 0x2a7d63a8ca0>,\n",
       " <__main__.Voting at 0x2a7d63a8cd0>,\n",
       " <__main__.Voting at 0x2a7d63a8d00>,\n",
       " <__main__.Voting at 0x2a7d63a8d30>,\n",
       " <__main__.Voting at 0x2a7d63a8d60>,\n",
       " <__main__.Voting at 0x2a7d63a8d90>,\n",
       " <__main__.Voting at 0x2a7d63a8dc0>,\n",
       " <__main__.Voting at 0x2a7d63a8df0>,\n",
       " <__main__.Voting at 0x2a7d643efa0>,\n",
       " <__main__.Voting at 0x2a7d643efd0>,\n",
       " <__main__.Voting at 0x2a7d643ef10>,\n",
       " <__main__.Voting at 0x2a7d643ee80>,\n",
       " <__main__.Voting at 0x2a7d643ef70>,\n",
       " <__main__.Voting at 0x2a7d643ee50>,\n",
       " <__main__.Voting at 0x2a7d643eee0>,\n",
       " <__main__.Voting at 0x2a7d643ef40>,\n",
       " <__main__.Voting at 0x2a7d643eeb0>,\n",
       " <__main__.Voting at 0x2a7d6445040>,\n",
       " <__main__.Voting at 0x2a7d64451c0>,\n",
       " <__main__.Voting at 0x2a7d64451f0>,\n",
       " <__main__.Voting at 0x2a7d6445220>,\n",
       " <__main__.Voting at 0x2a7d6445250>,\n",
       " <__main__.Voting at 0x2a7d6445280>,\n",
       " <__main__.Voting at 0x2a7d64452b0>,\n",
       " <__main__.Voting at 0x2a7d64452e0>,\n",
       " <__main__.Voting at 0x2a7d6445310>,\n",
       " <__main__.Voting at 0x2a7d6445340>,\n",
       " <__main__.Voting at 0x2a7d6445370>,\n",
       " <__main__.Voting at 0x2a7d64da6a0>,\n",
       " <__main__.Voting at 0x2a7d64da6d0>,\n",
       " <__main__.Voting at 0x2a7d64da700>,\n",
       " <__main__.Voting at 0x2a7d64da730>,\n",
       " <__main__.Voting at 0x2a7d64da760>,\n",
       " <__main__.Voting at 0x2a7d64da790>,\n",
       " <__main__.Voting at 0x2a7d64da7f0>,\n",
       " <__main__.Voting at 0x2a7d64da820>,\n",
       " <__main__.Voting at 0x2a7d64da850>,\n",
       " <__main__.Voting at 0x2a7d64da880>,\n",
       " <__main__.Voting at 0x2a7d64da8b0>,\n",
       " <__main__.Voting at 0x2a7d64da8e0>,\n",
       " <__main__.Voting at 0x2a7d64da910>,\n",
       " <__main__.Voting at 0x2a7d64da940>,\n",
       " <__main__.Voting at 0x2a7d64da970>,\n",
       " <__main__.Voting at 0x2a7d64da9a0>,\n",
       " <__main__.Voting at 0x2a7d64da9d0>,\n",
       " <__main__.Voting at 0x2a7d64daa00>,\n",
       " <__main__.Voting at 0x2a7d64daa30>,\n",
       " <__main__.Voting at 0x2a7d64daa60>,\n",
       " <__main__.Voting at 0x2a7d656ef40>,\n",
       " <__main__.Voting at 0x2a7d656ef70>,\n",
       " <__main__.Voting at 0x2a7d656efa0>,\n",
       " <__main__.Voting at 0x2a7d656efd0>,\n",
       " <__main__.Voting at 0x2a7d656eeb0>,\n",
       " <__main__.Voting at 0x2a7d656ee20>,\n",
       " <__main__.Voting at 0x2a7d656ef10>,\n",
       " <__main__.Voting at 0x2a7d656eee0>,\n",
       " <__main__.Voting at 0x2a7d656edf0>,\n",
       " <__main__.Voting at 0x2a7d656ee80>,\n",
       " <__main__.Voting at 0x2a7d656ee50>,\n",
       " <__main__.Voting at 0x2a7d6568040>,\n",
       " <__main__.Voting at 0x2a7d65681c0>,\n",
       " <__main__.Voting at 0x2a7d65681f0>,\n",
       " <__main__.Voting at 0x2a7d6568220>,\n",
       " <__main__.Voting at 0x2a7d6568250>,\n",
       " <__main__.Voting at 0x2a7d6568280>,\n",
       " <__main__.Voting at 0x2a7d65682b0>,\n",
       " <__main__.Voting at 0x2a7d65682e0>,\n",
       " <__main__.Voting at 0x2a7d6568310>,\n",
       " <__main__.Voting at 0x2a7d75dabb0>,\n",
       " <__main__.Voting at 0x2a7d75dabe0>,\n",
       " <__main__.Voting at 0x2a7d75dac10>,\n",
       " <__main__.Voting at 0x2a7d75daa90>,\n",
       " <__main__.Voting at 0x2a7d75daca0>,\n",
       " <__main__.Voting at 0x2a7d75dacd0>,\n",
       " <__main__.Voting at 0x2a7d75dad00>,\n",
       " <__main__.Voting at 0x2a7d75dad30>,\n",
       " <__main__.Voting at 0x2a7d75dad60>,\n",
       " <__main__.Voting at 0x2a7d75dad90>,\n",
       " <__main__.Voting at 0x2a7d75dadc0>,\n",
       " <__main__.Voting at 0x2a7d75dadf0>,\n",
       " <__main__.Voting at 0x2a7d75dae20>,\n",
       " <__main__.Voting at 0x2a7d75dae50>,\n",
       " <__main__.Voting at 0x2a7d75dae80>,\n",
       " <__main__.Voting at 0x2a7d75daeb0>,\n",
       " <__main__.Voting at 0x2a7d75daee0>,\n",
       " <__main__.Voting at 0x2a7d75daf10>,\n",
       " <__main__.Voting at 0x2a7d75daf40>,\n",
       " <__main__.Voting at 0x2a7d75daf70>,\n",
       " <__main__.Voting at 0x2a7d7677430>,\n",
       " <__main__.Voting at 0x2a7d7677460>,\n",
       " <__main__.Voting at 0x2a7d75da9d0>,\n",
       " <__main__.Voting at 0x2a7d75da820>,\n",
       " <__main__.Voting at 0x2a7d75da7f0>,\n",
       " <__main__.Voting at 0x2a7d75da7c0>,\n",
       " <__main__.Voting at 0x2a7d75da520>,\n",
       " <__main__.Voting at 0x2a7d75da790>,\n",
       " <__main__.Voting at 0x2a7d75da700>,\n",
       " <__main__.Voting at 0x2a7d75da760>,\n",
       " <__main__.Voting at 0x2a7d75da730>,\n",
       " <__main__.Voting at 0x2a7d75da6d0>,\n",
       " <__main__.Voting at 0x2a7d75da640>,\n",
       " <__main__.Voting at 0x2a7d75da6a0>,\n",
       " <__main__.Voting at 0x2a7d75da670>,\n",
       " <__main__.Voting at 0x2a7d75da610>,\n",
       " <__main__.Voting at 0x2a7d75da580>,\n",
       " <__main__.Voting at 0x2a7d75da5e0>,\n",
       " <__main__.Voting at 0x2a7d75da5b0>,\n",
       " <__main__.Voting at 0x2a7d75da550>,\n",
       " <__main__.Voting at 0x2a7d5f09430>,\n",
       " <__main__.Voting at 0x2a7d5f09fd0>,\n",
       " <__main__.Voting at 0x2a7d5f097f0>,\n",
       " <__main__.Voting at 0x2a7d5f09460>,\n",
       " <__main__.Voting at 0x2a7d5f09e50>,\n",
       " <__main__.Voting at 0x2a7d5f09610>,\n",
       " <__main__.Voting at 0x2a7d5f09760>,\n",
       " <__main__.Voting at 0x2a7d5f09af0>,\n",
       " <__main__.Voting at 0x2a7d5f09f70>,\n",
       " <__main__.Voting at 0x2a7d5f09a60>,\n",
       " <__main__.Voting at 0x2a7d5f09b50>,\n",
       " <__main__.Voting at 0x2a7d5f093a0>,\n",
       " <__main__.Voting at 0x2a7d5f092e0>,\n",
       " <__main__.Voting at 0x2a7d5f09dc0>,\n",
       " <__main__.Voting at 0x2a7d5f09400>,\n",
       " <__main__.Voting at 0x2a7d5f09910>,\n",
       " <__main__.Voting at 0x2a7d5f09310>,\n",
       " <__main__.Voting at 0x2a7d5f09d00>,\n",
       " <__main__.Voting at 0x2a7d5f09700>,\n",
       " <__main__.Voting at 0x2a7d5f09f40>,\n",
       " <__main__.Voting at 0x2a7d18031f0>,\n",
       " <__main__.Voting at 0x2a7d1803100>,\n",
       " <__main__.Voting at 0x2a7d18039d0>,\n",
       " <__main__.Voting at 0x2a7d18038e0>,\n",
       " <__main__.Voting at 0x2a7d1803160>,\n",
       " <__main__.Voting at 0x2a7d1803970>,\n",
       " <__main__.Voting at 0x2a7d1803190>,\n",
       " <__main__.Voting at 0x2a7d18032e0>,\n",
       " <__main__.Voting at 0x2a7d1803d00>,\n",
       " <__main__.Voting at 0x2a7d1803f10>,\n",
       " <__main__.Voting at 0x2a7d1803130>,\n",
       " <__main__.Voting at 0x2a7d1803820>,\n",
       " <__main__.Voting at 0x2a7d17e7730>,\n",
       " <__main__.Voting at 0x2a7d17e77f0>,\n",
       " <__main__.Voting at 0x2a7d17e7850>,\n",
       " <__main__.Voting at 0x2a7d17e7f70>,\n",
       " <__main__.Voting at 0x2a7d17e78b0>,\n",
       " <__main__.Voting at 0x2a7d17e75e0>,\n",
       " <__main__.Voting at 0x2a7d17e7a00>,\n",
       " <__main__.Voting at 0x2a7d17e7ee0>,\n",
       " <__main__.Voting at 0x2a7d5aad0d0>,\n",
       " <__main__.Voting at 0x2a7d5aad0a0>,\n",
       " <__main__.Voting at 0x2a7d5aad220>,\n",
       " <__main__.Voting at 0x2a7d5ac01f0>,\n",
       " <__main__.Voting at 0x2a7d5ac0100>,\n",
       " <__main__.Voting at 0x2a7d5ac0070>,\n",
       " <__main__.Voting at 0x2a7d5ac0d60>,\n",
       " <__main__.Voting at 0x2a7d5ac0130>,\n",
       " <__main__.Voting at 0x2a7d5ac0c10>,\n",
       " <__main__.Voting at 0x2a7d5ac0dc0>,\n",
       " <__main__.Voting at 0x2a7d5ac0f70>,\n",
       " <__main__.Voting at 0x2a7d5ac0ee0>,\n",
       " <__main__.Voting at 0x2a7d5ac0af0>,\n",
       " <__main__.Voting at 0x2a7d5ac0ca0>,\n",
       " <__main__.Voting at 0x2a7d5ac0c40>,\n",
       " <__main__.Voting at 0x2a7d5ac0a60>,\n",
       " <__main__.Voting at 0x2a7d5ac0e20>,\n",
       " <__main__.Voting at 0x2a7d5ac0df0>,\n",
       " <__main__.Voting at 0x2a7d5ac0d90>,\n",
       " <__main__.Voting at 0x2a7d5ac0d30>,\n",
       " <__main__.Voting at 0x2a7d4f9c7c0>,\n",
       " <__main__.Voting at 0x2a7d4f9c6d0>,\n",
       " <__main__.Voting at 0x2a7d4f9c850>,\n",
       " <__main__.Voting at 0x2a7d4f9c730>,\n",
       " <__main__.Voting at 0x2a7d4f9cd30>,\n",
       " <__main__.Voting at 0x2a7d4f9c760>,\n",
       " <__main__.Voting at 0x2a7d4f9c820>,\n",
       " <__main__.Voting at 0x2a7d4f9c370>,\n",
       " <__main__.Voting at 0x2a7d4f9ccd0>,\n",
       " <__main__.Voting at 0x2a7d4f9c580>,\n",
       " <__main__.Voting at 0x2a7d4f9cb80>,\n",
       " <__main__.Voting at 0x2a7d4f9c490>,\n",
       " <__main__.Voting at 0x2a7d4f9c310>,\n",
       " <__main__.Voting at 0x2a7d4f9c2b0>,\n",
       " <__main__.Voting at 0x2a7d4f9c190>,\n",
       " <__main__.Voting at 0x2a7d4f9c340>,\n",
       " <__main__.Voting at 0x2a7d4f9cd90>,\n",
       " <__main__.Voting at 0x2a7d4f9c910>,\n",
       " <__main__.Voting at 0x2a7d4f9c610>,\n",
       " <__main__.Voting at 0x2a7d4f9c9a0>,\n",
       " <__main__.Voting at 0x2a7d3fc3af0>,\n",
       " <__main__.Voting at 0x2a7d3fc3490>,\n",
       " <__main__.Voting at 0x2a7d3fc3070>,\n",
       " <__main__.Voting at 0x2a7d3fc3850>,\n",
       " <__main__.Voting at 0x2a7d3fc3280>,\n",
       " <__main__.Voting at 0x2a7d3fc3df0>,\n",
       " <__main__.Voting at 0x2a7d3fc3ca0>,\n",
       " <__main__.Voting at 0x2a7d3fc3fa0>,\n",
       " <__main__.Voting at 0x2a7d3fc31c0>,\n",
       " <__main__.Voting at 0x2a7d3fc31f0>,\n",
       " <__main__.Voting at 0x2a7d3fc3190>,\n",
       " <__main__.Voting at 0x2a7d3fc3220>,\n",
       " <__main__.Voting at 0x2a7d3fc3250>,\n",
       " <__main__.Voting at 0x2a7d3fc32e0>,\n",
       " <__main__.Voting at 0x2a7d3fc3310>,\n",
       " <__main__.Voting at 0x2a7d3fc3ac0>,\n",
       " <__main__.Voting at 0x2a7d3fc3b80>,\n",
       " <__main__.Voting at 0x2a7d3fc3a90>,\n",
       " <__main__.Voting at 0x2a7d3fc3d30>,\n",
       " <__main__.Voting at 0x2a7d3fc3c10>,\n",
       " <__main__.Voting at 0x2a7d6137460>,\n",
       " <__main__.Voting at 0x2a7d6137490>,\n",
       " <__main__.Voting at 0x2a7d61374c0>,\n",
       " <__main__.Voting at 0x2a7d61374f0>,\n",
       " <__main__.Voting at 0x2a7d6137520>,\n",
       " <__main__.Voting at 0x2a7d6137550>,\n",
       " <__main__.Voting at 0x2a7d6137580>,\n",
       " <__main__.Voting at 0x2a7d61375b0>,\n",
       " <__main__.Voting at 0x2a7d61375e0>,\n",
       " <__main__.Voting at 0x2a7d6137610>,\n",
       " <__main__.Voting at 0x2a7d6137640>,\n",
       " <__main__.Voting at 0x2a7d6137670>,\n",
       " <__main__.Voting at 0x2a7d61376a0>,\n",
       " <__main__.Voting at 0x2a7d61376d0>,\n",
       " <__main__.Voting at 0x2a7d6137700>,\n",
       " <__main__.Voting at 0x2a7d6137730>,\n",
       " <__main__.Voting at 0x2a7d6137760>,\n",
       " <__main__.Voting at 0x2a7d6137790>,\n",
       " <__main__.Voting at 0x2a7d61377c0>,\n",
       " <__main__.Voting at 0x2a7d61377f0>,\n",
       " <__main__.Voting at 0x2a7d768ea60>,\n",
       " <__main__.Voting at 0x2a7d768ea90>,\n",
       " <__main__.Voting at 0x2a7d768eac0>,\n",
       " <__main__.Voting at 0x2a7d768eaf0>,\n",
       " <__main__.Voting at 0x2a7d768eb20>,\n",
       " <__main__.Voting at 0x2a7d768eb50>,\n",
       " <__main__.Voting at 0x2a7d768eb80>,\n",
       " <__main__.Voting at 0x2a7d768ebb0>,\n",
       " <__main__.Voting at 0x2a7d768ebe0>,\n",
       " <__main__.Voting at 0x2a7d768ec10>,\n",
       " <__main__.Voting at 0x2a7d768ec40>,\n",
       " <__main__.Voting at 0x2a7d768ec70>,\n",
       " <__main__.Voting at 0x2a7d768eca0>,\n",
       " <__main__.Voting at 0x2a7d768ecd0>,\n",
       " <__main__.Voting at 0x2a7d768ed00>,\n",
       " <__main__.Voting at 0x2a7d768ed30>,\n",
       " <__main__.Voting at 0x2a7d768ed60>,\n",
       " <__main__.Voting at 0x2a7d768ed90>,\n",
       " <__main__.Voting at 0x2a7d768edc0>,\n",
       " <__main__.Voting at 0x2a7d768edf0>,\n",
       " <__main__.Voting at 0x2a7d64295b0>,\n",
       " <__main__.Voting at 0x2a7d64295e0>,\n",
       " <__main__.Voting at 0x2a7d6429610>,\n",
       " <__main__.Voting at 0x2a7d6429640>,\n",
       " <__main__.Voting at 0x2a7d6429670>,\n",
       " <__main__.Voting at 0x2a7d64296a0>,\n",
       " <__main__.Voting at 0x2a7d64296d0>,\n",
       " <__main__.Voting at 0x2a7d6429700>,\n",
       " <__main__.Voting at 0x2a7d6429730>,\n",
       " <__main__.Voting at 0x2a7d6429760>,\n",
       " <__main__.Voting at 0x2a7d6429790>,\n",
       " <__main__.Voting at 0x2a7d64297c0>,\n",
       " <__main__.Voting at 0x2a7d64297f0>,\n",
       " <__main__.Voting at 0x2a7d6429820>,\n",
       " <__main__.Voting at 0x2a7d6429850>,\n",
       " <__main__.Voting at 0x2a7d6429880>,\n",
       " <__main__.Voting at 0x2a7d64298b0>,\n",
       " <__main__.Voting at 0x2a7d64298e0>,\n",
       " <__main__.Voting at 0x2a7d6429910>,\n",
       " <__main__.Voting at 0x2a7d6429940>,\n",
       " <__main__.Voting at 0x2a7d5f85670>,\n",
       " <__main__.Voting at 0x2a7d5f856a0>,\n",
       " <__main__.Voting at 0x2a7d5f856d0>,\n",
       " <__main__.Voting at 0x2a7d5f85700>,\n",
       " <__main__.Voting at 0x2a7d5f85730>,\n",
       " <__main__.Voting at 0x2a7d5f85760>,\n",
       " <__main__.Voting at 0x2a7d5f85790>,\n",
       " <__main__.Voting at 0x2a7d5f857c0>,\n",
       " <__main__.Voting at 0x2a7d5f857f0>,\n",
       " <__main__.Voting at 0x2a7d5f85820>,\n",
       " <__main__.Voting at 0x2a7d5f85850>,\n",
       " <__main__.Voting at 0x2a7d5f85880>,\n",
       " <__main__.Voting at 0x2a7d5f858b0>,\n",
       " <__main__.Voting at 0x2a7d5f858e0>,\n",
       " <__main__.Voting at 0x2a7d5f85910>,\n",
       " <__main__.Voting at 0x2a7d5f85940>,\n",
       " <__main__.Voting at 0x2a7d5f85970>,\n",
       " <__main__.Voting at 0x2a7d5f859a0>,\n",
       " <__main__.Voting at 0x2a7d5f859d0>,\n",
       " <__main__.Voting at 0x2a7d5f85a00>,\n",
       " <__main__.Voting at 0x2a7d6344370>,\n",
       " <__main__.Voting at 0x2a7d63443a0>,\n",
       " <__main__.Voting at 0x2a7d63443d0>,\n",
       " <__main__.Voting at 0x2a7d6344400>,\n",
       " <__main__.Voting at 0x2a7d6344430>,\n",
       " <__main__.Voting at 0x2a7d6344460>,\n",
       " <__main__.Voting at 0x2a7d6344490>,\n",
       " <__main__.Voting at 0x2a7d63444c0>,\n",
       " <__main__.Voting at 0x2a7d63444f0>,\n",
       " <__main__.Voting at 0x2a7d6344520>,\n",
       " <__main__.Voting at 0x2a7d6344550>,\n",
       " <__main__.Voting at 0x2a7d6344580>,\n",
       " <__main__.Voting at 0x2a7d63445b0>,\n",
       " <__main__.Voting at 0x2a7d63445e0>,\n",
       " <__main__.Voting at 0x2a7d6344610>,\n",
       " <__main__.Voting at 0x2a7d6344640>,\n",
       " <__main__.Voting at 0x2a7d6344670>,\n",
       " <__main__.Voting at 0x2a7d63446a0>,\n",
       " <__main__.Voting at 0x2a7d63446d0>,\n",
       " <__main__.Voting at 0x2a7d6344700>,\n",
       " <__main__.Voting at 0x2a7d5e80fa0>,\n",
       " <__main__.Voting at 0x2a7d5e81220>,\n",
       " <__main__.Voting at 0x2a7d5e81250>,\n",
       " <__main__.Voting at 0x2a7d5e81280>,\n",
       " <__main__.Voting at 0x2a7d5e812b0>,\n",
       " <__main__.Voting at 0x2a7d5e812e0>,\n",
       " <__main__.Voting at 0x2a7d5e81310>,\n",
       " <__main__.Voting at 0x2a7d5e81340>,\n",
       " <__main__.Voting at 0x2a7d5e81370>,\n",
       " <__main__.Voting at 0x2a7d5e813a0>,\n",
       " <__main__.Voting at 0x2a7d5e813d0>,\n",
       " <__main__.Voting at 0x2a7d5e81400>,\n",
       " <__main__.Voting at 0x2a7d5e81430>,\n",
       " <__main__.Voting at 0x2a7d5e81460>,\n",
       " <__main__.Voting at 0x2a7d5e81490>,\n",
       " <__main__.Voting at 0x2a7d5e814c0>,\n",
       " <__main__.Voting at 0x2a7d5e814f0>,\n",
       " <__main__.Voting at 0x2a7d5e81520>,\n",
       " <__main__.Voting at 0x2a7d5e81550>,\n",
       " <__main__.Voting at 0x2a7d5e81580>,\n",
       " <__main__.Voting at 0x2a7d6492fa0>,\n",
       " <__main__.Voting at 0x2a7d6492f70>,\n",
       " <__main__.Voting at 0x2a7d6492fd0>,\n",
       " <__main__.Voting at 0x2a7d64a8190>,\n",
       " <__main__.Voting at 0x2a7d64a81c0>,\n",
       " <__main__.Voting at 0x2a7d64a81f0>,\n",
       " <__main__.Voting at 0x2a7d64a8220>,\n",
       " <__main__.Voting at 0x2a7d64a8250>,\n",
       " <__main__.Voting at 0x2a7d64a8280>,\n",
       " <__main__.Voting at 0x2a7d64a82b0>,\n",
       " <__main__.Voting at 0x2a7d64a82e0>,\n",
       " <__main__.Voting at 0x2a7d64a8310>,\n",
       " <__main__.Voting at 0x2a7d64a8340>,\n",
       " <__main__.Voting at 0x2a7d64a8370>,\n",
       " <__main__.Voting at 0x2a7d64a83a0>,\n",
       " <__main__.Voting at 0x2a7d64a83d0>,\n",
       " <__main__.Voting at 0x2a7d64a8400>,\n",
       " <__main__.Voting at 0x2a7d64a8430>,\n",
       " <__main__.Voting at 0x2a7d64a8460>,\n",
       " <__main__.Voting at 0x2a7d64a8490>,\n",
       " <__main__.Voting at 0x2a7d65cec70>,\n",
       " <__main__.Voting at 0x2a7d65ceca0>,\n",
       " <__main__.Voting at 0x2a7d65cecd0>,\n",
       " <__main__.Voting at 0x2a7d65ced00>,\n",
       " <__main__.Voting at 0x2a7d65ced30>,\n",
       " <__main__.Voting at 0x2a7d65ced60>,\n",
       " <__main__.Voting at 0x2a7d65ced90>,\n",
       " <__main__.Voting at 0x2a7d65cedc0>,\n",
       " <__main__.Voting at 0x2a7d65cedf0>,\n",
       " <__main__.Voting at 0x2a7d65cee20>,\n",
       " <__main__.Voting at 0x2a7d65cee50>,\n",
       " <__main__.Voting at 0x2a7d65cee80>,\n",
       " <__main__.Voting at 0x2a7d65ceeb0>,\n",
       " <__main__.Voting at 0x2a7d65ceee0>,\n",
       " <__main__.Voting at 0x2a7d65cef10>,\n",
       " <__main__.Voting at 0x2a7d65cef40>,\n",
       " <__main__.Voting at 0x2a7d65cef70>,\n",
       " <__main__.Voting at 0x2a7d65cefa0>,\n",
       " <__main__.Voting at 0x2a7d65cefd0>,\n",
       " <__main__.Voting at 0x2a7d65ceb50>,\n",
       " <__main__.Voting at 0x2a7d6369d30>,\n",
       " <__main__.Voting at 0x2a7d6369d60>,\n",
       " <__main__.Voting at 0x2a7d6369d90>,\n",
       " <__main__.Voting at 0x2a7d6369dc0>,\n",
       " <__main__.Voting at 0x2a7d6369df0>,\n",
       " <__main__.Voting at 0x2a7d6369e20>,\n",
       " <__main__.Voting at 0x2a7d6369e50>,\n",
       " <__main__.Voting at 0x2a7d6369e80>,\n",
       " <__main__.Voting at 0x2a7d6369eb0>,\n",
       " <__main__.Voting at 0x2a7d6369ee0>,\n",
       " <__main__.Voting at 0x2a7d6369f10>,\n",
       " <__main__.Voting at 0x2a7d6369f40>,\n",
       " <__main__.Voting at 0x2a7d6369f70>,\n",
       " <__main__.Voting at 0x2a7d6369fa0>,\n",
       " <__main__.Voting at 0x2a7d6369fd0>,\n",
       " <__main__.Voting at 0x2a7d6369c10>,\n",
       " <__main__.Voting at 0x2a7d6369ca0>,\n",
       " <__main__.Voting at 0x2a7d6369d00>,\n",
       " <__main__.Voting at 0x2a7d6369c70>,\n",
       " <__main__.Voting at 0x2a7d6369cd0>,\n",
       " <__main__.Voting at 0x2a7d61949d0>,\n",
       " <__main__.Voting at 0x2a7d6194a00>,\n",
       " <__main__.Voting at 0x2a7d6194a30>,\n",
       " <__main__.Voting at 0x2a7d6194a60>,\n",
       " <__main__.Voting at 0x2a7d6194a90>,\n",
       " <__main__.Voting at 0x2a7d6194ac0>,\n",
       " <__main__.Voting at 0x2a7d6194af0>,\n",
       " <__main__.Voting at 0x2a7d6194b20>,\n",
       " <__main__.Voting at 0x2a7d6194b50>,\n",
       " <__main__.Voting at 0x2a7d6194b80>,\n",
       " <__main__.Voting at 0x2a7d6194bb0>,\n",
       " <__main__.Voting at 0x2a7d6194be0>,\n",
       " <__main__.Voting at 0x2a7d6194c10>,\n",
       " <__main__.Voting at 0x2a7d6194c40>,\n",
       " <__main__.Voting at 0x2a7d6194c70>,\n",
       " <__main__.Voting at 0x2a7d6194ca0>,\n",
       " <__main__.Voting at 0x2a7d6194cd0>,\n",
       " <__main__.Voting at 0x2a7d6194d00>,\n",
       " <__main__.Voting at 0x2a7d6194d30>,\n",
       " <__main__.Voting at 0x2a7d6194d60>,\n",
       " <__main__.Voting at 0x2a7d76c0af0>,\n",
       " <__main__.Voting at 0x2a7d76c0b20>,\n",
       " <__main__.Voting at 0x2a7d76c0b50>,\n",
       " <__main__.Voting at 0x2a7d76c0b80>,\n",
       " <__main__.Voting at 0x2a7d76c0bb0>,\n",
       " <__main__.Voting at 0x2a7d76c0be0>,\n",
       " <__main__.Voting at 0x2a7d76c0c10>,\n",
       " <__main__.Voting at 0x2a7d76c0c40>,\n",
       " <__main__.Voting at 0x2a7d76c0c70>,\n",
       " <__main__.Voting at 0x2a7d76c0ca0>,\n",
       " <__main__.Voting at 0x2a7d76c0cd0>,\n",
       " <__main__.Voting at 0x2a7d76c0d00>,\n",
       " <__main__.Voting at 0x2a7d76c0d30>,\n",
       " <__main__.Voting at 0x2a7d76c0d60>,\n",
       " <__main__.Voting at 0x2a7d76c0d90>,\n",
       " <__main__.Voting at 0x2a7d76c0dc0>,\n",
       " <__main__.Voting at 0x2a7d76c0df0>,\n",
       " <__main__.Voting at 0x2a7d76c0e20>,\n",
       " <__main__.Voting at 0x2a7d76c0e50>,\n",
       " <__main__.Voting at 0x2a7d76c0e80>,\n",
       " <__main__.Voting at 0x2a7d775adc0>,\n",
       " <__main__.Voting at 0x2a7d775adf0>,\n",
       " <__main__.Voting at 0x2a7d775ae20>,\n",
       " <__main__.Voting at 0x2a7d775ae50>,\n",
       " <__main__.Voting at 0x2a7d775ae80>,\n",
       " <__main__.Voting at 0x2a7d775aeb0>,\n",
       " <__main__.Voting at 0x2a7d775aee0>,\n",
       " <__main__.Voting at 0x2a7d775af10>,\n",
       " <__main__.Voting at 0x2a7d775af40>,\n",
       " <__main__.Voting at 0x2a7d775af70>,\n",
       " <__main__.Voting at 0x2a7d775afa0>,\n",
       " <__main__.Voting at 0x2a7d775afd0>,\n",
       " <__main__.Voting at 0x2a7d775ad30>,\n",
       " <__main__.Voting at 0x2a7d775aca0>,\n",
       " <__main__.Voting at 0x2a7d775ad90>,\n",
       " <__main__.Voting at 0x2a7d775ad00>,\n",
       " <__main__.Voting at 0x2a7d775ad60>,\n",
       " <__main__.Voting at 0x2a7d775ac70>,\n",
       " <__main__.Voting at 0x2a7d775acd0>,\n",
       " <__main__.Voting at 0x2a7d7764190>,\n",
       " <__main__.Voting at 0x2a7d77f6eb0>,\n",
       " <__main__.Voting at 0x2a7d77f6ee0>,\n",
       " <__main__.Voting at 0x2a7d77f6f10>,\n",
       " <__main__.Voting at 0x2a7d77f6f40>,\n",
       " <__main__.Voting at 0x2a7d77f6f70>,\n",
       " <__main__.Voting at 0x2a7d77f6fa0>,\n",
       " <__main__.Voting at 0x2a7d77f6fd0>,\n",
       " <__main__.Voting at 0x2a7d77f6d90>,\n",
       " <__main__.Voting at 0x2a7d77f6e20>,\n",
       " <__main__.Voting at 0x2a7d77f6e80>,\n",
       " <__main__.Voting at 0x2a7d77f6e50>,\n",
       " <__main__.Voting at 0x2a7d77f6d60>,\n",
       " <__main__.Voting at 0x2a7d77f6df0>,\n",
       " <__main__.Voting at 0x2a7d77f6dc0>,\n",
       " <__main__.Voting at 0x2a7d77fe190>,\n",
       " <__main__.Voting at 0x2a7d77fe1c0>,\n",
       " <__main__.Voting at 0x2a7d77fe1f0>,\n",
       " <__main__.Voting at 0x2a7d77fe220>,\n",
       " <__main__.Voting at 0x2a7d77fe250>,\n",
       " <__main__.Voting at 0x2a7d77fe280>,\n",
       " <__main__.Voting at 0x2a7d78949d0>,\n",
       " <__main__.Voting at 0x2a7d7894a00>,\n",
       " <__main__.Voting at 0x2a7d7894a30>,\n",
       " <__main__.Voting at 0x2a7d7894a60>,\n",
       " <__main__.Voting at 0x2a7d7894a90>,\n",
       " <__main__.Voting at 0x2a7d7894ac0>,\n",
       " <__main__.Voting at 0x2a7d7894af0>,\n",
       " <__main__.Voting at 0x2a7d7894b20>,\n",
       " <__main__.Voting at 0x2a7d7894b50>,\n",
       " <__main__.Voting at 0x2a7d7894b80>,\n",
       " <__main__.Voting at 0x2a7d7894bb0>,\n",
       " <__main__.Voting at 0x2a7d7894be0>,\n",
       " <__main__.Voting at 0x2a7d7894c10>,\n",
       " <__main__.Voting at 0x2a7d7894c40>,\n",
       " <__main__.Voting at 0x2a7d7894c70>,\n",
       " <__main__.Voting at 0x2a7d7894ca0>,\n",
       " <__main__.Voting at 0x2a7d7894cd0>,\n",
       " <__main__.Voting at 0x2a7d7894d00>,\n",
       " <__main__.Voting at 0x2a7d7894d30>,\n",
       " <__main__.Voting at 0x2a7d7894d60>,\n",
       " <__main__.Voting at 0x2a7d792fb20>,\n",
       " <__main__.Voting at 0x2a7d792fb50>,\n",
       " <__main__.Voting at 0x2a7d792fb80>,\n",
       " <__main__.Voting at 0x2a7d792fbb0>,\n",
       " <__main__.Voting at 0x2a7d792fbe0>,\n",
       " <__main__.Voting at 0x2a7d792fc10>,\n",
       " <__main__.Voting at 0x2a7d792fc40>,\n",
       " <__main__.Voting at 0x2a7d792fc70>,\n",
       " <__main__.Voting at 0x2a7d792fca0>,\n",
       " <__main__.Voting at 0x2a7d792fcd0>,\n",
       " <__main__.Voting at 0x2a7d792fd00>,\n",
       " <__main__.Voting at 0x2a7d792fd30>,\n",
       " <__main__.Voting at 0x2a7d792fd60>,\n",
       " <__main__.Voting at 0x2a7d792fd90>,\n",
       " <__main__.Voting at 0x2a7d792fdc0>,\n",
       " <__main__.Voting at 0x2a7d792fdf0>,\n",
       " <__main__.Voting at 0x2a7d792fe20>,\n",
       " <__main__.Voting at 0x2a7d792fe50>,\n",
       " <__main__.Voting at 0x2a7d792fe80>,\n",
       " <__main__.Voting at 0x2a7d792feb0>,\n",
       " <__main__.Voting at 0x2a7d79cbc40>,\n",
       " <__main__.Voting at 0x2a7d79cbc70>,\n",
       " <__main__.Voting at 0x2a7d79cbca0>,\n",
       " <__main__.Voting at 0x2a7d79cbcd0>,\n",
       " <__main__.Voting at 0x2a7d79cbd00>,\n",
       " <__main__.Voting at 0x2a7d79cbd30>,\n",
       " <__main__.Voting at 0x2a7d79cbd60>,\n",
       " <__main__.Voting at 0x2a7d79cbd90>,\n",
       " <__main__.Voting at 0x2a7d79cbdc0>,\n",
       " <__main__.Voting at 0x2a7d79cbdf0>,\n",
       " <__main__.Voting at 0x2a7d79cbe20>,\n",
       " <__main__.Voting at 0x2a7d79cbe50>,\n",
       " <__main__.Voting at 0x2a7d79cbe80>,\n",
       " <__main__.Voting at 0x2a7d79cbeb0>,\n",
       " <__main__.Voting at 0x2a7d79cbee0>,\n",
       " <__main__.Voting at 0x2a7d79cbf10>,\n",
       " <__main__.Voting at 0x2a7d79cbf40>,\n",
       " <__main__.Voting at 0x2a7d79cbf70>,\n",
       " <__main__.Voting at 0x2a7d79cbfa0>,\n",
       " <__main__.Voting at 0x2a7d79cbfd0>,\n",
       " <__main__.Voting at 0x2a7d7a69cd0>,\n",
       " <__main__.Voting at 0x2a7d7a69d00>,\n",
       " <__main__.Voting at 0x2a7d7a69d30>,\n",
       " <__main__.Voting at 0x2a7d7a69d60>,\n",
       " <__main__.Voting at 0x2a7d7a69d90>,\n",
       " <__main__.Voting at 0x2a7d7a69dc0>,\n",
       " <__main__.Voting at 0x2a7d7a69df0>,\n",
       " <__main__.Voting at 0x2a7d7a69e20>,\n",
       " <__main__.Voting at 0x2a7d7a69e50>,\n",
       " <__main__.Voting at 0x2a7d7a69e80>,\n",
       " <__main__.Voting at 0x2a7d7a69eb0>,\n",
       " <__main__.Voting at 0x2a7d7a69ee0>,\n",
       " <__main__.Voting at 0x2a7d7a69f10>,\n",
       " <__main__.Voting at 0x2a7d7a69f40>,\n",
       " <__main__.Voting at 0x2a7d7a69f70>,\n",
       " <__main__.Voting at 0x2a7d7a69fa0>,\n",
       " <__main__.Voting at 0x2a7d7a69fd0>,\n",
       " <__main__.Voting at 0x2a7d7a69bb0>,\n",
       " <__main__.Voting at 0x2a7d7a69c40>,\n",
       " <__main__.Voting at 0x2a7d7a69ca0>,\n",
       " <__main__.Voting at 0x2a7d5e81880>,\n",
       " <__main__.Voting at 0x2a7d5e815e0>,\n",
       " <__main__.Voting at 0x2a7d5e81100>,\n",
       " <__main__.Voting at 0x2a7d5e81040>,\n",
       " <__main__.Voting at 0x2a7d5e81b20>,\n",
       " <__main__.Voting at 0x2a7d5e81a30>,\n",
       " <__main__.Voting at 0x2a7d5e81af0>,\n",
       " <__main__.Voting at 0x2a7d5e81eb0>,\n",
       " <__main__.Voting at 0x2a7d5e81f40>,\n",
       " <__main__.Voting at 0x2a7d5e81be0>,\n",
       " <__main__.Voting at 0x2a7d5e81f70>,\n",
       " <__main__.Voting at 0x2a7d5e81ca0>,\n",
       " <__main__.Voting at 0x2a7d5e81bb0>,\n",
       " <__main__.Voting at 0x2a7d5e81ac0>,\n",
       " <__main__.Voting at 0x2a7d5e81f10>,\n",
       " <__main__.Voting at 0x2a7d5e81c10>,\n",
       " <__main__.Voting at 0x2a7d5e81a60>,\n",
       " <__main__.Voting at 0x2a7d5e81a90>,\n",
       " <__main__.Voting at 0x2a7d5e81b50>,\n",
       " <__main__.Voting at 0x2a7d5e819a0>,\n",
       " <__main__.Voting at 0x2a7d5535250>,\n",
       " <__main__.Voting at 0x2a7d5535b80>,\n",
       " <__main__.Voting at 0x2a7d5535940>,\n",
       " <__main__.Voting at 0x2a7d5535e80>,\n",
       " <__main__.Voting at 0x2a7d5535f70>,\n",
       " <__main__.Voting at 0x2a7d55355e0>,\n",
       " <__main__.Voting at 0x2a7d55355b0>,\n",
       " <__main__.Voting at 0x2a7d5535790>,\n",
       " <__main__.Voting at 0x2a7d5535640>,\n",
       " <__main__.Voting at 0x2a7d5535670>,\n",
       " <__main__.Voting at 0x2a7d5535580>,\n",
       " <__main__.Voting at 0x2a7d5535c40>,\n",
       " <__main__.Voting at 0x2a7d5535160>,\n",
       " <__main__.Voting at 0x2a7d55354c0>,\n",
       " <__main__.Voting at 0x2a7d5535850>,\n",
       " <__main__.Voting at 0x2a7d5535d30>,\n",
       " <__main__.Voting at 0x2a7d55356a0>,\n",
       " <__main__.Voting at 0x2a7d5535df0>,\n",
       " <__main__.Voting at 0x2a7d5535a30>,\n",
       " <__main__.Voting at 0x2a7d5535d60>,\n",
       " <__main__.Voting at 0x2a7d52679a0>,\n",
       " <__main__.Voting at 0x2a7d5267550>,\n",
       " <__main__.Voting at 0x2a7d5267520>,\n",
       " <__main__.Voting at 0x2a7d5267c10>,\n",
       " <__main__.Voting at 0x2a7d5267040>,\n",
       " <__main__.Voting at 0x2a7d5267a00>,\n",
       " <__main__.Voting at 0x2a7d5267bb0>,\n",
       " <__main__.Voting at 0x2a7d52677f0>,\n",
       " <__main__.Voting at 0x2a7d52676d0>,\n",
       " <__main__.Voting at 0x2a7d52674c0>,\n",
       " <__main__.Voting at 0x2a7d5267be0>,\n",
       " <__main__.Voting at 0x2a7d5267e20>,\n",
       " <__main__.Voting at 0x2a7d5267f70>,\n",
       " <__main__.Voting at 0x2a7d5267850>,\n",
       " <__main__.Voting at 0x2a7d5267340>,\n",
       " <__main__.Voting at 0x2a7d5267220>,\n",
       " <__main__.Voting at 0x2a7d5267910>,\n",
       " <__main__.Voting at 0x2a7d5267c70>,\n",
       " <__main__.Voting at 0x2a7d5267a90>,\n",
       " <__main__.Voting at 0x2a7d52677c0>,\n",
       " <__main__.Voting at 0x2a7d57d7df0>,\n",
       " <__main__.Voting at 0x2a7d57d7ee0>,\n",
       " <__main__.Voting at 0x2a7d57d7fd0>,\n",
       " <__main__.Voting at 0x2a7d57d7c10>,\n",
       " <__main__.Voting at 0x2a7d57d7d00>,\n",
       " <__main__.Voting at 0x2a7d57d7a30>,\n",
       " <__main__.Voting at 0x2a7d57d7b20>,\n",
       " <__main__.Voting at 0x2a7d3f03fa0>,\n",
       " <__main__.Voting at 0x2a7d3f03520>,\n",
       " <__main__.Voting at 0x2a7d3f030a0>,\n",
       " <__main__.Voting at 0x2a7d3f03400>,\n",
       " <__main__.Voting at 0x2a7d3f03790>,\n",
       " <__main__.Voting at 0x2a7d3f03250>,\n",
       " <__main__.Voting at 0x2a7d3f03220>,\n",
       " <__main__.Voting at 0x2a7d3f038e0>,\n",
       " <__main__.Voting at 0x2a7d3f03100>,\n",
       " <__main__.Voting at 0x2a7d3f031f0>,\n",
       " <__main__.Voting at 0x2a7d3f035e0>,\n",
       " <__main__.Voting at 0x2a7d3f03160>,\n",
       " <__main__.Voting at 0x2a7d3f03130>,\n",
       " <__main__.Voting at 0x2a7d60821c0>,\n",
       " <__main__.Voting at 0x2a7d6082730>,\n",
       " <__main__.Voting at 0x2a7d6082610>,\n",
       " <__main__.Voting at 0x2a7d6082670>,\n",
       " <__main__.Voting at 0x2a7d6082700>,\n",
       " <__main__.Voting at 0x2a7d60826a0>,\n",
       " <__main__.Voting at 0x2a7d60826d0>,\n",
       " <__main__.Voting at 0x2a7d6082760>,\n",
       " <__main__.Voting at 0x2a7d6082790>,\n",
       " <__main__.Voting at 0x2a7d6082820>,\n",
       " <__main__.Voting at 0x2a7d6082640>,\n",
       " <__main__.Voting at 0x2a7d60827c0>,\n",
       " <__main__.Voting at 0x2a7d6082880>,\n",
       " <__main__.Voting at 0x2a7d60828e0>,\n",
       " <__main__.Voting at 0x2a7d60828b0>,\n",
       " <__main__.Voting at 0x2a7d6082850>,\n",
       " <__main__.Voting at 0x2a7d6082940>,\n",
       " <__main__.Voting at 0x2a7d6082910>,\n",
       " <__main__.Voting at 0x2a7d6082a00>,\n",
       " <__main__.Voting at 0x2a7d60829a0>,\n",
       " <__main__.Voting at 0x2a7d3ffad90>,\n",
       " <__main__.Voting at 0x2a7d3ffad30>,\n",
       " <__main__.Voting at 0x2a7d3ffad60>,\n",
       " <__main__.Voting at 0x2a7d3ffacd0>,\n",
       " <__main__.Voting at 0x2a7d3ffab80>,\n",
       " <__main__.Voting at 0x2a7d3ffaca0>,\n",
       " <__main__.Voting at 0x2a7d3ffac70>,\n",
       " <__main__.Voting at 0x2a7d3ffac40>,\n",
       " <__main__.Voting at 0x2a7d3ffac10>,\n",
       " <__main__.Voting at 0x2a7d3ffabb0>,\n",
       " <__main__.Voting at 0x2a7d3ffabe0>,\n",
       " <__main__.Voting at 0x2a7d3ffab50>,\n",
       " <__main__.Voting at 0x2a7d3ffaaf0>,\n",
       " <__main__.Voting at 0x2a7d3ffa670>,\n",
       " <__main__.Voting at 0x2a7d3ffaac0>,\n",
       " <__main__.Voting at 0x2a7d3ffa6d0>,\n",
       " <__main__.Voting at 0x2a7d3ffaa90>,\n",
       " <__main__.Voting at 0x2a7d3ffa7f0>,\n",
       " <__main__.Voting at 0x2a7d3ffaa60>,\n",
       " <__main__.Voting at 0x2a7d3ffa9d0>,\n",
       " <__main__.Voting at 0x2a7d79b5f70>,\n",
       " <__main__.Voting at 0x2a7d79b5fd0>,\n",
       " <__main__.Voting at 0x2a7d79b5fa0>,\n",
       " <__main__.Voting at 0x2a7d79a9f10>,\n",
       " <__main__.Voting at 0x2a7d79a9eb0>,\n",
       " <__main__.Voting at 0x2a7d79a9e20>,\n",
       " <__main__.Voting at 0x2a7d79a9e80>,\n",
       " <__main__.Voting at 0x2a7d79a9e50>,\n",
       " <__main__.Voting at 0x2a7d79a9df0>,\n",
       " <__main__.Voting at 0x2a7d79a9d90>,\n",
       " <__main__.Voting at 0x2a7d79a9d30>,\n",
       " <__main__.Voting at 0x2a7d79a9d60>,\n",
       " <__main__.Voting at 0x2a7d79a9d00>,\n",
       " <__main__.Voting at 0x2a7d79a9ca0>,\n",
       " <__main__.Voting at 0x2a7d79a9c40>,\n",
       " <__main__.Voting at 0x2a7d79a95b0>,\n",
       " <__main__.Voting at 0x2a7d79a9c10>,\n",
       " <__main__.Voting at 0x2a7d79a9b80>,\n",
       " <__main__.Voting at 0x2a7d79a9be0>,\n",
       " <__main__.Voting at 0x2a7d79a9bb0>,\n",
       " <__main__.Voting at 0x2a7d5f68bb0>,\n",
       " <__main__.Voting at 0x2a7d5f68be0>,\n",
       " <__main__.Voting at 0x2a7d5f68c10>,\n",
       " <__main__.Voting at 0x2a7d5f68c40>,\n",
       " <__main__.Voting at 0x2a7d5f68c70>,\n",
       " <__main__.Voting at 0x2a7d5f68ca0>,\n",
       " <__main__.Voting at 0x2a7d5f68cd0>,\n",
       " <__main__.Voting at 0x2a7d5f68d00>,\n",
       " <__main__.Voting at 0x2a7d5f68d30>,\n",
       " <__main__.Voting at 0x2a7d5f68d60>,\n",
       " <__main__.Voting at 0x2a7d5f68d90>,\n",
       " <__main__.Voting at 0x2a7d5f68dc0>,\n",
       " <__main__.Voting at 0x2a7d5f68df0>,\n",
       " <__main__.Voting at 0x2a7d5f68e20>,\n",
       " <__main__.Voting at 0x2a7d5f68e50>,\n",
       " <__main__.Voting at 0x2a7d5f68e80>,\n",
       " <__main__.Voting at 0x2a7d5f68eb0>,\n",
       " <__main__.Voting at 0x2a7d5f68ee0>,\n",
       " <__main__.Voting at 0x2a7d5f68f10>,\n",
       " <__main__.Voting at 0x2a7d5f68f40>,\n",
       " <__main__.Voting at 0x2a7d626af70>,\n",
       " <__main__.Voting at 0x2a7d626afa0>,\n",
       " <__main__.Voting at 0x2a7d626afd0>,\n",
       " <__main__.Voting at 0x2a7d627d1f0>,\n",
       " <__main__.Voting at 0x2a7d627d220>,\n",
       " <__main__.Voting at 0x2a7d627d250>,\n",
       " <__main__.Voting at 0x2a7d627d280>,\n",
       " <__main__.Voting at 0x2a7d627d2b0>,\n",
       " <__main__.Voting at 0x2a7d627d2e0>,\n",
       " <__main__.Voting at 0x2a7d627d310>,\n",
       " <__main__.Voting at 0x2a7d627d340>,\n",
       " <__main__.Voting at 0x2a7d627d370>,\n",
       " <__main__.Voting at 0x2a7d627d3a0>,\n",
       " <__main__.Voting at 0x2a7d627d3d0>,\n",
       " <__main__.Voting at 0x2a7d627d400>,\n",
       " <__main__.Voting at 0x2a7d627d430>,\n",
       " <__main__.Voting at 0x2a7d627d460>,\n",
       " <__main__.Voting at 0x2a7d627d490>,\n",
       " <__main__.Voting at 0x2a7d627d4c0>,\n",
       " <__main__.Voting at 0x2a7d627d4f0>,\n",
       " <__main__.Voting at 0x2a7d6075ca0>,\n",
       " <__main__.Voting at 0x2a7d6075cd0>,\n",
       " <__main__.Voting at 0x2a7d6075d00>,\n",
       " <__main__.Voting at 0x2a7d6075d30>,\n",
       " <__main__.Voting at 0x2a7d6075d60>,\n",
       " <__main__.Voting at 0x2a7d6075d90>,\n",
       " <__main__.Voting at 0x2a7d6075dc0>,\n",
       " <__main__.Voting at 0x2a7d6075df0>,\n",
       " <__main__.Voting at 0x2a7d6075e20>,\n",
       " <__main__.Voting at 0x2a7d6075e50>,\n",
       " <__main__.Voting at 0x2a7d6075e80>,\n",
       " <__main__.Voting at 0x2a7d6075eb0>,\n",
       " <__main__.Voting at 0x2a7d6075ee0>,\n",
       " <__main__.Voting at 0x2a7d6075f10>,\n",
       " <__main__.Voting at 0x2a7d6075f40>,\n",
       " <__main__.Voting at 0x2a7d6075f70>,\n",
       " <__main__.Voting at 0x2a7d6075fa0>,\n",
       " <__main__.Voting at 0x2a7d6075fd0>,\n",
       " <__main__.Voting at 0x2a7d6075c10>,\n",
       " <__main__.Voting at 0x2a7d6075b80>,\n",
       " <__main__.Voting at 0x2a7d792ebe0>,\n",
       " <__main__.Voting at 0x2a7d792ec10>,\n",
       " <__main__.Voting at 0x2a7d792ec40>,\n",
       " <__main__.Voting at 0x2a7d792ec70>,\n",
       " <__main__.Voting at 0x2a7d792eca0>,\n",
       " <__main__.Voting at 0x2a7d792ecd0>,\n",
       " <__main__.Voting at 0x2a7d792ed00>,\n",
       " <__main__.Voting at 0x2a7d792ed30>,\n",
       " <__main__.Voting at 0x2a7d792ed60>,\n",
       " <__main__.Voting at 0x2a7d792ed90>,\n",
       " <__main__.Voting at 0x2a7d792edc0>,\n",
       " <__main__.Voting at 0x2a7d792edf0>,\n",
       " <__main__.Voting at 0x2a7d792ee20>,\n",
       " <__main__.Voting at 0x2a7d792ee50>,\n",
       " <__main__.Voting at 0x2a7d792ee80>,\n",
       " <__main__.Voting at 0x2a7d792eeb0>,\n",
       " <__main__.Voting at 0x2a7d792eee0>,\n",
       " <__main__.Voting at 0x2a7d792ef10>,\n",
       " <__main__.Voting at 0x2a7d792ef40>,\n",
       " <__main__.Voting at 0x2a7d792ef70>,\n",
       " <__main__.Voting at 0x2a7d65b5e20>,\n",
       " <__main__.Voting at 0x2a7d65b5e50>,\n",
       " <__main__.Voting at 0x2a7d65b5e80>,\n",
       " <__main__.Voting at 0x2a7d65b5eb0>,\n",
       " <__main__.Voting at 0x2a7d65b5ee0>,\n",
       " <__main__.Voting at 0x2a7d65b5f10>,\n",
       " <__main__.Voting at 0x2a7d65b5f40>,\n",
       " <__main__.Voting at 0x2a7d65b5f70>,\n",
       " <__main__.Voting at 0x2a7d65b5fa0>,\n",
       " <__main__.Voting at 0x2a7d65b5fd0>,\n",
       " <__main__.Voting at 0x2a7d65b5d90>,\n",
       " <__main__.Voting at 0x2a7d65b5d00>,\n",
       " <__main__.Voting at 0x2a7d65b5df0>,\n",
       " <__main__.Voting at 0x2a7d65b5dc0>,\n",
       " <__main__.Voting at 0x2a7d65b5cd0>,\n",
       " <__main__.Voting at 0x2a7d65b5d60>,\n",
       " <__main__.Voting at 0x2a7d65b5d30>,\n",
       " <__main__.Voting at 0x2a7d65bd190>,\n",
       " <__main__.Voting at 0x2a7d65bd1c0>,\n",
       " <__main__.Voting at 0x2a7d65bd1f0>,\n",
       " <__main__.Voting at 0x2a7d780c820>,\n",
       " <__main__.Voting at 0x2a7d780c850>,\n",
       " <__main__.Voting at 0x2a7d780c880>,\n",
       " <__main__.Voting at 0x2a7d780c8b0>,\n",
       " <__main__.Voting at 0x2a7d780c8e0>,\n",
       " <__main__.Voting at 0x2a7d780c910>,\n",
       " <__main__.Voting at 0x2a7d780c940>,\n",
       " <__main__.Voting at 0x2a7d780c970>,\n",
       " <__main__.Voting at 0x2a7d780c9a0>,\n",
       " <__main__.Voting at 0x2a7d780c9d0>,\n",
       " <__main__.Voting at 0x2a7d780ca00>,\n",
       " <__main__.Voting at 0x2a7d780ca30>,\n",
       " <__main__.Voting at 0x2a7d780ca60>,\n",
       " <__main__.Voting at 0x2a7d780ca90>,\n",
       " <__main__.Voting at 0x2a7d780cac0>,\n",
       " <__main__.Voting at 0x2a7d780caf0>,\n",
       " <__main__.Voting at 0x2a7d780cb20>,\n",
       " <__main__.Voting at 0x2a7d780cb50>,\n",
       " <__main__.Voting at 0x2a7d780cb80>,\n",
       " <__main__.Voting at 0x2a7d780cbb0>,\n",
       " <__main__.Voting at 0x2a7d61c36a0>,\n",
       " <__main__.Voting at 0x2a7d61c36d0>,\n",
       " <__main__.Voting at 0x2a7d61c3700>,\n",
       " <__main__.Voting at 0x2a7d61c3730>,\n",
       " <__main__.Voting at 0x2a7d61c3760>,\n",
       " <__main__.Voting at 0x2a7d61c3790>,\n",
       " <__main__.Voting at 0x2a7d61c37c0>,\n",
       " <__main__.Voting at 0x2a7d61c37f0>,\n",
       " <__main__.Voting at 0x2a7d61c3820>,\n",
       " <__main__.Voting at 0x2a7d61c3850>,\n",
       " <__main__.Voting at 0x2a7d61c3880>,\n",
       " <__main__.Voting at 0x2a7d61c38b0>,\n",
       " <__main__.Voting at 0x2a7d61c38e0>,\n",
       " <__main__.Voting at 0x2a7d61c3910>,\n",
       " <__main__.Voting at 0x2a7d61c3940>,\n",
       " <__main__.Voting at 0x2a7d61c3970>,\n",
       " <__main__.Voting at 0x2a7d61c39a0>,\n",
       " <__main__.Voting at 0x2a7d61c39d0>,\n",
       " <__main__.Voting at 0x2a7d61c3a00>,\n",
       " <__main__.Voting at 0x2a7d61c3a30>,\n",
       " <__main__.Voting at 0x2a7d779b7c0>,\n",
       " <__main__.Voting at 0x2a7d779b7f0>,\n",
       " <__main__.Voting at 0x2a7d779b820>,\n",
       " <__main__.Voting at 0x2a7d779b850>,\n",
       " <__main__.Voting at 0x2a7d779b880>,\n",
       " <__main__.Voting at 0x2a7d779b8b0>,\n",
       " <__main__.Voting at 0x2a7d779b8e0>,\n",
       " <__main__.Voting at 0x2a7d779b910>,\n",
       " <__main__.Voting at 0x2a7d779b940>,\n",
       " <__main__.Voting at 0x2a7d779b970>,\n",
       " <__main__.Voting at 0x2a7d779b9a0>,\n",
       " <__main__.Voting at 0x2a7d779b9d0>,\n",
       " <__main__.Voting at 0x2a7d779ba00>,\n",
       " <__main__.Voting at 0x2a7d779ba30>,\n",
       " <__main__.Voting at 0x2a7d779ba60>,\n",
       " <__main__.Voting at 0x2a7d779ba90>,\n",
       " <__main__.Voting at 0x2a7d779bac0>,\n",
       " <__main__.Voting at 0x2a7d779baf0>,\n",
       " <__main__.Voting at 0x2a7d779bb20>,\n",
       " <__main__.Voting at 0x2a7d779bb50>,\n",
       " <__main__.Voting at 0x2a7d5ec3550>,\n",
       " <__main__.Voting at 0x2a7d5ec3580>,\n",
       " <__main__.Voting at 0x2a7d5ec35b0>,\n",
       " <__main__.Voting at 0x2a7d5ec35e0>,\n",
       " <__main__.Voting at 0x2a7d5ec3610>,\n",
       " <__main__.Voting at 0x2a7d5ec3640>,\n",
       " <__main__.Voting at 0x2a7d5ec3670>,\n",
       " <__main__.Voting at 0x2a7d5ec36a0>,\n",
       " <__main__.Voting at 0x2a7d5ec36d0>,\n",
       " <__main__.Voting at 0x2a7d5ec3700>,\n",
       " <__main__.Voting at 0x2a7d5ec3730>,\n",
       " <__main__.Voting at 0x2a7d5ec3760>,\n",
       " <__main__.Voting at 0x2a7d5ec3790>,\n",
       " <__main__.Voting at 0x2a7d5ec37c0>,\n",
       " <__main__.Voting at 0x2a7d5ec37f0>,\n",
       " <__main__.Voting at 0x2a7d5ec3820>,\n",
       " <__main__.Voting at 0x2a7d5ec3850>,\n",
       " <__main__.Voting at 0x2a7d5ec3880>,\n",
       " <__main__.Voting at 0x2a7d5ec38b0>,\n",
       " <__main__.Voting at 0x2a7d5ec38e0>,\n",
       " <__main__.Voting at 0x2a7d7909f10>,\n",
       " <__main__.Voting at 0x2a7d7909f40>,\n",
       " <__main__.Voting at 0x2a7d7909f70>,\n",
       " <__main__.Voting at 0x2a7d7909fa0>,\n",
       " <__main__.Voting at 0x2a7d7909fd0>,\n",
       " <__main__.Voting at 0x2a7d7909df0>,\n",
       " <__main__.Voting at 0x2a7d7909e80>,\n",
       " <__main__.Voting at 0x2a7d7909ee0>,\n",
       " <__main__.Voting at 0x2a7d7909dc0>,\n",
       " <__main__.Voting at 0x2a7d7909e50>,\n",
       " <__main__.Voting at 0x2a7d7909eb0>,\n",
       " <__main__.Voting at 0x2a7d7909e20>,\n",
       " <__main__.Voting at 0x2a7d7903190>,\n",
       " <__main__.Voting at 0x2a7d79031c0>,\n",
       " <__main__.Voting at 0x2a7d79031f0>,\n",
       " <__main__.Voting at 0x2a7d7903220>,\n",
       " <__main__.Voting at 0x2a7d7903250>,\n",
       " <__main__.Voting at 0x2a7d7903280>,\n",
       " <__main__.Voting at 0x2a7d79032b0>,\n",
       " <__main__.Voting at 0x2a7d79032e0>,\n",
       " <__main__.Voting at 0x2a7d63fefa0>,\n",
       " <__main__.Voting at 0x2a7d63fef70>,\n",
       " <__main__.Voting at 0x2a7d63fefd0>,\n",
       " <__main__.Voting at 0x2a7d78d7fa0>,\n",
       " <__main__.Voting at 0x2a7d78d7f10>,\n",
       " <__main__.Voting at 0x2a7d78d7f70>,\n",
       " <__main__.Voting at 0x2a7d78d7f40>,\n",
       " <__main__.Voting at 0x2a7d78d7ee0>,\n",
       " <__main__.Voting at 0x2a7d78d7e80>,\n",
       " <__main__.Voting at 0x2a7d78d7df0>,\n",
       " <__main__.Voting at 0x2a7d78d7e20>,\n",
       " <__main__.Voting at 0x2a7d78d7e50>,\n",
       " <__main__.Voting at 0x2a7d78d7dc0>,\n",
       " <__main__.Voting at 0x2a7d78d7d60>,\n",
       " <__main__.Voting at 0x2a7d78d7d00>,\n",
       " <__main__.Voting at 0x2a7d78d79a0>,\n",
       " <__main__.Voting at 0x2a7d78d7cd0>,\n",
       " <__main__.Voting at 0x2a7d78d7c40>,\n",
       " <__main__.Voting at 0x2a7d78d7ca0>,\n",
       " <__main__.Voting at 0x2a7d78d7c70>,\n",
       " <__main__.Voting at 0x2a7d7703c70>,\n",
       " <__main__.Voting at 0x2a7d7703ca0>,\n",
       " <__main__.Voting at 0x2a7d7703cd0>,\n",
       " <__main__.Voting at 0x2a7d7703d00>,\n",
       " <__main__.Voting at 0x2a7d7703d30>,\n",
       " <__main__.Voting at 0x2a7d7703d60>,\n",
       " <__main__.Voting at 0x2a7d7703d90>,\n",
       " <__main__.Voting at 0x2a7d7703dc0>,\n",
       " <__main__.Voting at 0x2a7d7703df0>,\n",
       " <__main__.Voting at 0x2a7d7703e20>,\n",
       " <__main__.Voting at 0x2a7d7703e50>,\n",
       " <__main__.Voting at 0x2a7d7703e80>,\n",
       " <__main__.Voting at 0x2a7d7703eb0>,\n",
       " <__main__.Voting at 0x2a7d7703ee0>,\n",
       " <__main__.Voting at 0x2a7d7703f10>,\n",
       " <__main__.Voting at 0x2a7d7703f40>,\n",
       " <__main__.Voting at 0x2a7d7703f70>,\n",
       " <__main__.Voting at 0x2a7d7703fa0>,\n",
       " <__main__.Voting at 0x2a7d7703fd0>,\n",
       " <__main__.Voting at 0x2a7d7703b50>,\n",
       " <__main__.Voting at 0x2a7d6512d60>,\n",
       " <__main__.Voting at 0x2a7d6512d90>,\n",
       " <__main__.Voting at 0x2a7d6512dc0>,\n",
       " <__main__.Voting at 0x2a7d6512df0>,\n",
       " <__main__.Voting at 0x2a7d6512e20>,\n",
       " <__main__.Voting at 0x2a7d6512e50>,\n",
       " <__main__.Voting at 0x2a7d6512e80>,\n",
       " <__main__.Voting at 0x2a7d6512eb0>,\n",
       " <__main__.Voting at 0x2a7d6512ee0>,\n",
       " <__main__.Voting at 0x2a7d6512f10>,\n",
       " <__main__.Voting at 0x2a7d6512f40>,\n",
       " <__main__.Voting at 0x2a7d6512f70>,\n",
       " <__main__.Voting at 0x2a7d6512fa0>,\n",
       " <__main__.Voting at 0x2a7d6512fd0>,\n",
       " <__main__.Voting at 0x2a7d6512cd0>,\n",
       " <__main__.Voting at 0x2a7d6512c40>,\n",
       " <__main__.Voting at 0x2a7d6512d30>,\n",
       " <__main__.Voting at 0x2a7d6512c10>,\n",
       " <__main__.Voting at 0x2a7d6512ca0>,\n",
       " <__main__.Voting at 0x2a7d6512d00>,\n",
       " <__main__.Voting at 0x2a7d7640ee0>,\n",
       " <__main__.Voting at 0x2a7d7640f10>,\n",
       " <__main__.Voting at 0x2a7d7640f40>,\n",
       " <__main__.Voting at 0x2a7d7640f70>,\n",
       " <__main__.Voting at 0x2a7d7640fa0>,\n",
       " <__main__.Voting at 0x2a7d7640fd0>,\n",
       " <__main__.Voting at 0x2a7d7640e50>,\n",
       " <__main__.Voting at 0x2a7d7640dc0>,\n",
       " <__main__.Voting at 0x2a7d7640eb0>,\n",
       " <__main__.Voting at 0x2a7d7640e20>,\n",
       " <__main__.Voting at 0x2a7d7640e80>,\n",
       " <__main__.Voting at 0x2a7d7640d90>,\n",
       " <__main__.Voting at 0x2a7d7640df0>,\n",
       " <__main__.Voting at 0x2a7d7634190>,\n",
       " <__main__.Voting at 0x2a7d76341c0>,\n",
       " <__main__.Voting at 0x2a7d76341f0>,\n",
       " <__main__.Voting at 0x2a7d7634220>,\n",
       " <__main__.Voting at 0x2a7d7634250>,\n",
       " <__main__.Voting at 0x2a7d7634280>,\n",
       " <__main__.Voting at 0x2a7d76342b0>,\n",
       " <__main__.Voting at 0x2a7d7825d90>,\n",
       " <__main__.Voting at 0x2a7d7825dc0>,\n",
       " <__main__.Voting at 0x2a7d7825df0>,\n",
       " <__main__.Voting at 0x2a7d7825e20>,\n",
       " <__main__.Voting at 0x2a7d7825e50>,\n",
       " <__main__.Voting at 0x2a7d7825e80>,\n",
       " <__main__.Voting at 0x2a7d7825eb0>,\n",
       " <__main__.Voting at 0x2a7d7825ee0>,\n",
       " <__main__.Voting at 0x2a7d7825f10>,\n",
       " <__main__.Voting at 0x2a7d7825f40>,\n",
       " <__main__.Voting at 0x2a7d7825f70>,\n",
       " <__main__.Voting at 0x2a7d7825fa0>,\n",
       " <__main__.Voting at 0x2a7d7825fd0>,\n",
       " <__main__.Voting at 0x2a7d7825c70>,\n",
       " <__main__.Voting at 0x2a7d7825d00>,\n",
       " <__main__.Voting at 0x2a7d7825d60>,\n",
       " <__main__.Voting at 0x2a7d7825d30>,\n",
       " <__main__.Voting at 0x2a7d7825c40>,\n",
       " <__main__.Voting at 0x2a7d7825cd0>,\n",
       " <__main__.Voting at 0x2a7d7825ca0>,\n",
       " ...]"
      ]
     },
     "metadata": {},
     "output_type": "display_data"
    }
   ],
   "source": [
    "# Here we start scraping the data. \n",
    "# url with a form\n",
    "url = 'https://www.psp.cz/en/sqw/hlasovani.sqw?o=8'\n",
    "\n",
    "download_data(url)"
   ]
  },
  {
   "cell_type": "code",
   "execution_count": 4,
   "metadata": {},
   "outputs": [],
   "source": []
  },
  {
   "cell_type": "code",
   "execution_count": 5,
   "metadata": {},
   "outputs": [],
   "source": []
  },
  {
   "cell_type": "code",
   "execution_count": 54,
   "metadata": {
    "scrolled": true
   },
   "outputs": [],
   "source": [
    "r = requests.get(links)\n",
    "r.encoding=\"windows-1252\"\n",
    "soup = BeautifulSoup(r.content, 'lxml')\n",
    "# https://public.psp.cz/en/sqw/hlasy.sqw?g=67018&l=en is a link example\n",
    "\n",
    "ahrefs.clear()\n",
    "for link in soup.find_all('a'):\n",
    "    ahrefs.append(link.get('href'))"
   ]
  },
  {
   "cell_type": "code",
   "execution_count": 56,
   "metadata": {},
   "outputs": [
    {
     "data": {
      "text/plain": [
       "['https://public.psp.cz/en/sqw/hlasy.sqw?g=67018&l=en',\n",
       " 'https://public.psp.cz/en/sqw/hlasy.sqw?g=67019&l=en',\n",
       " 'https://public.psp.cz/en/sqw/hlasy.sqw?g=67020&l=en',\n",
       " 'https://public.psp.cz/en/sqw/hlasy.sqw?g=67021&l=en',\n",
       " 'https://public.psp.cz/en/sqw/hlasy.sqw?g=67022&l=en',\n",
       " 'https://public.psp.cz/en/sqw/hlasy.sqw?g=67023&l=en',\n",
       " 'https://public.psp.cz/en/sqw/hlasy.sqw?g=67024&l=en',\n",
       " 'https://public.psp.cz/en/sqw/hlasy.sqw?g=67025&l=en',\n",
       " 'https://public.psp.cz/en/sqw/hlasy.sqw?g=67026&l=en',\n",
       " 'https://public.psp.cz/en/sqw/hlasy.sqw?g=67027&l=en',\n",
       " 'https://public.psp.cz/en/sqw/hlasy.sqw?g=67028&l=en',\n",
       " 'https://public.psp.cz/en/sqw/hlasy.sqw?g=67029&l=en',\n",
       " 'https://public.psp.cz/en/sqw/hlasy.sqw?g=67030&l=en',\n",
       " 'https://public.psp.cz/en/sqw/hlasy.sqw?g=67031&l=en',\n",
       " 'https://public.psp.cz/en/sqw/hlasy.sqw?g=67032&l=en',\n",
       " 'https://public.psp.cz/en/sqw/hlasy.sqw?g=67033&l=en']"
      ]
     },
     "execution_count": 56,
     "metadata": {},
     "output_type": "execute_result"
    }
   ],
   "source": [
    "votings = []\n",
    "url = 'https://public.psp.cz/en/sqw/'\n",
    "for elem in ahrefs:\n",
    "    if elem.startswith('hlasy.sqw?g='):\n",
    "        votings.append(url + elem)\n",
    "votings"
   ]
  },
  {
   "cell_type": "code",
   "execution_count": 8,
   "metadata": {},
   "outputs": [],
   "source": [
    "deputes = []\n",
    "r = requests.get(votings[0])\n",
    "r.encoding=\"windows-1252\"\n",
    "soup = BeautifulSoup(r.content, 'lxml')\n",
    "for link in soup.find_all('li'):\n",
    "    deputes.append(link)"
   ]
  },
  {
   "cell_type": "code",
   "execution_count": 9,
   "metadata": {},
   "outputs": [
    {
     "data": {
      "text/plain": [
       "'https://public.psp.cz/en/sqw/hlasy.sqw?g=67018&l=en'"
      ]
     },
     "execution_count": 9,
     "metadata": {},
     "output_type": "execute_result"
    }
   ],
   "source": [
    "votings[0]"
   ]
  },
  {
   "cell_type": "code",
   "execution_count": 10,
   "metadata": {
    "collapsed": true
   },
   "outputs": [
    {
     "data": {
      "text/plain": [
       "'url:https://public.psp.cz/en/sqw/detail.sqw?id=6254&o=8&l=cz'"
      ]
     },
     "metadata": {},
     "output_type": "display_data"
    },
    {
     "data": {
      "text/plain": [
       "[<a href=\"fsnem.sqw?id=1292&amp;o=8\">Political group ANO 2011</a>]"
      ]
     },
     "metadata": {},
     "output_type": "display_data"
    },
    {
     "data": {
      "text/plain": [
       "'url:https://public.psp.cz/en/sqw/detail.sqw?id=6150&o=8&l=cz'"
      ]
     },
     "metadata": {},
     "output_type": "display_data"
    },
    {
     "data": {
      "text/plain": [
       "[<a href=\"fsnem.sqw?id=1292&amp;o=8\">Political group ANO 2011</a>]"
      ]
     },
     "metadata": {},
     "output_type": "display_data"
    },
    {
     "data": {
      "text/plain": [
       "'url:https://public.psp.cz/en/sqw/detail.sqw?id=6428&o=8&l=cz'"
      ]
     },
     "metadata": {},
     "output_type": "display_data"
    },
    {
     "data": {
      "text/plain": [
       "[<a href=\"fsnem.sqw?id=1292&amp;o=8\">Political group ANO 2011</a>]"
      ]
     },
     "metadata": {},
     "output_type": "display_data"
    },
    {
     "data": {
      "text/plain": [
       "'url:https://public.psp.cz/en/sqw/detail.sqw?id=6177&o=8&l=cz'"
      ]
     },
     "metadata": {},
     "output_type": "display_data"
    },
    {
     "data": {
      "text/plain": [
       "[<a href=\"fsnem.sqw?id=1292&amp;o=8\">Political group ANO 2011</a>]"
      ]
     },
     "metadata": {},
     "output_type": "display_data"
    },
    {
     "data": {
      "text/plain": [
       "'url:https://public.psp.cz/en/sqw/detail.sqw?id=6437&o=8&l=cz'"
      ]
     },
     "metadata": {},
     "output_type": "display_data"
    },
    {
     "data": {
      "text/plain": [
       "[<a href=\"fsnem.sqw?id=1292&amp;o=8\">Political group ANO 2011</a>]"
      ]
     },
     "metadata": {},
     "output_type": "display_data"
    },
    {
     "data": {
      "text/plain": [
       "'url:https://public.psp.cz/en/sqw/detail.sqw?id=6143&o=8&l=cz'"
      ]
     },
     "metadata": {},
     "output_type": "display_data"
    },
    {
     "data": {
      "text/plain": [
       "[<a href=\"fsnem.sqw?id=1292&amp;o=8\">Political group ANO 2011</a>]"
      ]
     },
     "metadata": {},
     "output_type": "display_data"
    },
    {
     "data": {
      "text/plain": [
       "'url:https://public.psp.cz/en/sqw/detail.sqw?id=6439&o=8&l=cz'"
      ]
     },
     "metadata": {},
     "output_type": "display_data"
    },
    {
     "data": {
      "text/plain": [
       "[<a href=\"fsnem.sqw?id=1292&amp;o=8\">Political group ANO 2011</a>]"
      ]
     },
     "metadata": {},
     "output_type": "display_data"
    },
    {
     "data": {
      "text/plain": [
       "'url:https://public.psp.cz/en/sqw/detail.sqw?id=6184&o=8&l=cz'"
      ]
     },
     "metadata": {},
     "output_type": "display_data"
    },
    {
     "data": {
      "text/plain": [
       "[<a href=\"fsnem.sqw?id=1292&amp;o=8\">Political group ANO 2011</a>]"
      ]
     },
     "metadata": {},
     "output_type": "display_data"
    },
    {
     "data": {
      "text/plain": [
       "'url:https://public.psp.cz/en/sqw/detail.sqw?id=6185&o=8&l=cz'"
      ]
     },
     "metadata": {},
     "output_type": "display_data"
    },
    {
     "data": {
      "text/plain": [
       "[<a href=\"fsnem.sqw?id=1292&amp;o=8\">Political group ANO 2011</a>]"
      ]
     },
     "metadata": {},
     "output_type": "display_data"
    },
    {
     "data": {
      "text/plain": [
       "'url:https://public.psp.cz/en/sqw/detail.sqw?id=6434&o=8&l=cz'"
      ]
     },
     "metadata": {},
     "output_type": "display_data"
    },
    {
     "data": {
      "text/plain": [
       "[<a href=\"fsnem.sqw?id=1292&amp;o=8\">Political group ANO 2011</a>]"
      ]
     },
     "metadata": {},
     "output_type": "display_data"
    },
    {
     "data": {
      "text/plain": [
       "'url:https://public.psp.cz/en/sqw/detail.sqw?id=6441&o=8&l=cz'"
      ]
     },
     "metadata": {},
     "output_type": "display_data"
    },
    {
     "data": {
      "text/plain": [
       "[<a href=\"fsnem.sqw?id=1292&amp;o=8\">Political group ANO 2011</a>]"
      ]
     },
     "metadata": {},
     "output_type": "display_data"
    },
    {
     "data": {
      "text/plain": [
       "'url:https://public.psp.cz/en/sqw/detail.sqw?id=6430&o=8&l=cz'"
      ]
     },
     "metadata": {},
     "output_type": "display_data"
    },
    {
     "data": {
      "text/plain": [
       "[<a href=\"fsnem.sqw?id=1292&amp;o=8\">Political group ANO 2011</a>,\n",
       " <a href=\"fsnem.sqw?id=1292&amp;o=8\">Political group ANO 2011</a>]"
      ]
     },
     "metadata": {},
     "output_type": "display_data"
    },
    {
     "data": {
      "text/plain": [
       "'url:https://public.psp.cz/en/sqw/detail.sqw?id=6431&o=8&l=cz'"
      ]
     },
     "metadata": {},
     "output_type": "display_data"
    },
    {
     "data": {
      "text/plain": [
       "[<a href=\"fsnem.sqw?id=1292&amp;o=8\">Political group ANO 2011</a>]"
      ]
     },
     "metadata": {},
     "output_type": "display_data"
    },
    {
     "data": {
      "text/plain": [
       "'url:https://public.psp.cz/en/sqw/detail.sqw?id=6190&o=8&l=cz'"
      ]
     },
     "metadata": {},
     "output_type": "display_data"
    },
    {
     "data": {
      "text/plain": [
       "[<a href=\"fsnem.sqw?id=1292&amp;o=8\">Political group ANO 2011</a>,\n",
       " <a href=\"fsnem.sqw?id=1292&amp;o=8\">Political group ANO 2011</a>]"
      ]
     },
     "metadata": {},
     "output_type": "display_data"
    },
    {
     "data": {
      "text/plain": [
       "'url:https://public.psp.cz/en/sqw/detail.sqw?id=6447&o=8&l=cz'"
      ]
     },
     "metadata": {},
     "output_type": "display_data"
    },
    {
     "data": {
      "text/plain": [
       "[<a href=\"fsnem.sqw?id=1292&amp;o=8\">Political group ANO 2011</a>]"
      ]
     },
     "metadata": {},
     "output_type": "display_data"
    },
    {
     "data": {
      "text/plain": [
       "'url:https://public.psp.cz/en/sqw/detail.sqw?id=6448&o=8&l=cz'"
      ]
     },
     "metadata": {},
     "output_type": "display_data"
    },
    {
     "data": {
      "text/plain": [
       "[<a href=\"fsnem.sqw?id=1292&amp;o=8\">Political group ANO 2011</a>]"
      ]
     },
     "metadata": {},
     "output_type": "display_data"
    },
    {
     "data": {
      "text/plain": [
       "'url:https://public.psp.cz/en/sqw/detail.sqw?id=6457&o=8&l=cz'"
      ]
     },
     "metadata": {},
     "output_type": "display_data"
    },
    {
     "data": {
      "text/plain": [
       "[<a href=\"fsnem.sqw?id=1292&amp;o=8\">Political group ANO 2011</a>]"
      ]
     },
     "metadata": {},
     "output_type": "display_data"
    },
    {
     "data": {
      "text/plain": [
       "'url:https://public.psp.cz/en/sqw/detail.sqw?id=6451&o=8&l=cz'"
      ]
     },
     "metadata": {},
     "output_type": "display_data"
    },
    {
     "data": {
      "text/plain": [
       "[<a href=\"fsnem.sqw?id=1292&amp;o=8\">Political group ANO 2011</a>]"
      ]
     },
     "metadata": {},
     "output_type": "display_data"
    },
    {
     "data": {
      "text/plain": [
       "'url:https://public.psp.cz/en/sqw/detail.sqw?id=6139&o=8&l=cz'"
      ]
     },
     "metadata": {},
     "output_type": "display_data"
    },
    {
     "data": {
      "text/plain": [
       "[<a href=\"fsnem.sqw?id=1292&amp;o=8\">Political group ANO 2011</a>,\n",
       " <a href=\"fsnem.sqw?id=1292&amp;o=8\">Political group ANO 2011</a>]"
      ]
     },
     "metadata": {},
     "output_type": "display_data"
    },
    {
     "data": {
      "text/plain": [
       "'url:https://public.psp.cz/en/sqw/detail.sqw?id=6303&o=8&l=cz'"
      ]
     },
     "metadata": {},
     "output_type": "display_data"
    },
    {
     "data": {
      "text/plain": [
       "[<a href=\"fsnem.sqw?id=1292&amp;o=8\">Political group ANO 2011</a>]"
      ]
     },
     "metadata": {},
     "output_type": "display_data"
    },
    {
     "data": {
      "text/plain": [
       "'url:https://public.psp.cz/en/sqw/detail.sqw?id=6453&o=8&l=cz'"
      ]
     },
     "metadata": {},
     "output_type": "display_data"
    },
    {
     "data": {
      "text/plain": [
       "[<a href=\"fsnem.sqw?id=1292&amp;o=8\">Political group ANO 2011</a>]"
      ]
     },
     "metadata": {},
     "output_type": "display_data"
    },
    {
     "data": {
      "text/plain": [
       "'url:https://public.psp.cz/en/sqw/detail.sqw?id=6458&o=8&l=cz'"
      ]
     },
     "metadata": {},
     "output_type": "display_data"
    },
    {
     "data": {
      "text/plain": [
       "[<a href=\"fsnem.sqw?id=1292&amp;o=8\">Political group ANO 2011</a>]"
      ]
     },
     "metadata": {},
     "output_type": "display_data"
    },
    {
     "data": {
      "text/plain": [
       "'url:https://public.psp.cz/en/sqw/detail.sqw?id=6201&o=8&l=cz'"
      ]
     },
     "metadata": {},
     "output_type": "display_data"
    },
    {
     "data": {
      "text/plain": [
       "[<a href=\"fsnem.sqw?id=1292&amp;o=8\">Political group ANO 2011</a>]"
      ]
     },
     "metadata": {},
     "output_type": "display_data"
    },
    {
     "data": {
      "text/plain": [
       "'url:https://public.psp.cz/en/sqw/detail.sqw?id=6463&o=8&l=cz'"
      ]
     },
     "metadata": {},
     "output_type": "display_data"
    },
    {
     "data": {
      "text/plain": [
       "[<a href=\"fsnem.sqw?id=1292&amp;o=8\">Political group ANO 2011</a>]"
      ]
     },
     "metadata": {},
     "output_type": "display_data"
    },
    {
     "data": {
      "text/plain": [
       "'url:https://public.psp.cz/en/sqw/detail.sqw?id=6496&o=8&l=cz'"
      ]
     },
     "metadata": {},
     "output_type": "display_data"
    },
    {
     "data": {
      "text/plain": [
       "[<a href=\"fsnem.sqw?id=1292&amp;o=8\">Political group ANO 2011</a>]"
      ]
     },
     "metadata": {},
     "output_type": "display_data"
    },
    {
     "data": {
      "text/plain": [
       "'url:https://public.psp.cz/en/sqw/detail.sqw?id=6497&o=8&l=cz'"
      ]
     },
     "metadata": {},
     "output_type": "display_data"
    },
    {
     "data": {
      "text/plain": [
       "[<a href=\"fsnem.sqw?id=1292&amp;o=8\">Political group ANO 2011</a>]"
      ]
     },
     "metadata": {},
     "output_type": "display_data"
    },
    {
     "data": {
      "text/plain": [
       "'url:https://public.psp.cz/en/sqw/detail.sqw?id=6209&o=8&l=cz'"
      ]
     },
     "metadata": {},
     "output_type": "display_data"
    },
    {
     "data": {
      "text/plain": [
       "[<a href=\"fsnem.sqw?id=1292&amp;o=8\">Political group ANO 2011</a>]"
      ]
     },
     "metadata": {},
     "output_type": "display_data"
    },
    {
     "data": {
      "text/plain": [
       "'url:https://public.psp.cz/en/sqw/detail.sqw?id=6506&o=8&l=cz'"
      ]
     },
     "metadata": {},
     "output_type": "display_data"
    },
    {
     "data": {
      "text/plain": [
       "[<a href=\"fsnem.sqw?id=1292&amp;o=8\">Political group ANO 2011</a>]"
      ]
     },
     "metadata": {},
     "output_type": "display_data"
    },
    {
     "data": {
      "text/plain": [
       "'url:https://public.psp.cz/en/sqw/detail.sqw?id=6211&o=8&l=cz'"
      ]
     },
     "metadata": {},
     "output_type": "display_data"
    },
    {
     "data": {
      "text/plain": [
       "[<a href=\"fsnem.sqw?id=1292&amp;o=8\">Political group ANO 2011</a>]"
      ]
     },
     "metadata": {},
     "output_type": "display_data"
    },
    {
     "data": {
      "text/plain": [
       "'url:https://public.psp.cz/en/sqw/detail.sqw?id=6464&o=8&l=cz'"
      ]
     },
     "metadata": {},
     "output_type": "display_data"
    },
    {
     "data": {
      "text/plain": [
       "[<a href=\"fsnem.sqw?id=1292&amp;o=8\">Political group ANO 2011</a>]"
      ]
     },
     "metadata": {},
     "output_type": "display_data"
    },
    {
     "data": {
      "text/plain": [
       "'url:https://public.psp.cz/en/sqw/detail.sqw?id=6246&o=8&l=cz'"
      ]
     },
     "metadata": {},
     "output_type": "display_data"
    },
    {
     "data": {
      "text/plain": [
       "[<a href=\"fsnem.sqw?id=1292&amp;o=8\">Political group ANO 2011</a>]"
      ]
     },
     "metadata": {},
     "output_type": "display_data"
    },
    {
     "data": {
      "text/plain": [
       "'url:https://public.psp.cz/en/sqw/detail.sqw?id=6509&o=8&l=cz'"
      ]
     },
     "metadata": {},
     "output_type": "display_data"
    },
    {
     "data": {
      "text/plain": [
       "[<a href=\"fsnem.sqw?id=1292&amp;o=8\">Political group ANO 2011</a>]"
      ]
     },
     "metadata": {},
     "output_type": "display_data"
    },
    {
     "data": {
      "text/plain": [
       "'url:https://public.psp.cz/en/sqw/detail.sqw?id=6215&o=8&l=cz'"
      ]
     },
     "metadata": {},
     "output_type": "display_data"
    },
    {
     "data": {
      "text/plain": [
       "[<a href=\"fsnem.sqw?id=1292&amp;o=8\">Political group ANO 2011</a>,\n",
       " <a href=\"fsnem.sqw?id=1292&amp;o=8\">Political group ANO 2011</a>]"
      ]
     },
     "metadata": {},
     "output_type": "display_data"
    },
    {
     "data": {
      "text/plain": [
       "'url:https://public.psp.cz/en/sqw/detail.sqw?id=6511&o=8&l=cz'"
      ]
     },
     "metadata": {},
     "output_type": "display_data"
    },
    {
     "data": {
      "text/plain": [
       "[<a href=\"fsnem.sqw?id=1292&amp;o=8\">Political group ANO 2011</a>]"
      ]
     },
     "metadata": {},
     "output_type": "display_data"
    },
    {
     "data": {
      "text/plain": [
       "'url:https://public.psp.cz/en/sqw/detail.sqw?id=6512&o=8&l=cz'"
      ]
     },
     "metadata": {},
     "output_type": "display_data"
    },
    {
     "data": {
      "text/plain": [
       "[<a href=\"fsnem.sqw?id=1292&amp;o=8\">Political group ANO 2011</a>]"
      ]
     },
     "metadata": {},
     "output_type": "display_data"
    },
    {
     "data": {
      "text/plain": [
       "'url:https://public.psp.cz/en/sqw/detail.sqw?id=6468&o=8&l=cz'"
      ]
     },
     "metadata": {},
     "output_type": "display_data"
    },
    {
     "data": {
      "text/plain": [
       "[<a href=\"fsnem.sqw?id=1292&amp;o=8\">Political group ANO 2011</a>]"
      ]
     },
     "metadata": {},
     "output_type": "display_data"
    },
    {
     "data": {
      "text/plain": [
       "'url:https://public.psp.cz/en/sqw/detail.sqw?id=6536&o=8&l=cz'"
      ]
     },
     "metadata": {},
     "output_type": "display_data"
    },
    {
     "data": {
      "text/plain": [
       "[<a href=\"fsnem.sqw?id=1292&amp;o=8\">Political group ANO 2011</a>]"
      ]
     },
     "metadata": {},
     "output_type": "display_data"
    },
    {
     "data": {
      "text/plain": [
       "'url:https://public.psp.cz/en/sqw/detail.sqw?id=6534&o=8&l=cz'"
      ]
     },
     "metadata": {},
     "output_type": "display_data"
    },
    {
     "data": {
      "text/plain": [
       "[<a href=\"fsnem.sqw?id=1292&amp;o=8\">Political group ANO 2011</a>]"
      ]
     },
     "metadata": {},
     "output_type": "display_data"
    },
    {
     "data": {
      "text/plain": [
       "'url:https://public.psp.cz/en/sqw/detail.sqw?id=6221&o=8&l=cz'"
      ]
     },
     "metadata": {},
     "output_type": "display_data"
    },
    {
     "data": {
      "text/plain": [
       "[<a href=\"fsnem.sqw?id=1292&amp;o=8\">Political group ANO 2011</a>]"
      ]
     },
     "metadata": {},
     "output_type": "display_data"
    },
    {
     "data": {
      "text/plain": [
       "'url:https://public.psp.cz/en/sqw/detail.sqw?id=6476&o=8&l=cz'"
      ]
     },
     "metadata": {},
     "output_type": "display_data"
    },
    {
     "data": {
      "text/plain": [
       "[<a href=\"fsnem.sqw?id=1292&amp;o=8\">Political group ANO 2011</a>]"
      ]
     },
     "metadata": {},
     "output_type": "display_data"
    },
    {
     "data": {
      "text/plain": [
       "'url:https://public.psp.cz/en/sqw/detail.sqw?id=6471&o=8&l=cz'"
      ]
     },
     "metadata": {},
     "output_type": "display_data"
    },
    {
     "data": {
      "text/plain": [
       "[<a href=\"fsnem.sqw?id=1292&amp;o=8\">Political group ANO 2011</a>]"
      ]
     },
     "metadata": {},
     "output_type": "display_data"
    },
    {
     "data": {
      "text/plain": [
       "'url:https://public.psp.cz/en/sqw/detail.sqw?id=6487&o=8&l=cz'"
      ]
     },
     "metadata": {},
     "output_type": "display_data"
    },
    {
     "data": {
      "text/plain": [
       "[<a href=\"fsnem.sqw?id=1292&amp;o=8\">Political group ANO 2011</a>]"
      ]
     },
     "metadata": {},
     "output_type": "display_data"
    },
    {
     "data": {
      "text/plain": [
       "'url:https://public.psp.cz/en/sqw/detail.sqw?id=6533&o=8&l=cz'"
      ]
     },
     "metadata": {},
     "output_type": "display_data"
    },
    {
     "data": {
      "text/plain": [
       "[<a href=\"fsnem.sqw?id=1292&amp;o=8\">Political group ANO 2011</a>]"
      ]
     },
     "metadata": {},
     "output_type": "display_data"
    },
    {
     "data": {
      "text/plain": [
       "'url:https://public.psp.cz/en/sqw/detail.sqw?id=6475&o=8&l=cz'"
      ]
     },
     "metadata": {},
     "output_type": "display_data"
    },
    {
     "data": {
      "text/plain": [
       "[<a href=\"fsnem.sqw?id=1292&amp;o=8\">Political group ANO 2011</a>]"
      ]
     },
     "metadata": {},
     "output_type": "display_data"
    },
    {
     "data": {
      "text/plain": [
       "'url:https://public.psp.cz/en/sqw/detail.sqw?id=6172&o=8&l=cz'"
      ]
     },
     "metadata": {},
     "output_type": "display_data"
    },
    {
     "data": {
      "text/plain": [
       "[<a href=\"fsnem.sqw?id=1292&amp;o=8\">Political group ANO 2011</a>]"
      ]
     },
     "metadata": {},
     "output_type": "display_data"
    },
    {
     "data": {
      "text/plain": [
       "'url:https://public.psp.cz/en/sqw/detail.sqw?id=6474&o=8&l=cz'"
      ]
     },
     "metadata": {},
     "output_type": "display_data"
    },
    {
     "data": {
      "text/plain": [
       "[<a href=\"fsnem.sqw?id=1292&amp;o=8\">Political group ANO 2011</a>]"
      ]
     },
     "metadata": {},
     "output_type": "display_data"
    },
    {
     "data": {
      "text/plain": [
       "'url:https://public.psp.cz/en/sqw/detail.sqw?id=6225&o=8&l=cz'"
      ]
     },
     "metadata": {},
     "output_type": "display_data"
    },
    {
     "data": {
      "text/plain": [
       "[<a href=\"fsnem.sqw?id=1292&amp;o=8\">Political group ANO 2011</a>,\n",
       " <a href=\"fsnem.sqw?id=1292&amp;o=8\">Political group ANO 2011</a>]"
      ]
     },
     "metadata": {},
     "output_type": "display_data"
    },
    {
     "data": {
      "text/plain": [
       "'url:https://public.psp.cz/en/sqw/detail.sqw?id=6318&o=8&l=cz'"
      ]
     },
     "metadata": {},
     "output_type": "display_data"
    },
    {
     "data": {
      "text/plain": [
       "[<a href=\"fsnem.sqw?id=1292&amp;o=8\">Political group ANO 2011</a>]"
      ]
     },
     "metadata": {},
     "output_type": "display_data"
    },
    {
     "data": {
      "text/plain": [
       "'url:https://public.psp.cz/en/sqw/detail.sqw?id=6409&o=8&l=cz'"
      ]
     },
     "metadata": {},
     "output_type": "display_data"
    },
    {
     "data": {
      "text/plain": [
       "[<a href=\"fsnem.sqw?id=1292&amp;o=8\">Political group ANO 2011</a>]"
      ]
     },
     "metadata": {},
     "output_type": "display_data"
    },
    {
     "data": {
      "text/plain": [
       "'url:https://public.psp.cz/en/sqw/detail.sqw?id=6171&o=8&l=cz'"
      ]
     },
     "metadata": {},
     "output_type": "display_data"
    },
    {
     "data": {
      "text/plain": [
       "[<a href=\"fsnem.sqw?id=1292&amp;o=8\">Political group ANO 2011</a>]"
      ]
     },
     "metadata": {},
     "output_type": "display_data"
    },
    {
     "data": {
      "text/plain": [
       "'url:https://public.psp.cz/en/sqw/detail.sqw?id=6202&o=8&l=cz'"
      ]
     },
     "metadata": {},
     "output_type": "display_data"
    },
    {
     "data": {
      "text/plain": [
       "[<a href=\"fsnem.sqw?id=1292&amp;o=8\">Political group ANO 2011</a>]"
      ]
     },
     "metadata": {},
     "output_type": "display_data"
    },
    {
     "data": {
      "text/plain": [
       "'url:https://public.psp.cz/en/sqw/detail.sqw?id=6527&o=8&l=cz'"
      ]
     },
     "metadata": {},
     "output_type": "display_data"
    },
    {
     "data": {
      "text/plain": [
       "[<a href=\"fsnem.sqw?id=1292&amp;o=8\">Political group ANO 2011</a>]"
      ]
     },
     "metadata": {},
     "output_type": "display_data"
    },
    {
     "data": {
      "text/plain": [
       "'url:https://public.psp.cz/en/sqw/detail.sqw?id=6472&o=8&l=cz'"
      ]
     },
     "metadata": {},
     "output_type": "display_data"
    },
    {
     "data": {
      "text/plain": [
       "[<a href=\"fsnem.sqw?id=1292&amp;o=8\">Political group ANO 2011</a>]"
      ]
     },
     "metadata": {},
     "output_type": "display_data"
    },
    {
     "data": {
      "text/plain": [
       "'url:https://public.psp.cz/en/sqw/detail.sqw?id=6525&o=8&l=cz'"
      ]
     },
     "metadata": {},
     "output_type": "display_data"
    },
    {
     "data": {
      "text/plain": [
       "[<a href=\"fsnem.sqw?id=1292&amp;o=8\">Political group ANO 2011</a>,\n",
       " <a href=\"fsnem.sqw?id=1292&amp;o=8\">Political group ANO 2011</a>]"
      ]
     },
     "metadata": {},
     "output_type": "display_data"
    },
    {
     "data": {
      "text/plain": [
       "'url:https://public.psp.cz/en/sqw/detail.sqw?id=6158&o=8&l=cz'"
      ]
     },
     "metadata": {},
     "output_type": "display_data"
    },
    {
     "data": {
      "text/plain": [
       "[<a href=\"fsnem.sqw?id=1292&amp;o=8\">Political group ANO 2011</a>]"
      ]
     },
     "metadata": {},
     "output_type": "display_data"
    },
    {
     "data": {
      "text/plain": [
       "'url:https://public.psp.cz/en/sqw/detail.sqw?id=6523&o=8&l=cz'"
      ]
     },
     "metadata": {},
     "output_type": "display_data"
    },
    {
     "data": {
      "text/plain": [
       "[<a href=\"fsnem.sqw?id=1292&amp;o=8\">Political group ANO 2011</a>]"
      ]
     },
     "metadata": {},
     "output_type": "display_data"
    },
    {
     "data": {
      "text/plain": [
       "'url:https://public.psp.cz/en/sqw/detail.sqw?id=6500&o=8&l=cz'"
      ]
     },
     "metadata": {},
     "output_type": "display_data"
    },
    {
     "data": {
      "text/plain": [
       "[<a href=\"fsnem.sqw?id=1292&amp;o=8\">Political group ANO 2011</a>,\n",
       " <a href=\"fsnem.sqw?id=1292&amp;o=8\">Political group ANO 2011</a>]"
      ]
     },
     "metadata": {},
     "output_type": "display_data"
    },
    {
     "data": {
      "text/plain": [
       "'url:https://public.psp.cz/en/sqw/detail.sqw?id=6379&o=8&l=cz'"
      ]
     },
     "metadata": {},
     "output_type": "display_data"
    },
    {
     "data": {
      "text/plain": [
       "[<a href=\"fsnem.sqw?id=1292&amp;o=8\">Political group ANO 2011</a>]"
      ]
     },
     "metadata": {},
     "output_type": "display_data"
    },
    {
     "data": {
      "text/plain": [
       "'url:https://public.psp.cz/en/sqw/detail.sqw?id=6520&o=8&l=cz'"
      ]
     },
     "metadata": {},
     "output_type": "display_data"
    },
    {
     "data": {
      "text/plain": [
       "[<a href=\"fsnem.sqw?id=1292&amp;o=8\">Political group ANO 2011</a>]"
      ]
     },
     "metadata": {},
     "output_type": "display_data"
    },
    {
     "data": {
      "text/plain": [
       "'url:https://public.psp.cz/en/sqw/detail.sqw?id=6519&o=8&l=cz'"
      ]
     },
     "metadata": {},
     "output_type": "display_data"
    },
    {
     "data": {
      "text/plain": [
       "[<a href=\"fsnem.sqw?id=1292&amp;o=8\">Political group ANO 2011</a>]"
      ]
     },
     "metadata": {},
     "output_type": "display_data"
    },
    {
     "data": {
      "text/plain": [
       "'url:https://public.psp.cz/en/sqw/detail.sqw?id=6518&o=8&l=cz'"
      ]
     },
     "metadata": {},
     "output_type": "display_data"
    },
    {
     "data": {
      "text/plain": [
       "[<a href=\"fsnem.sqw?id=1292&amp;o=8\">Political group ANO 2011</a>]"
      ]
     },
     "metadata": {},
     "output_type": "display_data"
    },
    {
     "data": {
      "text/plain": [
       "'url:https://public.psp.cz/en/sqw/detail.sqw?id=6517&o=8&l=cz'"
      ]
     },
     "metadata": {},
     "output_type": "display_data"
    },
    {
     "data": {
      "text/plain": [
       "[<a href=\"fsnem.sqw?id=1292&amp;o=8\">Political group ANO 2011</a>]"
      ]
     },
     "metadata": {},
     "output_type": "display_data"
    },
    {
     "data": {
      "text/plain": [
       "'url:https://public.psp.cz/en/sqw/detail.sqw?id=6501&o=8&l=cz'"
      ]
     },
     "metadata": {},
     "output_type": "display_data"
    },
    {
     "data": {
      "text/plain": [
       "[<a href=\"fsnem.sqw?id=1292&amp;o=8\">Political group ANO 2011</a>]"
      ]
     },
     "metadata": {},
     "output_type": "display_data"
    },
    {
     "data": {
      "text/plain": [
       "'url:https://public.psp.cz/en/sqw/detail.sqw?id=443&&o=8&l=cz'"
      ]
     },
     "metadata": {},
     "output_type": "display_data"
    },
    {
     "data": {
      "text/plain": [
       "[<a href=\"fsnem.sqw?id=1292&amp;o=8\">Political group ANO 2011</a>]"
      ]
     },
     "metadata": {},
     "output_type": "display_data"
    },
    {
     "data": {
      "text/plain": [
       "'url:https://public.psp.cz/en/sqw/detail.sqw?id=6515&o=8&l=cz'"
      ]
     },
     "metadata": {},
     "output_type": "display_data"
    },
    {
     "data": {
      "text/plain": [
       "[<a href=\"fsnem.sqw?id=1292&amp;o=8\">Political group ANO 2011</a>]"
      ]
     },
     "metadata": {},
     "output_type": "display_data"
    },
    {
     "data": {
      "text/plain": [
       "'url:https://public.psp.cz/en/sqw/detail.sqw?id=6287&o=8&l=cz'"
      ]
     },
     "metadata": {},
     "output_type": "display_data"
    },
    {
     "data": {
      "text/plain": [
       "[<a href=\"fsnem.sqw?id=1292&amp;o=8\">Political group ANO 2011</a>]"
      ]
     },
     "metadata": {},
     "output_type": "display_data"
    },
    {
     "data": {
      "text/plain": [
       "'url:https://public.psp.cz/en/sqw/detail.sqw?id=6505&o=8&l=cz'"
      ]
     },
     "metadata": {},
     "output_type": "display_data"
    },
    {
     "data": {
      "text/plain": [
       "[<a href=\"fsnem.sqw?id=1292&amp;o=8\">Political group ANO 2011</a>]"
      ]
     },
     "metadata": {},
     "output_type": "display_data"
    },
    {
     "data": {
      "text/plain": [
       "'url:https://public.psp.cz/en/sqw/detail.sqw?id=6484&o=8&l=cz'"
      ]
     },
     "metadata": {},
     "output_type": "display_data"
    },
    {
     "data": {
      "text/plain": [
       "[<a href=\"fsnem.sqw?id=1292&amp;o=8\">Political group ANO 2011</a>]"
      ]
     },
     "metadata": {},
     "output_type": "display_data"
    },
    {
     "data": {
      "text/plain": [
       "'url:https://public.psp.cz/en/sqw/detail.sqw?id=6291&o=8&l=cz'"
      ]
     },
     "metadata": {},
     "output_type": "display_data"
    },
    {
     "data": {
      "text/plain": [
       "[<a href=\"fsnem.sqw?id=1292&amp;o=8\">Political group ANO 2011</a>]"
      ]
     },
     "metadata": {},
     "output_type": "display_data"
    },
    {
     "data": {
      "text/plain": [
       "'url:https://public.psp.cz/en/sqw/detail.sqw?id=6240&o=8&l=cz'"
      ]
     },
     "metadata": {},
     "output_type": "display_data"
    },
    {
     "data": {
      "text/plain": [
       "[<a href=\"fsnem.sqw?id=1292&amp;o=8\">Political group ANO 2011</a>]"
      ]
     },
     "metadata": {},
     "output_type": "display_data"
    },
    {
     "data": {
      "text/plain": [
       "'url:https://public.psp.cz/en/sqw/detail.sqw?id=6168&o=8&l=cz'"
      ]
     },
     "metadata": {},
     "output_type": "display_data"
    },
    {
     "data": {
      "text/plain": [
       "[<a href=\"fsnem.sqw?id=1292&amp;o=8\">Political group ANO 2011</a>]"
      ]
     },
     "metadata": {},
     "output_type": "display_data"
    },
    {
     "data": {
      "text/plain": [
       "'url:https://public.psp.cz/en/sqw/detail.sqw?id=6491&o=8&l=cz'"
      ]
     },
     "metadata": {},
     "output_type": "display_data"
    },
    {
     "data": {
      "text/plain": [
       "[<a href=\"fsnem.sqw?id=1292&amp;o=8\">Political group ANO 2011</a>]"
      ]
     },
     "metadata": {},
     "output_type": "display_data"
    },
    {
     "data": {
      "text/plain": [
       "'url:https://public.psp.cz/en/sqw/detail.sqw?id=6166&o=8&l=cz'"
      ]
     },
     "metadata": {},
     "output_type": "display_data"
    },
    {
     "data": {
      "text/plain": [
       "[<a href=\"fsnem.sqw?id=1292&amp;o=8\">Political group ANO 2011</a>,\n",
       " <a href=\"fsnem.sqw?id=1292&amp;o=8\">Political group ANO 2011</a>]"
      ]
     },
     "metadata": {},
     "output_type": "display_data"
    },
    {
     "data": {
      "text/plain": [
       "'url:https://public.psp.cz/en/sqw/detail.sqw?id=6492&o=8&l=cz'"
      ]
     },
     "metadata": {},
     "output_type": "display_data"
    },
    {
     "data": {
      "text/plain": [
       "[<a href=\"fsnem.sqw?id=1292&amp;o=8\">Political group ANO 2011</a>]"
      ]
     },
     "metadata": {},
     "output_type": "display_data"
    },
    {
     "data": {
      "text/plain": [
       "'url:https://public.psp.cz/en/sqw/detail.sqw?id=6490&o=8&l=cz'"
      ]
     },
     "metadata": {},
     "output_type": "display_data"
    },
    {
     "data": {
      "text/plain": [
       "[<a href=\"fsnem.sqw?id=1292&amp;o=8\">Political group ANO 2011</a>]"
      ]
     },
     "metadata": {},
     "output_type": "display_data"
    },
    {
     "data": {
      "text/plain": [
       "'url:https://public.psp.cz/en/sqw/detail.sqw?id=6161&o=8&l=cz'"
      ]
     },
     "metadata": {},
     "output_type": "display_data"
    },
    {
     "data": {
      "text/plain": [
       "[<a href=\"fsnem.sqw?id=1292&amp;o=8\">Political group ANO 2011</a>]"
      ]
     },
     "metadata": {},
     "output_type": "display_data"
    },
    {
     "data": {
      "text/plain": [
       "'url:https://public.psp.cz/en/sqw/detail.sqw?id=6480&o=8&l=cz'"
      ]
     },
     "metadata": {},
     "output_type": "display_data"
    },
    {
     "data": {
      "text/plain": [
       "[<a href=\"fsnem.sqw?id=1292&amp;o=8\">Political group ANO 2011</a>]"
      ]
     },
     "metadata": {},
     "output_type": "display_data"
    },
    {
     "data": {
      "text/plain": [
       "'url:https://public.psp.cz/en/sqw/detail.sqw?id=5700&o=8&l=cz'"
      ]
     },
     "metadata": {},
     "output_type": "display_data"
    },
    {
     "data": {
      "text/plain": [
       "[<a href=\"fsnem.sqw?id=1295&amp;o=8\">Political group Civic Democratic Party</a>,\n",
       " <a href=\"fsnem.sqw?id=1295&amp;o=8\">Political group Civic Democratic Party</a>]"
      ]
     },
     "metadata": {},
     "output_type": "display_data"
    },
    {
     "data": {
      "text/plain": [
       "'url:https://public.psp.cz/en/sqw/detail.sqw?id=5379&o=8&l=cz'"
      ]
     },
     "metadata": {},
     "output_type": "display_data"
    },
    {
     "data": {
      "text/plain": [
       "[<a href=\"fsnem.sqw?id=1295&amp;o=8\">Political group Civic Democratic Party</a>,\n",
       " <a href=\"fsnem.sqw?id=1295&amp;o=8\">Political group Civic Democratic Party</a>]"
      ]
     },
     "metadata": {},
     "output_type": "display_data"
    },
    {
     "data": {
      "text/plain": [
       "'url:https://public.psp.cz/en/sqw/detail.sqw?id=6435&o=8&l=cz'"
      ]
     },
     "metadata": {},
     "output_type": "display_data"
    },
    {
     "data": {
      "text/plain": [
       "[<a href=\"fsnem.sqw?id=1295&amp;o=8\">Political group Civic Democratic Party</a>]"
      ]
     },
     "metadata": {},
     "output_type": "display_data"
    },
    {
     "data": {
      "text/plain": [
       "'url:https://public.psp.cz/en/sqw/detail.sqw?id=6436&o=8&l=cz'"
      ]
     },
     "metadata": {},
     "output_type": "display_data"
    },
    {
     "data": {
      "text/plain": [
       "[<a href=\"fsnem.sqw?id=1295&amp;o=8\">Political group Civic Democratic Party</a>]"
      ]
     },
     "metadata": {},
     "output_type": "display_data"
    },
    {
     "data": {
      "text/plain": [
       "'url:https://public.psp.cz/en/sqw/detail.sqw?id=4&o=&o=8&l=cz'"
      ]
     },
     "metadata": {},
     "output_type": "display_data"
    },
    {
     "data": {
      "text/plain": [
       "[<a href=\"fsnem.sqw?id=1295&amp;o=8\">Political group Civic Democratic Party</a>,\n",
       " <a href=\"fsnem.sqw?id=1295&amp;o=8\">Political group Civic Democratic Party</a>]"
      ]
     },
     "metadata": {},
     "output_type": "display_data"
    },
    {
     "data": {
      "text/plain": [
       "'url:https://public.psp.cz/en/sqw/detail.sqw?id=6438&o=8&l=cz'"
      ]
     },
     "metadata": {},
     "output_type": "display_data"
    },
    {
     "data": {
      "text/plain": [
       "[<a href=\"fsnem.sqw?id=1295&amp;o=8\">Political group Civic Democratic Party</a>]"
      ]
     },
     "metadata": {},
     "output_type": "display_data"
    },
    {
     "data": {
      "text/plain": [
       "'url:https://public.psp.cz/en/sqw/detail.sqw?id=6079&o=8&l=cz'"
      ]
     },
     "metadata": {},
     "output_type": "display_data"
    },
    {
     "data": {
      "text/plain": [
       "[<a href=\"fsnem.sqw?id=1295&amp;o=8\">Political group Civic Democratic Party</a>]"
      ]
     },
     "metadata": {},
     "output_type": "display_data"
    },
    {
     "data": {
      "text/plain": [
       "'url:https://public.psp.cz/en/sqw/detail.sqw?id=5903&o=8&l=cz'"
      ]
     },
     "metadata": {},
     "output_type": "display_data"
    },
    {
     "data": {
      "text/plain": [
       "[<a href=\"fsnem.sqw?id=1295&amp;o=8\">Political group Civic Democratic Party</a>,\n",
       " <a href=\"fsnem.sqw?id=1295&amp;o=8\">Political group Civic Democratic Party</a>]"
      ]
     },
     "metadata": {},
     "output_type": "display_data"
    },
    {
     "data": {
      "text/plain": [
       "'url:https://public.psp.cz/en/sqw/detail.sqw?id=6074&o=8&l=cz'"
      ]
     },
     "metadata": {},
     "output_type": "display_data"
    },
    {
     "data": {
      "text/plain": [
       "[<a href=\"fsnem.sqw?id=1295&amp;o=8\">Political group Civic Democratic Party</a>]"
      ]
     },
     "metadata": {},
     "output_type": "display_data"
    },
    {
     "data": {
      "text/plain": [
       "'url:https://public.psp.cz/en/sqw/detail.sqw?id=6459&o=8&l=cz'"
      ]
     },
     "metadata": {},
     "output_type": "display_data"
    },
    {
     "data": {
      "text/plain": [
       "[<a href=\"fsnem.sqw?id=1295&amp;o=8\">Political group Civic Democratic Party</a>]"
      ]
     },
     "metadata": {},
     "output_type": "display_data"
    },
    {
     "data": {
      "text/plain": [
       "'url:https://public.psp.cz/en/sqw/detail.sqw?id=6498&o=8&l=cz'"
      ]
     },
     "metadata": {},
     "output_type": "display_data"
    },
    {
     "data": {
      "text/plain": [
       "[<a href=\"fsnem.sqw?id=1295&amp;o=8\">Political group Civic Democratic Party</a>]"
      ]
     },
     "metadata": {},
     "output_type": "display_data"
    },
    {
     "data": {
      "text/plain": [
       "'url:https://public.psp.cz/en/sqw/detail.sqw?id=6510&o=8&l=cz'"
      ]
     },
     "metadata": {},
     "output_type": "display_data"
    },
    {
     "data": {
      "text/plain": [
       "[<a href=\"fsnem.sqw?id=1295&amp;o=8\">Political group Civic Democratic Party</a>]"
      ]
     },
     "metadata": {},
     "output_type": "display_data"
    },
    {
     "data": {
      "text/plain": [
       "'url:https://public.psp.cz/en/sqw/detail.sqw?id=6538&o=8&l=cz'"
      ]
     },
     "metadata": {},
     "output_type": "display_data"
    },
    {
     "data": {
      "text/plain": [
       "[<a href=\"fsnem.sqw?id=1295&amp;o=8\">Political group Civic Democratic Party</a>]"
      ]
     },
     "metadata": {},
     "output_type": "display_data"
    },
    {
     "data": {
      "text/plain": [
       "'url:https://public.psp.cz/en/sqw/detail.sqw?id=6467&o=8&l=cz'"
      ]
     },
     "metadata": {},
     "output_type": "display_data"
    },
    {
     "data": {
      "text/plain": [
       "[<a href=\"fsnem.sqw?id=1295&amp;o=8\">Political group Civic Democratic Party</a>]"
      ]
     },
     "metadata": {},
     "output_type": "display_data"
    },
    {
     "data": {
      "text/plain": [
       "'url:https://public.psp.cz/en/sqw/detail.sqw?id=5945&o=8&l=cz'"
      ]
     },
     "metadata": {},
     "output_type": "display_data"
    },
    {
     "data": {
      "text/plain": [
       "[<a href=\"fsnem.sqw?id=1295&amp;o=8\">Political group Civic Democratic Party</a>]"
      ]
     },
     "metadata": {},
     "output_type": "display_data"
    },
    {
     "data": {
      "text/plain": [
       "'url:https://public.psp.cz/en/sqw/detail.sqw?id=6470&o=8&l=cz'"
      ]
     },
     "metadata": {},
     "output_type": "display_data"
    },
    {
     "data": {
      "text/plain": [
       "[<a href=\"fsnem.sqw?id=1295&amp;o=8\">Political group Civic Democratic Party</a>]"
      ]
     },
     "metadata": {},
     "output_type": "display_data"
    },
    {
     "data": {
      "text/plain": [
       "'url:https://public.psp.cz/en/sqw/detail.sqw?id=6486&o=8&l=cz'"
      ]
     },
     "metadata": {},
     "output_type": "display_data"
    },
    {
     "data": {
      "text/plain": [
       "[<a href=\"fsnem.sqw?id=1295&amp;o=8\">Political group Civic Democratic Party</a>]"
      ]
     },
     "metadata": {},
     "output_type": "display_data"
    },
    {
     "data": {
      "text/plain": [
       "'url:https://public.psp.cz/en/sqw/detail.sqw?id=401&&o=8&l=cz'"
      ]
     },
     "metadata": {},
     "output_type": "display_data"
    },
    {
     "data": {
      "text/plain": [
       "[<a href=\"fsnem.sqw?id=1295&amp;o=8\">Political group Civic Democratic Party</a>]"
      ]
     },
     "metadata": {},
     "output_type": "display_data"
    },
    {
     "data": {
      "text/plain": [
       "'url:https://public.psp.cz/en/sqw/detail.sqw?id=6418&o=8&l=cz'"
      ]
     },
     "metadata": {},
     "output_type": "display_data"
    },
    {
     "data": {
      "text/plain": [
       "[<a href=\"fsnem.sqw?id=1295&amp;o=8\">Political group Civic Democratic Party</a>,\n",
       " <a href=\"fsnem.sqw?id=1295&amp;o=8\">Political group Civic Democratic Party</a>]"
      ]
     },
     "metadata": {},
     "output_type": "display_data"
    },
    {
     "data": {
      "text/plain": [
       "'url:https://public.psp.cz/en/sqw/detail.sqw?id=5969&o=8&l=cz'"
      ]
     },
     "metadata": {},
     "output_type": "display_data"
    },
    {
     "data": {
      "text/plain": [
       "[<a href=\"fsnem.sqw?id=1295&amp;o=8\">Political group Civic Democratic Party</a>,\n",
       " <a href=\"fsnem.sqw?id=1295&amp;o=8\">Political group Civic Democratic Party</a>]"
      ]
     },
     "metadata": {},
     "output_type": "display_data"
    },
    {
     "data": {
      "text/plain": [
       "'url:https://public.psp.cz/en/sqw/detail.sqw?id=6007&o=8&l=cz'"
      ]
     },
     "metadata": {},
     "output_type": "display_data"
    },
    {
     "data": {
      "text/plain": [
       "[<a href=\"fsnem.sqw?id=1295&amp;o=8\">Political group Civic Democratic Party</a>]"
      ]
     },
     "metadata": {},
     "output_type": "display_data"
    },
    {
     "data": {
      "text/plain": [
       "'url:https://public.psp.cz/en/sqw/detail.sqw?id=6493&o=8&l=cz'"
      ]
     },
     "metadata": {},
     "output_type": "display_data"
    },
    {
     "data": {
      "text/plain": [
       "[<a href=\"fsnem.sqw?id=1295&amp;o=8\">Political group Civic Democratic Party</a>]"
      ]
     },
     "metadata": {},
     "output_type": "display_data"
    },
    {
     "data": {
      "text/plain": [
       "'url:https://public.psp.cz/en/sqw/detail.sqw?id=6052&o=8&l=cz'"
      ]
     },
     "metadata": {},
     "output_type": "display_data"
    },
    {
     "data": {
      "text/plain": [
       "[<a href=\"fsnem.sqw?id=1295&amp;o=8\">Political group Civic Democratic Party</a>]"
      ]
     },
     "metadata": {},
     "output_type": "display_data"
    },
    {
     "data": {
      "text/plain": [
       "'url:https://public.psp.cz/en/sqw/detail.sqw?id=5844&o=8&l=cz'"
      ]
     },
     "metadata": {},
     "output_type": "display_data"
    },
    {
     "data": {
      "text/plain": [
       "[<a href=\"fsnem.sqw?id=1295&amp;o=8\">Political group Civic Democratic Party</a>]"
      ]
     },
     "metadata": {},
     "output_type": "display_data"
    },
    {
     "data": {
      "text/plain": [
       "'url:https://public.psp.cz/en/sqw/detail.sqw?id=5226&o=8&l=cz'"
      ]
     },
     "metadata": {},
     "output_type": "display_data"
    },
    {
     "data": {
      "text/plain": [
       "[<a href=\"fsnem.sqw?id=1295&amp;o=8\">Political group Civic Democratic Party</a>]"
      ]
     },
     "metadata": {},
     "output_type": "display_data"
    },
    {
     "data": {
      "text/plain": [
       "'url:https://public.psp.cz/en/sqw/detail.sqw?id=6429&o=8&l=cz'"
      ]
     },
     "metadata": {},
     "output_type": "display_data"
    },
    {
     "data": {
      "text/plain": [
       "[<a href=\"fsnem.sqw?id=1300&amp;o=8\">Political group Czech Pirate Party</a>,\n",
       " <a href=\"fsnem.sqw?id=1300&amp;o=8\">Political group Czech Pirate Party</a>]"
      ]
     },
     "metadata": {},
     "output_type": "display_data"
    },
    {
     "data": {
      "text/plain": [
       "'url:https://public.psp.cz/en/sqw/detail.sqw?id=6432&o=8&l=cz'"
      ]
     },
     "metadata": {},
     "output_type": "display_data"
    },
    {
     "data": {
      "text/plain": [
       "[<a href=\"fsnem.sqw?id=1300&amp;o=8\">Political group Czech Pirate Party</a>]"
      ]
     },
     "metadata": {},
     "output_type": "display_data"
    },
    {
     "data": {
      "text/plain": [
       "'url:https://public.psp.cz/en/sqw/detail.sqw?id=6433&o=8&l=cz'"
      ]
     },
     "metadata": {},
     "output_type": "display_data"
    },
    {
     "data": {
      "text/plain": [
       "[<a href=\"fsnem.sqw?id=1300&amp;o=8\">Political group Czech Pirate Party</a>]"
      ]
     },
     "metadata": {},
     "output_type": "display_data"
    },
    {
     "data": {
      "text/plain": [
       "'url:https://public.psp.cz/en/sqw/detail.sqw?id=6442&o=8&l=cz'"
      ]
     },
     "metadata": {},
     "output_type": "display_data"
    },
    {
     "data": {
      "text/plain": [
       "[<a href=\"fsnem.sqw?id=1300&amp;o=8\">Political group Czech Pirate Party</a>,\n",
       " <a href=\"fsnem.sqw?id=1300&amp;o=8\">Political group Czech Pirate Party</a>]"
      ]
     },
     "metadata": {},
     "output_type": "display_data"
    },
    {
     "data": {
      "text/plain": [
       "'url:https://public.psp.cz/en/sqw/detail.sqw?id=6446&o=8&l=cz'"
      ]
     },
     "metadata": {},
     "output_type": "display_data"
    },
    {
     "data": {
      "text/plain": [
       "[<a href=\"fsnem.sqw?id=1300&amp;o=8\">Political group Czech Pirate Party</a>]"
      ]
     },
     "metadata": {},
     "output_type": "display_data"
    },
    {
     "data": {
      "text/plain": [
       "'url:https://public.psp.cz/en/sqw/detail.sqw?id=6450&o=8&l=cz'"
      ]
     },
     "metadata": {},
     "output_type": "display_data"
    },
    {
     "data": {
      "text/plain": [
       "[<a href=\"fsnem.sqw?id=1300&amp;o=8\">Political group Czech Pirate Party</a>]"
      ]
     },
     "metadata": {},
     "output_type": "display_data"
    },
    {
     "data": {
      "text/plain": [
       "'url:https://public.psp.cz/en/sqw/detail.sqw?id=6454&o=8&l=cz'"
      ]
     },
     "metadata": {},
     "output_type": "display_data"
    },
    {
     "data": {
      "text/plain": [
       "[<a href=\"fsnem.sqw?id=1300&amp;o=8\">Political group Czech Pirate Party</a>]"
      ]
     },
     "metadata": {},
     "output_type": "display_data"
    },
    {
     "data": {
      "text/plain": [
       "'url:https://public.psp.cz/en/sqw/detail.sqw?id=6462&o=8&l=cz'"
      ]
     },
     "metadata": {},
     "output_type": "display_data"
    },
    {
     "data": {
      "text/plain": [
       "[<a href=\"fsnem.sqw?id=1300&amp;o=8\">Political group Czech Pirate Party</a>,\n",
       " <a href=\"fsnem.sqw?id=1300&amp;o=8\">Political group Czech Pirate Party</a>]"
      ]
     },
     "metadata": {},
     "output_type": "display_data"
    },
    {
     "data": {
      "text/plain": [
       "'url:https://public.psp.cz/en/sqw/detail.sqw?id=6507&o=8&l=cz'"
      ]
     },
     "metadata": {},
     "output_type": "display_data"
    },
    {
     "data": {
      "text/plain": [
       "[<a href=\"fsnem.sqw?id=1300&amp;o=8\">Political group Czech Pirate Party</a>,\n",
       " <a href=\"fsnem.sqw?id=1300&amp;o=8\">Political group Czech Pirate Party</a>,\n",
       " <a href=\"fsnem.sqw?id=1300&amp;o=8\">Political group Czech Pirate Party</a>]"
      ]
     },
     "metadata": {},
     "output_type": "display_data"
    },
    {
     "data": {
      "text/plain": [
       "'url:https://public.psp.cz/en/sqw/detail.sqw?id=6499&o=8&l=cz'"
      ]
     },
     "metadata": {},
     "output_type": "display_data"
    },
    {
     "data": {
      "text/plain": [
       "[<a href=\"fsnem.sqw?id=1300&amp;o=8\">Political group Czech Pirate Party</a>]"
      ]
     },
     "metadata": {},
     "output_type": "display_data"
    },
    {
     "data": {
      "text/plain": [
       "'url:https://public.psp.cz/en/sqw/detail.sqw?id=6465&o=8&l=cz'"
      ]
     },
     "metadata": {},
     "output_type": "display_data"
    },
    {
     "data": {
      "text/plain": [
       "[<a href=\"fsnem.sqw?id=1300&amp;o=8\">Political group Czech Pirate Party</a>]"
      ]
     },
     "metadata": {},
     "output_type": "display_data"
    },
    {
     "data": {
      "text/plain": [
       "'url:https://public.psp.cz/en/sqw/detail.sqw?id=6537&o=8&l=cz'"
      ]
     },
     "metadata": {},
     "output_type": "display_data"
    },
    {
     "data": {
      "text/plain": [
       "[<a href=\"fsnem.sqw?id=1300&amp;o=8\">Political group Czech Pirate Party</a>,\n",
       " <a href=\"fsnem.sqw?id=1300&amp;o=8\">Political group Czech Pirate Party</a>,\n",
       " <a href=\"fsnem.sqw?id=1300&amp;o=8\">Political group Czech Pirate Party</a>,\n",
       " <a href=\"fsnem.sqw?id=1300&amp;o=8\">Political group Czech Pirate Party</a>]"
      ]
     },
     "metadata": {},
     "output_type": "display_data"
    },
    {
     "data": {
      "text/plain": [
       "'url:https://public.psp.cz/en/sqw/detail.sqw?id=6535&o=8&l=cz'"
      ]
     },
     "metadata": {},
     "output_type": "display_data"
    },
    {
     "data": {
      "text/plain": [
       "[<a href=\"fsnem.sqw?id=1300&amp;o=8\">Political group Czech Pirate Party</a>]"
      ]
     },
     "metadata": {},
     "output_type": "display_data"
    },
    {
     "data": {
      "text/plain": [
       "'url:https://public.psp.cz/en/sqw/detail.sqw?id=6477&o=8&l=cz'"
      ]
     },
     "metadata": {},
     "output_type": "display_data"
    },
    {
     "data": {
      "text/plain": [
       "[<a href=\"fsnem.sqw?id=1300&amp;o=8\">Political group Czech Pirate Party</a>,\n",
       " <a href=\"fsnem.sqw?id=1300&amp;o=8\">Political group Czech Pirate Party</a>]"
      ]
     },
     "metadata": {},
     "output_type": "display_data"
    },
    {
     "data": {
      "text/plain": [
       "'url:https://public.psp.cz/en/sqw/detail.sqw?id=6488&o=8&l=cz'"
      ]
     },
     "metadata": {},
     "output_type": "display_data"
    },
    {
     "data": {
      "text/plain": [
       "[<a href=\"fsnem.sqw?id=1300&amp;o=8\">Political group Czech Pirate Party</a>,\n",
       " <a href=\"fsnem.sqw?id=1300&amp;o=8\">Political group Czech Pirate Party</a>]"
      ]
     },
     "metadata": {},
     "output_type": "display_data"
    },
    {
     "data": {
      "text/plain": [
       "'url:https://public.psp.cz/en/sqw/detail.sqw?id=6531&o=8&l=cz'"
      ]
     },
     "metadata": {},
     "output_type": "display_data"
    },
    {
     "data": {
      "text/plain": [
       "[<a href=\"fsnem.sqw?id=1300&amp;o=8\">Political group Czech Pirate Party</a>,\n",
       " <a href=\"fsnem.sqw?id=1300&amp;o=8\">Political group Czech Pirate Party</a>]"
      ]
     },
     "metadata": {},
     "output_type": "display_data"
    },
    {
     "data": {
      "text/plain": [
       "'url:https://public.psp.cz/en/sqw/detail.sqw?id=6529&o=8&l=cz'"
      ]
     },
     "metadata": {},
     "output_type": "display_data"
    },
    {
     "data": {
      "text/plain": [
       "[<a href=\"fsnem.sqw?id=1300&amp;o=8\">Political group Czech Pirate Party</a>]"
      ]
     },
     "metadata": {},
     "output_type": "display_data"
    },
    {
     "data": {
      "text/plain": [
       "'url:https://public.psp.cz/en/sqw/detail.sqw?id=6528&o=8&l=cz'"
      ]
     },
     "metadata": {},
     "output_type": "display_data"
    },
    {
     "data": {
      "text/plain": [
       "[<a href=\"fsnem.sqw?id=1300&amp;o=8\">Political group Czech Pirate Party</a>]"
      ]
     },
     "metadata": {},
     "output_type": "display_data"
    },
    {
     "data": {
      "text/plain": [
       "'url:https://public.psp.cz/en/sqw/detail.sqw?id=6526&o=8&l=cz'"
      ]
     },
     "metadata": {},
     "output_type": "display_data"
    },
    {
     "data": {
      "text/plain": [
       "[<a href=\"fsnem.sqw?id=1300&amp;o=8\">Political group Czech Pirate Party</a>]"
      ]
     },
     "metadata": {},
     "output_type": "display_data"
    },
    {
     "data": {
      "text/plain": [
       "'url:https://public.psp.cz/en/sqw/detail.sqw?id=6473&o=8&l=cz'"
      ]
     },
     "metadata": {},
     "output_type": "display_data"
    },
    {
     "data": {
      "text/plain": [
       "[<a href=\"fsnem.sqw?id=1300&amp;o=8\">Political group Czech Pirate Party</a>]"
      ]
     },
     "metadata": {},
     "output_type": "display_data"
    },
    {
     "data": {
      "text/plain": [
       "'url:https://public.psp.cz/en/sqw/detail.sqw?id=6483&o=8&l=cz'"
      ]
     },
     "metadata": {},
     "output_type": "display_data"
    },
    {
     "data": {
      "text/plain": [
       "[<a href=\"fsnem.sqw?id=1300&amp;o=8\">Political group Czech Pirate Party</a>]"
      ]
     },
     "metadata": {},
     "output_type": "display_data"
    },
    {
     "data": {
      "text/plain": [
       "'url:https://public.psp.cz/en/sqw/detail.sqw?id=6489&o=8&l=cz'"
      ]
     },
     "metadata": {},
     "output_type": "display_data"
    },
    {
     "data": {
      "text/plain": [
       "[<a href=\"fsnem.sqw?id=1300&amp;o=8\">Political group Czech Pirate Party</a>]"
      ]
     },
     "metadata": {},
     "output_type": "display_data"
    },
    {
     "data": {
      "text/plain": [
       "'url:https://public.psp.cz/en/sqw/detail.sqw?id=6440&o=8&l=cz'"
      ]
     },
     "metadata": {},
     "output_type": "display_data"
    },
    {
     "data": {
      "text/plain": [
       "[<a href=\"fsnem.sqw?id=1298&amp;o=8\">Political group Freedom and Direct Democracy</a>]"
      ]
     },
     "metadata": {},
     "output_type": "display_data"
    },
    {
     "data": {
      "text/plain": [
       "'url:https://public.psp.cz/en/sqw/detail.sqw?id=6445&o=8&l=cz'"
      ]
     },
     "metadata": {},
     "output_type": "display_data"
    },
    {
     "data": {
      "text/plain": [
       "[<a href=\"fsnem.sqw?id=1298&amp;o=8\">Political group Freedom and Direct Democracy</a>]"
      ]
     },
     "metadata": {},
     "output_type": "display_data"
    },
    {
     "data": {
      "text/plain": [
       "'url:https://public.psp.cz/en/sqw/detail.sqw?id=5459&o=8&l=cz'"
      ]
     },
     "metadata": {},
     "output_type": "display_data"
    },
    {
     "data": {
      "text/plain": [
       "[<a href=\"fsnem.sqw?id=1298&amp;o=8\">Political group Freedom and Direct Democracy</a>,\n",
       " <a href=\"fsnem.sqw?id=1298&amp;o=8\">Political group Freedom and Direct Democracy</a>]"
      ]
     },
     "metadata": {},
     "output_type": "display_data"
    },
    {
     "data": {
      "text/plain": [
       "'url:https://public.psp.cz/en/sqw/detail.sqw?id=6198&o=8&l=cz'"
      ]
     },
     "metadata": {},
     "output_type": "display_data"
    },
    {
     "data": {
      "text/plain": [
       "[<a href=\"fsnem.sqw?id=1298&amp;o=8\">Political group Freedom and Direct Democracy</a>]"
      ]
     },
     "metadata": {},
     "output_type": "display_data"
    },
    {
     "data": {
      "text/plain": [
       "'url:https://public.psp.cz/en/sqw/detail.sqw?id=6455&o=8&l=cz'"
      ]
     },
     "metadata": {},
     "output_type": "display_data"
    },
    {
     "data": {
      "text/plain": [
       "[<a href=\"fsnem.sqw?id=1298&amp;o=8\">Political group Freedom and Direct Democracy</a>]"
      ]
     },
     "metadata": {},
     "output_type": "display_data"
    },
    {
     "data": {
      "text/plain": [
       "'url:https://public.psp.cz/en/sqw/detail.sqw?id=6456&o=8&l=cz'"
      ]
     },
     "metadata": {},
     "output_type": "display_data"
    },
    {
     "data": {
      "text/plain": [
       "[<a href=\"fsnem.sqw?id=1298&amp;o=8\">Political group Freedom and Direct Democracy</a>]"
      ]
     },
     "metadata": {},
     "output_type": "display_data"
    },
    {
     "data": {
      "text/plain": [
       "'url:https://public.psp.cz/en/sqw/detail.sqw?id=6460&o=8&l=cz'"
      ]
     },
     "metadata": {},
     "output_type": "display_data"
    },
    {
     "data": {
      "text/plain": [
       "[<a href=\"fsnem.sqw?id=1298&amp;o=8\">Political group Freedom and Direct Democracy</a>]"
      ]
     },
     "metadata": {},
     "output_type": "display_data"
    },
    {
     "data": {
      "text/plain": [
       "'url:https://public.psp.cz/en/sqw/detail.sqw?id=6461&o=8&l=cz'"
      ]
     },
     "metadata": {},
     "output_type": "display_data"
    },
    {
     "data": {
      "text/plain": [
       "[<a href=\"fsnem.sqw?id=1298&amp;o=8\">Political group Freedom and Direct Democracy</a>]"
      ]
     },
     "metadata": {},
     "output_type": "display_data"
    },
    {
     "data": {
      "text/plain": [
       "'url:https://public.psp.cz/en/sqw/detail.sqw?id=6503&o=8&l=cz'"
      ]
     },
     "metadata": {},
     "output_type": "display_data"
    },
    {
     "data": {
      "text/plain": [
       "[<a href=\"fsnem.sqw?id=1298&amp;o=8\">Political group Freedom and Direct Democracy</a>]"
      ]
     },
     "metadata": {},
     "output_type": "display_data"
    },
    {
     "data": {
      "text/plain": [
       "'url:https://public.psp.cz/en/sqw/detail.sqw?id=6504&o=8&l=cz'"
      ]
     },
     "metadata": {},
     "output_type": "display_data"
    },
    {
     "data": {
      "text/plain": [
       "[<a href=\"fsnem.sqw?id=1298&amp;o=8\">Political group Freedom and Direct Democracy</a>]"
      ]
     },
     "metadata": {},
     "output_type": "display_data"
    },
    {
     "data": {
      "text/plain": [
       "'url:https://public.psp.cz/en/sqw/detail.sqw?id=6508&o=8&l=cz'"
      ]
     },
     "metadata": {},
     "output_type": "display_data"
    },
    {
     "data": {
      "text/plain": [
       "[<a href=\"fsnem.sqw?id=1298&amp;o=8\">Political group Freedom and Direct Democracy</a>]"
      ]
     },
     "metadata": {},
     "output_type": "display_data"
    },
    {
     "data": {
      "text/plain": [
       "'url:https://public.psp.cz/en/sqw/detail.sqw?id=6502&o=8&l=cz'"
      ]
     },
     "metadata": {},
     "output_type": "display_data"
    },
    {
     "data": {
      "text/plain": [
       "[<a href=\"fsnem.sqw?id=1298&amp;o=8\">Political group Freedom and Direct Democracy</a>]"
      ]
     },
     "metadata": {},
     "output_type": "display_data"
    },
    {
     "data": {
      "text/plain": [
       "'url:https://public.psp.cz/en/sqw/detail.sqw?id=6469&o=8&l=cz'"
      ]
     },
     "metadata": {},
     "output_type": "display_data"
    },
    {
     "data": {
      "text/plain": [
       "[<a href=\"fsnem.sqw?id=1298&amp;o=8\">Political group Freedom and Direct Democracy</a>]"
      ]
     },
     "metadata": {},
     "output_type": "display_data"
    },
    {
     "data": {
      "text/plain": [
       "'url:https://public.psp.cz/en/sqw/detail.sqw?id=6478&o=8&l=cz'"
      ]
     },
     "metadata": {},
     "output_type": "display_data"
    },
    {
     "data": {
      "text/plain": [
       "[<a href=\"fsnem.sqw?id=1298&amp;o=8\">Political group Freedom and Direct Democracy</a>]"
      ]
     },
     "metadata": {},
     "output_type": "display_data"
    },
    {
     "data": {
      "text/plain": [
       "'url:https://public.psp.cz/en/sqw/detail.sqw?id=6105&o=8&l=cz'"
      ]
     },
     "metadata": {},
     "output_type": "display_data"
    },
    {
     "data": {
      "text/plain": [
       "[<a href=\"fsnem.sqw?id=1298&amp;o=8\">Political group Freedom and Direct Democracy</a>]"
      ]
     },
     "metadata": {},
     "output_type": "display_data"
    },
    {
     "data": {
      "text/plain": [
       "'url:https://public.psp.cz/en/sqw/detail.sqw?id=6530&o=8&l=cz'"
      ]
     },
     "metadata": {},
     "output_type": "display_data"
    },
    {
     "data": {
      "text/plain": [
       "[<a href=\"fsnem.sqw?id=1298&amp;o=8\">Political group Freedom and Direct Democracy</a>]"
      ]
     },
     "metadata": {},
     "output_type": "display_data"
    },
    {
     "data": {
      "text/plain": [
       "'url:https://public.psp.cz/en/sqw/detail.sqw?id=6522&o=8&l=cz'"
      ]
     },
     "metadata": {},
     "output_type": "display_data"
    },
    {
     "data": {
      "text/plain": [
       "[<a href=\"fsnem.sqw?id=1298&amp;o=8\">Political group Freedom and Direct Democracy</a>]"
      ]
     },
     "metadata": {},
     "output_type": "display_data"
    },
    {
     "data": {
      "text/plain": [
       "'url:https://public.psp.cz/en/sqw/detail.sqw?id=6521&o=8&l=cz'"
      ]
     },
     "metadata": {},
     "output_type": "display_data"
    },
    {
     "data": {
      "text/plain": [
       "[<a href=\"fsnem.sqw?id=1298&amp;o=8\">Political group Freedom and Direct Democracy</a>,\n",
       " <a href=\"fsnem.sqw?id=1298&amp;o=8\">Political group Freedom and Direct Democracy</a>]"
      ]
     },
     "metadata": {},
     "output_type": "display_data"
    },
    {
     "data": {
      "text/plain": [
       "'url:https://public.psp.cz/en/sqw/detail.sqw?id=6479&o=8&l=cz'"
      ]
     },
     "metadata": {},
     "output_type": "display_data"
    },
    {
     "data": {
      "text/plain": [
       "[<a href=\"fsnem.sqw?id=1298&amp;o=8\">Political group Freedom and Direct Democracy</a>]"
      ]
     },
     "metadata": {},
     "output_type": "display_data"
    },
    {
     "data": {
      "text/plain": [
       "'url:https://public.psp.cz/en/sqw/detail.sqw?id=6514&o=8&l=cz'"
      ]
     },
     "metadata": {},
     "output_type": "display_data"
    },
    {
     "data": {
      "text/plain": [
       "[<a href=\"fsnem.sqw?id=1298&amp;o=8\">Political group Freedom and Direct Democracy</a>]"
      ]
     },
     "metadata": {},
     "output_type": "display_data"
    },
    {
     "data": {
      "text/plain": [
       "'url:https://public.psp.cz/en/sqw/detail.sqw?id=6495&o=8&l=cz'"
      ]
     },
     "metadata": {},
     "output_type": "display_data"
    },
    {
     "data": {
      "text/plain": [
       "[<a href=\"fsnem.sqw?id=1298&amp;o=8\">Political group Freedom and Direct Democracy</a>]"
      ]
     },
     "metadata": {},
     "output_type": "display_data"
    },
    {
     "data": {
      "text/plain": [
       "'url:https://public.psp.cz/en/sqw/detail.sqw?id=6481&o=8&l=cz'"
      ]
     },
     "metadata": {},
     "output_type": "display_data"
    },
    {
     "data": {
      "text/plain": [
       "[<a href=\"fsnem.sqw?id=1298&amp;o=8\">Political group Freedom and Direct Democracy</a>]"
      ]
     },
     "metadata": {},
     "output_type": "display_data"
    },
    {
     "data": {
      "text/plain": [
       "'url:https://public.psp.cz/en/sqw/detail.sqw?id=6002&o=8&l=cz'"
      ]
     },
     "metadata": {},
     "output_type": "display_data"
    },
    {
     "data": {
      "text/plain": [
       "[<a href=\"fsnem.sqw?id=1294&amp;o=8\">Political group Czech Social Democratic Party</a>]"
      ]
     },
     "metadata": {},
     "output_type": "display_data"
    },
    {
     "data": {
      "text/plain": [
       "'url:https://public.psp.cz/en/sqw/detail.sqw?id=6182&o=8&l=cz'"
      ]
     },
     "metadata": {},
     "output_type": "display_data"
    },
    {
     "data": {
      "text/plain": [
       "[<a href=\"fsnem.sqw?id=1294&amp;o=8\">Political group Czech Social Democratic Party</a>,\n",
       " <a href=\"fsnem.sqw?id=1294&amp;o=8\">Political group Czech Social Democratic Party</a>]"
      ]
     },
     "metadata": {},
     "output_type": "display_data"
    },
    {
     "data": {
      "text/plain": [
       "'url:https://public.psp.cz/en/sqw/detail.sqw?id=6444&o=8&l=cz'"
      ]
     },
     "metadata": {},
     "output_type": "display_data"
    },
    {
     "data": {
      "text/plain": [
       "[<a href=\"fsnem.sqw?id=1294&amp;o=8\">Political group Czech Social Democratic Party</a>]"
      ]
     },
     "metadata": {},
     "output_type": "display_data"
    },
    {
     "data": {
      "text/plain": [
       "'url:https://public.psp.cz/en/sqw/detail.sqw?id=5911&o=8&l=cz'"
      ]
     },
     "metadata": {},
     "output_type": "display_data"
    },
    {
     "data": {
      "text/plain": [
       "[<a href=\"fsnem.sqw?id=1294&amp;o=8\">Political group Czech Social Democratic Party</a>,\n",
       " <a href=\"fsnem.sqw?id=1298&amp;o=8\">Political group Freedom and Direct Democracy</a>]"
      ]
     },
     "metadata": {},
     "output_type": "display_data"
    },
    {
     "data": {
      "text/plain": [
       "'url:https://public.psp.cz/en/sqw/detail.sqw?id=5703&o=8&l=cz'"
      ]
     },
     "metadata": {},
     "output_type": "display_data"
    },
    {
     "data": {
      "text/plain": [
       "[<a href=\"fsnem.sqw?id=1294&amp;o=8\">Political group Czech Social Democratic Party</a>]"
      ]
     },
     "metadata": {},
     "output_type": "display_data"
    },
    {
     "data": {
      "text/plain": [
       "'url:https://public.psp.cz/en/sqw/detail.sqw?id=5462&o=8&l=cz'"
      ]
     },
     "metadata": {},
     "output_type": "display_data"
    },
    {
     "data": {
      "text/plain": [
       "[<a href=\"fsnem.sqw?id=1294&amp;o=8\">Political group Czech Social Democratic Party</a>]"
      ]
     },
     "metadata": {},
     "output_type": "display_data"
    },
    {
     "data": {
      "text/plain": [
       "'url:https://public.psp.cz/en/sqw/detail.sqw?id=6452&o=8&l=cz'"
      ]
     },
     "metadata": {},
     "output_type": "display_data"
    },
    {
     "data": {
      "text/plain": [
       "[<a href=\"fsnem.sqw?id=1294&amp;o=8\">Political group Czech Social Democratic Party</a>]"
      ]
     },
     "metadata": {},
     "output_type": "display_data"
    },
    {
     "data": {
      "text/plain": [
       "'url:https://public.psp.cz/en/sqw/detail.sqw?id=6200&o=8&l=cz'"
      ]
     },
     "metadata": {},
     "output_type": "display_data"
    },
    {
     "data": {
      "text/plain": [
       "[<a href=\"fsnem.sqw?id=1294&amp;o=8\">Political group Czech Social Democratic Party</a>]"
      ]
     },
     "metadata": {},
     "output_type": "display_data"
    },
    {
     "data": {
      "text/plain": [
       "'url:https://public.psp.cz/en/sqw/detail.sqw?id=5926&o=8&l=cz'"
      ]
     },
     "metadata": {},
     "output_type": "display_data"
    },
    {
     "data": {
      "text/plain": [
       "[<a href=\"fsnem.sqw?id=1294&amp;o=8\">Political group Czech Social Democratic Party</a>,\n",
       " <a href=\"fsnem.sqw?id=1294&amp;o=8\">Political group Czech Social Democratic Party</a>]"
      ]
     },
     "metadata": {},
     "output_type": "display_data"
    },
    {
     "data": {
      "text/plain": [
       "'url:https://public.psp.cz/en/sqw/detail.sqw?id=6532&o=8&l=cz'"
      ]
     },
     "metadata": {},
     "output_type": "display_data"
    },
    {
     "data": {
      "text/plain": [
       "[<a href=\"fsnem.sqw?id=1294&amp;o=8\">Political group Czech Social Democratic Party</a>]"
      ]
     },
     "metadata": {},
     "output_type": "display_data"
    },
    {
     "data": {
      "text/plain": [
       "'url:https://public.psp.cz/en/sqw/detail.sqw?id=237&&o=8&l=cz'"
      ]
     },
     "metadata": {},
     "output_type": "display_data"
    },
    {
     "data": {
      "text/plain": [
       "[<a href=\"fsnem.sqw?id=1294&amp;o=8\">Political group Czech Social Democratic Party</a>]"
      ]
     },
     "metadata": {},
     "output_type": "display_data"
    },
    {
     "data": {
      "text/plain": [
       "'url:https://public.psp.cz/en/sqw/detail.sqw?id=6516&o=8&l=cz'"
      ]
     },
     "metadata": {},
     "output_type": "display_data"
    },
    {
     "data": {
      "text/plain": [
       "[<a href=\"fsnem.sqw?id=1294&amp;o=8\">Political group Czech Social Democratic Party</a>]"
      ]
     },
     "metadata": {},
     "output_type": "display_data"
    },
    {
     "data": {
      "text/plain": [
       "'url:https://public.psp.cz/en/sqw/detail.sqw?id=6337&o=8&l=cz'"
      ]
     },
     "metadata": {},
     "output_type": "display_data"
    },
    {
     "data": {
      "text/plain": [
       "[<a href=\"fsnem.sqw?id=1294&amp;o=8\">Political group Czech Social Democratic Party</a>,\n",
       " <a href=\"fsnem.sqw?id=1294&amp;o=8\">Political group Czech Social Democratic Party</a>,\n",
       " <a href=\"fsnem.sqw?id=1294&amp;o=8\">Political group Czech Social Democratic Party</a>]"
      ]
     },
     "metadata": {},
     "output_type": "display_data"
    },
    {
     "data": {
      "text/plain": [
       "'url:https://public.psp.cz/en/sqw/detail.sqw?id=6494&o=8&l=cz'"
      ]
     },
     "metadata": {},
     "output_type": "display_data"
    },
    {
     "data": {
      "text/plain": [
       "[<a href=\"fsnem.sqw?id=1294&amp;o=8\">Political group Czech Social Democratic Party</a>,\n",
       " <a href=\"fsnem.sqw?id=1294&amp;o=8\">Political group Czech Social Democratic Party</a>]"
      ]
     },
     "metadata": {},
     "output_type": "display_data"
    },
    {
     "data": {
      "text/plain": [
       "'url:https://public.psp.cz/en/sqw/detail.sqw?id=252&&o=8&l=cz'"
      ]
     },
     "metadata": {},
     "output_type": "display_data"
    },
    {
     "data": {
      "text/plain": [
       "[<a href=\"fsnem.sqw?id=1294&amp;o=8\">Political group Czech Social Democratic Party</a>]"
      ]
     },
     "metadata": {},
     "output_type": "display_data"
    },
    {
     "data": {
      "text/plain": [
       "'url:https://public.psp.cz/en/sqw/detail.sqw?id=6149&o=8&l=cz'"
      ]
     },
     "metadata": {},
     "output_type": "display_data"
    },
    {
     "data": {
      "text/plain": [
       "[<a href=\"fsnem.sqw?id=1293&amp;o=8\">Political group Communist Party of Bohemia and Moravia</a>,\n",
       " <a href=\"fsnem.sqw?id=1293&amp;o=8\">Political group Communist Party of Bohemia and Moravia</a>]"
      ]
     },
     "metadata": {},
     "output_type": "display_data"
    },
    {
     "data": {
      "text/plain": [
       "'url:https://public.psp.cz/en/sqw/detail.sqw?id=5307&o=8&l=cz'"
      ]
     },
     "metadata": {},
     "output_type": "display_data"
    },
    {
     "data": {
      "text/plain": [
       "[<a href=\"fsnem.sqw?id=1293&amp;o=8\">Political group Communist Party of Bohemia and Moravia</a>]"
      ]
     },
     "metadata": {},
     "output_type": "display_data"
    },
    {
     "data": {
      "text/plain": [
       "'url:https://public.psp.cz/en/sqw/detail.sqw?id=5261&o=8&l=cz'"
      ]
     },
     "metadata": {},
     "output_type": "display_data"
    },
    {
     "data": {
      "text/plain": [
       "[<a href=\"fsnem.sqw?id=1293&amp;o=8\">Political group Communist Party of Bohemia and Moravia</a>]"
      ]
     },
     "metadata": {},
     "output_type": "display_data"
    },
    {
     "data": {
      "text/plain": [
       "'url:https://public.psp.cz/en/sqw/detail.sqw?id=303&&o=8&l=cz'"
      ]
     },
     "metadata": {},
     "output_type": "display_data"
    },
    {
     "data": {
      "text/plain": [
       "[<a href=\"fsnem.sqw?id=1293&amp;o=8\">Political group Communist Party of Bohemia and Moravia</a>]"
      ]
     },
     "metadata": {},
     "output_type": "display_data"
    },
    {
     "data": {
      "text/plain": [
       "'url:https://public.psp.cz/en/sqw/detail.sqw?id=305&&o=8&l=cz'"
      ]
     },
     "metadata": {},
     "output_type": "display_data"
    },
    {
     "data": {
      "text/plain": [
       "[<a href=\"fsnem.sqw?id=1293&amp;o=8\">Political group Communist Party of Bohemia and Moravia</a>]"
      ]
     },
     "metadata": {},
     "output_type": "display_data"
    },
    {
     "data": {
      "text/plain": [
       "'url:https://public.psp.cz/en/sqw/detail.sqw?id=4778&o=8&l=cz'"
      ]
     },
     "metadata": {},
     "output_type": "display_data"
    },
    {
     "data": {
      "text/plain": [
       "[<a href=\"fsnem.sqw?id=1293&amp;o=8\">Political group Communist Party of Bohemia and Moravia</a>]"
      ]
     },
     "metadata": {},
     "output_type": "display_data"
    },
    {
     "data": {
      "text/plain": [
       "'url:https://public.psp.cz/en/sqw/detail.sqw?id=5313&o=8&l=cz'"
      ]
     },
     "metadata": {},
     "output_type": "display_data"
    },
    {
     "data": {
      "text/plain": [
       "[<a href=\"fsnem.sqw?id=1293&amp;o=8\">Political group Communist Party of Bohemia and Moravia</a>]"
      ]
     },
     "metadata": {},
     "output_type": "display_data"
    },
    {
     "data": {
      "text/plain": [
       "'url:https://public.psp.cz/en/sqw/detail.sqw?id=309&&o=8&l=cz'"
      ]
     },
     "metadata": {},
     "output_type": "display_data"
    },
    {
     "data": {
      "text/plain": [
       "[<a href=\"fsnem.sqw?id=1293&amp;o=8\">Political group Communist Party of Bohemia and Moravia</a>,\n",
       " <a href=\"fsnem.sqw?id=1293&amp;o=8\">Political group Communist Party of Bohemia and Moravia</a>]"
      ]
     },
     "metadata": {},
     "output_type": "display_data"
    },
    {
     "data": {
      "text/plain": [
       "'url:https://public.psp.cz/en/sqw/detail.sqw?id=6279&o=8&l=cz'"
      ]
     },
     "metadata": {},
     "output_type": "display_data"
    },
    {
     "data": {
      "text/plain": [
       "[<a href=\"fsnem.sqw?id=1293&amp;o=8\">Political group Communist Party of Bohemia and Moravia</a>,\n",
       " <a href=\"fsnem.sqw?id=1293&amp;o=8\">Political group Communist Party of Bohemia and Moravia</a>]"
      ]
     },
     "metadata": {},
     "output_type": "display_data"
    },
    {
     "data": {
      "text/plain": [
       "'url:https://public.psp.cz/en/sqw/detail.sqw?id=5938&o=8&l=cz'"
      ]
     },
     "metadata": {},
     "output_type": "display_data"
    },
    {
     "data": {
      "text/plain": [
       "[<a href=\"fsnem.sqw?id=1293&amp;o=8\">Political group Communist Party of Bohemia and Moravia</a>]"
      ]
     },
     "metadata": {},
     "output_type": "display_data"
    },
    {
     "data": {
      "text/plain": [
       "'url:https://public.psp.cz/en/sqw/detail.sqw?id=6224&o=8&l=cz'"
      ]
     },
     "metadata": {},
     "output_type": "display_data"
    },
    {
     "data": {
      "text/plain": [
       "[<a href=\"fsnem.sqw?id=1293&amp;o=8\">Political group Communist Party of Bohemia and Moravia</a>]"
      ]
     },
     "metadata": {},
     "output_type": "display_data"
    },
    {
     "data": {
      "text/plain": [
       "'url:https://public.psp.cz/en/sqw/detail.sqw?id=6485&o=8&l=cz'"
      ]
     },
     "metadata": {},
     "output_type": "display_data"
    },
    {
     "data": {
      "text/plain": [
       "[<a href=\"fsnem.sqw?id=1293&amp;o=8\">Political group Communist Party of Bohemia and Moravia</a>]"
      ]
     },
     "metadata": {},
     "output_type": "display_data"
    },
    {
     "data": {
      "text/plain": [
       "'url:https://public.psp.cz/en/sqw/detail.sqw?id=6233&o=8&l=cz'"
      ]
     },
     "metadata": {},
     "output_type": "display_data"
    },
    {
     "data": {
      "text/plain": [
       "[<a href=\"fsnem.sqw?id=1293&amp;o=8\">Political group Communist Party of Bohemia and Moravia</a>]"
      ]
     },
     "metadata": {},
     "output_type": "display_data"
    },
    {
     "data": {
      "text/plain": [
       "'url:https://public.psp.cz/en/sqw/detail.sqw?id=6169&o=8&l=cz'"
      ]
     },
     "metadata": {},
     "output_type": "display_data"
    },
    {
     "data": {
      "text/plain": [
       "[<a href=\"fsnem.sqw?id=1293&amp;o=8\">Political group Communist Party of Bohemia and Moravia</a>]"
      ]
     },
     "metadata": {},
     "output_type": "display_data"
    },
    {
     "data": {
      "text/plain": [
       "'url:https://public.psp.cz/en/sqw/detail.sqw?id=5268&o=8&l=cz'"
      ]
     },
     "metadata": {},
     "output_type": "display_data"
    },
    {
     "data": {
      "text/plain": [
       "[<a href=\"fsnem.sqw?id=1293&amp;o=8\">Political group Communist Party of Bohemia and Moravia</a>]"
      ]
     },
     "metadata": {},
     "output_type": "display_data"
    },
    {
     "data": {
      "text/plain": [
       "'url:https://public.psp.cz/en/sqw/detail.sqw?id=6178&o=8&l=cz'"
      ]
     },
     "metadata": {},
     "output_type": "display_data"
    },
    {
     "data": {
      "text/plain": [
       "[<a href=\"fsnem.sqw?id=1297&amp;o=8\">Political group Christian and Democratic Union - Czechoslovak People's Party</a>,\n",
       " <a href=\"fsnem.sqw?id=1297&amp;o=8\">Political group Christian and Democratic Union - Czechoslovak People's Party</a>]"
      ]
     },
     "metadata": {},
     "output_type": "display_data"
    },
    {
     "data": {
      "text/plain": [
       "'url:https://public.psp.cz/en/sqw/detail.sqw?id=6138&o=8&l=cz'"
      ]
     },
     "metadata": {},
     "output_type": "display_data"
    },
    {
     "data": {
      "text/plain": [
       "[<a href=\"fsnem.sqw?id=1297&amp;o=8\">Political group Christian and Democratic Union - Czechoslovak People's Party</a>]"
      ]
     },
     "metadata": {},
     "output_type": "display_data"
    },
    {
     "data": {
      "text/plain": [
       "'url:https://public.psp.cz/en/sqw/detail.sqw?id=6179&o=8&l=cz'"
      ]
     },
     "metadata": {},
     "output_type": "display_data"
    },
    {
     "data": {
      "text/plain": [
       "[<a href=\"fsnem.sqw?id=1297&amp;o=8\">Political group Christian and Democratic Union - Czechoslovak People's Party</a>,\n",
       " <a href=\"fsnem.sqw?id=1297&amp;o=8\">Political group Christian and Democratic Union - Czechoslovak People's Party</a>]"
      ]
     },
     "metadata": {},
     "output_type": "display_data"
    },
    {
     "data": {
      "text/plain": [
       "'url:https://public.psp.cz/en/sqw/detail.sqw?id=6443&o=8&l=cz'"
      ]
     },
     "metadata": {},
     "output_type": "display_data"
    },
    {
     "data": {
      "text/plain": [
       "[<a href=\"fsnem.sqw?id=1297&amp;o=8\">Political group Christian and Democratic Union - Czechoslovak People's Party</a>]"
      ]
     },
     "metadata": {},
     "output_type": "display_data"
    },
    {
     "data": {
      "text/plain": [
       "'url:https://public.psp.cz/en/sqw/detail.sqw?id=6292&o=8&l=cz'"
      ]
     },
     "metadata": {},
     "output_type": "display_data"
    },
    {
     "data": {
      "text/plain": [
       "[<a href=\"fsnem.sqw?id=1297&amp;o=8\">Political group Christian and Democratic Union - Czechoslovak People's Party</a>]"
      ]
     },
     "metadata": {},
     "output_type": "display_data"
    },
    {
     "data": {
      "text/plain": [
       "'url:https://public.psp.cz/en/sqw/detail.sqw?id=5847&o=8&l=cz'"
      ]
     },
     "metadata": {},
     "output_type": "display_data"
    },
    {
     "data": {
      "text/plain": [
       "[<a href=\"fsnem.sqw?id=1297&amp;o=8\">Political group Christian and Democratic Union - Czechoslovak People's Party</a>]"
      ]
     },
     "metadata": {},
     "output_type": "display_data"
    },
    {
     "data": {
      "text/plain": [
       "'url:https://public.psp.cz/en/sqw/detail.sqw?id=6205&o=8&l=cz'"
      ]
     },
     "metadata": {},
     "output_type": "display_data"
    },
    {
     "data": {
      "text/plain": [
       "[<a href=\"fsnem.sqw?id=1297&amp;o=8\">Political group Christian and Democratic Union - Czechoslovak People's Party</a>]"
      ]
     },
     "metadata": {},
     "output_type": "display_data"
    },
    {
     "data": {
      "text/plain": [
       "'url:https://public.psp.cz/en/sqw/detail.sqw?id=6207&o=8&l=cz'"
      ]
     },
     "metadata": {},
     "output_type": "display_data"
    },
    {
     "data": {
      "text/plain": [
       "[<a href=\"fsnem.sqw?id=1297&amp;o=8\">Political group Christian and Democratic Union - Czechoslovak People's Party</a>]"
      ]
     },
     "metadata": {},
     "output_type": "display_data"
    },
    {
     "data": {
      "text/plain": [
       "'url:https://public.psp.cz/en/sqw/detail.sqw?id=6222&o=8&l=cz'"
      ]
     },
     "metadata": {},
     "output_type": "display_data"
    },
    {
     "data": {
      "text/plain": [
       "[<a href=\"fsnem.sqw?id=1297&amp;o=8\">Political group Christian and Democratic Union - Czechoslovak People's Party</a>,\n",
       " <a href=\"fsnem.sqw?id=1297&amp;o=8\">Political group Christian and Democratic Union - Czechoslovak People's Party</a>]"
      ]
     },
     "metadata": {},
     "output_type": "display_data"
    },
    {
     "data": {
      "text/plain": [
       "'url:https://public.psp.cz/en/sqw/detail.sqw?id=6513&o=8&l=cz'"
      ]
     },
     "metadata": {},
     "output_type": "display_data"
    },
    {
     "data": {
      "text/plain": [
       "[<a href=\"fsnem.sqw?id=1297&amp;o=8\">Political group Christian and Democratic Union - Czechoslovak People's Party</a>]"
      ]
     },
     "metadata": {},
     "output_type": "display_data"
    },
    {
     "data": {
      "text/plain": [
       "'url:https://public.psp.cz/en/sqw/detail.sqw?id=6449&o=8&l=cz'"
      ]
     },
     "metadata": {},
     "output_type": "display_data"
    },
    {
     "data": {
      "text/plain": [
       "[<a href=\"fsnem.sqw?id=1299&amp;o=8\">Political group TOP 09</a>]"
      ]
     },
     "metadata": {},
     "output_type": "display_data"
    },
    {
     "data": {
      "text/plain": [
       "'url:https://public.psp.cz/en/sqw/detail.sqw?id=377&&o=8&l=cz'"
      ]
     },
     "metadata": {},
     "output_type": "display_data"
    },
    {
     "data": {
      "text/plain": [
       "[<a href=\"fsnem.sqw?id=1299&amp;o=8\">Political group TOP 09</a>,\n",
       " <a href=\"fsnem.sqw?id=1299&amp;o=8\">Political group TOP 09</a>]"
      ]
     },
     "metadata": {},
     "output_type": "display_data"
    },
    {
     "data": {
      "text/plain": [
       "'url:https://public.psp.cz/en/sqw/detail.sqw?id=5943&o=8&l=cz'"
      ]
     },
     "metadata": {},
     "output_type": "display_data"
    },
    {
     "data": {
      "text/plain": [
       "[<a href=\"fsnem.sqw?id=1299&amp;o=8\">Political group TOP 09</a>]"
      ]
     },
     "metadata": {},
     "output_type": "display_data"
    },
    {
     "data": {
      "text/plain": [
       "'url:https://public.psp.cz/en/sqw/detail.sqw?id=6147&o=8&l=cz'"
      ]
     },
     "metadata": {},
     "output_type": "display_data"
    },
    {
     "data": {
      "text/plain": [
       "[<a href=\"fsnem.sqw?id=1299&amp;o=8\">Political group TOP 09</a>,\n",
       " <a href=\"fsnem.sqw?id=1299&amp;o=8\">Political group TOP 09</a>]"
      ]
     },
     "metadata": {},
     "output_type": "display_data"
    },
    {
     "data": {
      "text/plain": [
       "'url:https://public.psp.cz/en/sqw/detail.sqw?id=5558&o=8&l=cz'"
      ]
     },
     "metadata": {},
     "output_type": "display_data"
    },
    {
     "data": {
      "text/plain": [
       "[<a href=\"fsnem.sqw?id=1299&amp;o=8\">Political group TOP 09</a>]"
      ]
     },
     "metadata": {},
     "output_type": "display_data"
    },
    {
     "data": {
      "text/plain": [
       "'url:https://public.psp.cz/en/sqw/detail.sqw?id=6137&o=8&l=cz'"
      ]
     },
     "metadata": {},
     "output_type": "display_data"
    },
    {
     "data": {
      "text/plain": [
       "[<a href=\"fsnem.sqw?id=1299&amp;o=8\">Political group TOP 09</a>,\n",
       " <a href=\"fsnem.sqw?id=1299&amp;o=8\">Political group TOP 09</a>]"
      ]
     },
     "metadata": {},
     "output_type": "display_data"
    },
    {
     "data": {
      "text/plain": [
       "'url:https://public.psp.cz/en/sqw/detail.sqw?id=6482&o=8&l=cz'"
      ]
     },
     "metadata": {},
     "output_type": "display_data"
    },
    {
     "data": {
      "text/plain": [
       "[<a href=\"fsnem.sqw?id=1299&amp;o=8\">Political group TOP 09</a>]"
      ]
     },
     "metadata": {},
     "output_type": "display_data"
    },
    {
     "data": {
      "text/plain": [
       "'url:https://public.psp.cz/en/sqw/detail.sqw?id=5909&o=8&l=cz'"
      ]
     },
     "metadata": {},
     "output_type": "display_data"
    },
    {
     "data": {
      "text/plain": [
       "[<a href=\"fsnem.sqw?id=1296&amp;o=8\">Political group Mayors and Independents</a>,\n",
       " <a href=\"fsnem.sqw?id=1296&amp;o=8\">Political group Mayors and Independents</a>]"
      ]
     },
     "metadata": {},
     "output_type": "display_data"
    },
    {
     "data": {
      "text/plain": [
       "'url:https://public.psp.cz/en/sqw/detail.sqw?id=5914&o=8&l=cz'"
      ]
     },
     "metadata": {},
     "output_type": "display_data"
    },
    {
     "data": {
      "text/plain": [
       "[<a href=\"fsnem.sqw?id=1296&amp;o=8\">Political group Mayors and Independents</a>]"
      ]
     },
     "metadata": {},
     "output_type": "display_data"
    },
    {
     "data": {
      "text/plain": [
       "'url:https://public.psp.cz/en/sqw/detail.sqw?id=6214&o=8&l=cz'"
      ]
     },
     "metadata": {},
     "output_type": "display_data"
    },
    {
     "data": {
      "text/plain": [
       "[<a href=\"fsnem.sqw?id=1296&amp;o=8\">Political group Mayors and Independents</a>,\n",
       " <a href=\"fsnem.sqw?id=1296&amp;o=8\">Political group Mayors and Independents</a>]"
      ]
     },
     "metadata": {},
     "output_type": "display_data"
    },
    {
     "data": {
      "text/plain": [
       "'url:https://public.psp.cz/en/sqw/detail.sqw?id=6466&o=8&l=cz'"
      ]
     },
     "metadata": {},
     "output_type": "display_data"
    },
    {
     "data": {
      "text/plain": [
       "[<a href=\"fsnem.sqw?id=1296&amp;o=8\">Political group Mayors and Independents</a>]"
      ]
     },
     "metadata": {},
     "output_type": "display_data"
    },
    {
     "data": {
      "text/plain": [
       "'url:https://public.psp.cz/en/sqw/detail.sqw?id=6417&o=8&l=cz'"
      ]
     },
     "metadata": {},
     "output_type": "display_data"
    },
    {
     "data": {
      "text/plain": [
       "[<a href=\"fsnem.sqw?id=1296&amp;o=8\">Political group Mayors and Independents</a>]"
      ]
     },
     "metadata": {},
     "output_type": "display_data"
    },
    {
     "data": {
      "text/plain": [
       "'url:https://public.psp.cz/en/sqw/detail.sqw?id=6524&o=8&l=cz'"
      ]
     },
     "metadata": {},
     "output_type": "display_data"
    },
    {
     "data": {
      "text/plain": [
       "[<a href=\"fsnem.sqw?id=1296&amp;o=8\">Political group Mayors and Independents</a>,\n",
       " <a href=\"fsnem.sqw?id=1296&amp;o=8\">Political group Mayors and Independents</a>]"
      ]
     },
     "metadata": {},
     "output_type": "display_data"
    },
    {
     "data": {
      "text/plain": [
       "[<__main__.Deputy at 0x284bba92b20>,\n",
       " <__main__.Deputy at 0x284bba9a1f0>,\n",
       " <__main__.Deputy at 0x284bba92f40>,\n",
       " <__main__.Deputy at 0x284bbb1f6d0>,\n",
       " <__main__.Deputy at 0x284bba92ee0>,\n",
       " <__main__.Deputy at 0x284bbc08460>,\n",
       " <__main__.Deputy at 0x284bbc21880>,\n",
       " <__main__.Deputy at 0x284bbc9dfd0>,\n",
       " <__main__.Deputy at 0x284bbc21b80>,\n",
       " <__main__.Deputy at 0x284bbb559d0>,\n",
       " <__main__.Deputy at 0x284bba9a880>,\n",
       " <__main__.Deputy at 0x284bbc54ac0>,\n",
       " <__main__.Deputy at 0x284bbc2da30>,\n",
       " <__main__.Deputy at 0x284bbc587c0>,\n",
       " <__main__.Deputy at 0x284bbd28d60>,\n",
       " <__main__.Deputy at 0x284bbe27a90>,\n",
       " <__main__.Deputy at 0x284bbdaca90>,\n",
       " <__main__.Deputy at 0x284bbe18940>,\n",
       " <__main__.Deputy at 0x284bbb655b0>,\n",
       " <__main__.Deputy at 0x284bbf25b50>,\n",
       " <__main__.Deputy at 0x284bbf2b280>,\n",
       " <__main__.Deputy at 0x284bbf14160>,\n",
       " <__main__.Deputy at 0x284bbbff1c0>,\n",
       " <__main__.Deputy at 0x284bbdc5fd0>,\n",
       " <__main__.Deputy at 0x284bb7e2fa0>,\n",
       " <__main__.Deputy at 0x284bb7e43a0>,\n",
       " <__main__.Deputy at 0x284bbd28b20>,\n",
       " <__main__.Deputy at 0x284bbece190>,\n",
       " <__main__.Deputy at 0x284bbc57130>,\n",
       " <__main__.Deputy at 0x284bbc085e0>,\n",
       " <__main__.Deputy at 0x284bbf5d700>,\n",
       " <__main__.Deputy at 0x284bb70df70>,\n",
       " <__main__.Deputy at 0x284bb87d070>,\n",
       " <__main__.Deputy at 0x284bb876e50>,\n",
       " <__main__.Deputy at 0x284bbc89bb0>,\n",
       " <__main__.Deputy at 0x284bbe09670>,\n",
       " <__main__.Deputy at 0x284bbd0cac0>,\n",
       " <__main__.Deputy at 0x284bbdd0a30>,\n",
       " <__main__.Deputy at 0x284bbcd4d60>,\n",
       " <__main__.Deputy at 0x284bbdfaca0>,\n",
       " <__main__.Deputy at 0x284bbf4e430>,\n",
       " <__main__.Deputy at 0x284bbea2250>,\n",
       " <__main__.Deputy at 0x284bbb07f70>,\n",
       " <__main__.Deputy at 0x284bbea22b0>,\n",
       " <__main__.Deputy at 0x284bbb07d30>,\n",
       " <__main__.Deputy at 0x284bb793bb0>,\n",
       " <__main__.Deputy at 0x284bbaa6a00>,\n",
       " <__main__.Deputy at 0x284bb842d30>,\n",
       " <__main__.Deputy at 0x284bbaa67f0>,\n",
       " <__main__.Deputy at 0x284bba9a8b0>,\n",
       " <__main__.Deputy at 0x284bba92eb0>,\n",
       " <__main__.Deputy at 0x284bbdfab50>,\n",
       " <__main__.Deputy at 0x284bbf39040>,\n",
       " <__main__.Deputy at 0x284bbc89670>,\n",
       " <__main__.Deputy at 0x284bbf39af0>,\n",
       " <__main__.Deputy at 0x284bbf36fd0>,\n",
       " <__main__.Deputy at 0x284bbddfe20>,\n",
       " <__main__.Deputy at 0x284bbea2fa0>,\n",
       " <__main__.Deputy at 0x284bbddff70>,\n",
       " <__main__.Deputy at 0x284bbe01460>,\n",
       " <__main__.Deputy at 0x284bb75a730>,\n",
       " <__main__.Deputy at 0x284bbc979d0>,\n",
       " <__main__.Deputy at 0x284bbe01670>,\n",
       " <__main__.Deputy at 0x284bb7294c0>,\n",
       " <__main__.Deputy at 0x284bbccb070>,\n",
       " <__main__.Deputy at 0x284bb7294f0>,\n",
       " <__main__.Deputy at 0x284bbebd040>,\n",
       " <__main__.Deputy at 0x284bbe8e040>,\n",
       " <__main__.Deputy at 0x284bbebd310>,\n",
       " <__main__.Deputy at 0x284bbcc5b80>,\n",
       " <__main__.Deputy at 0x284bb7283a0>,\n",
       " <__main__.Deputy at 0x284bbd36ee0>,\n",
       " <__main__.Deputy at 0x284bbf08a30>,\n",
       " <__main__.Deputy at 0x284bbe43dc0>,\n",
       " <__main__.Deputy at 0x284bbe43f40>,\n",
       " <__main__.Deputy at 0x284bbd6ef70>,\n",
       " <__main__.Deputy at 0x284bbf2b3d0>,\n",
       " <__main__.Deputy at 0x284bbb1ff10>,\n",
       " <__main__.Deputy at 0x284bbc2dc70>,\n",
       " <__main__.Deputy at 0x284bb89a100>,\n",
       " <__main__.Deputy at 0x284bbdfaac0>,\n",
       " <__main__.Deputy at 0x284bbc9d460>,\n",
       " <__main__.Deputy at 0x284bbe01580>,\n",
       " <__main__.Deputy at 0x284bbcc29d0>,\n",
       " <__main__.Deputy at 0x284bbd36910>,\n",
       " <__main__.Deputy at 0x284bbebf070>,\n",
       " <__main__.Deputy at 0x284bbeb4e80>,\n",
       " <__main__.Deputy at 0x284bb887d90>,\n",
       " <__main__.Deputy at 0x284bbcc2a90>,\n",
       " <__main__.Deputy at 0x284bbe17b50>,\n",
       " <__main__.Deputy at 0x284bbca9430>,\n",
       " <__main__.Deputy at 0x284bbd36be0>,\n",
       " <__main__.Deputy at 0x284bbe17cd0>,\n",
       " <__main__.Deputy at 0x284bb7d9a60>,\n",
       " <__main__.Deputy at 0x284bbb973d0>,\n",
       " <__main__.Deputy at 0x284bbb8b6a0>,\n",
       " <__main__.Deputy at 0x284bbc14cd0>,\n",
       " <__main__.Deputy at 0x284bb779040>,\n",
       " <__main__.Deputy at 0x284bbaa4af0>,\n",
       " <__main__.Deputy at 0x284bb85a520>,\n",
       " <__main__.Deputy at 0x284bb830490>,\n",
       " <__main__.Deputy at 0x284bb77fee0>,\n",
       " <__main__.Deputy at 0x284bb85a5b0>,\n",
       " <__main__.Deputy at 0x284bbc54340>,\n",
       " <__main__.Deputy at 0x284bbd36880>,\n",
       " <__main__.Deputy at 0x284bbb55190>,\n",
       " <__main__.Deputy at 0x284bb6b0fd0>,\n",
       " <__main__.Deputy at 0x284bba9a0d0>,\n",
       " <__main__.Deputy at 0x284bbe18460>,\n",
       " <__main__.Deputy at 0x284bbf36070>,\n",
       " <__main__.Deputy at 0x284bbf14970>,\n",
       " <__main__.Deputy at 0x284bbb83340>,\n",
       " <__main__.Deputy at 0x284bbf271f0>,\n",
       " <__main__.Deputy at 0x284bbf4e970>,\n",
       " <__main__.Deputy at 0x284bbc9d700>,\n",
       " <__main__.Deputy at 0x284bbdff520>,\n",
       " <__main__.Deputy at 0x284bb70b250>,\n",
       " <__main__.Deputy at 0x284bbe24c40>,\n",
       " <__main__.Deputy at 0x284bbf27550>,\n",
       " <__main__.Deputy at 0x284bb6b0af0>,\n",
       " <__main__.Deputy at 0x284bb784700>,\n",
       " <__main__.Deputy at 0x284bbd57f70>,\n",
       " <__main__.Deputy at 0x284bbe3ac10>,\n",
       " <__main__.Deputy at 0x284bbd2f400>,\n",
       " <__main__.Deputy at 0x284bbd71fd0>,\n",
       " <__main__.Deputy at 0x284bbc54cd0>,\n",
       " <__main__.Deputy at 0x284bb761520>,\n",
       " <__main__.Deputy at 0x284bbd7a070>,\n",
       " <__main__.Deputy at 0x284bbee5160>,\n",
       " <__main__.Deputy at 0x284bbb83be0>,\n",
       " <__main__.Deputy at 0x284bbebf430>,\n",
       " <__main__.Deputy at 0x284bb80b040>,\n",
       " <__main__.Deputy at 0x284bbf25580>,\n",
       " <__main__.Deputy at 0x284bbb83d60>,\n",
       " <__main__.Deputy at 0x284bbc971c0>,\n",
       " <__main__.Deputy at 0x284bb6f89d0>,\n",
       " <__main__.Deputy at 0x284bb7d9790>,\n",
       " <__main__.Deputy at 0x284bbb8ba30>,\n",
       " <__main__.Deputy at 0x284bb842ac0>,\n",
       " <__main__.Deputy at 0x284bbaa69d0>,\n",
       " <__main__.Deputy at 0x284bbe06850>,\n",
       " <__main__.Deputy at 0x284bbf2b2e0>,\n",
       " <__main__.Deputy at 0x284bb744a90>,\n",
       " <__main__.Deputy at 0x284bbc46ca0>,\n",
       " <__main__.Deputy at 0x284bb75a6d0>,\n",
       " <__main__.Deputy at 0x284bbef3bb0>,\n",
       " <__main__.Deputy at 0x284bb744bb0>,\n",
       " <__main__.Deputy at 0x284bb761670>,\n",
       " <__main__.Deputy at 0x284bbf0c700>,\n",
       " <__main__.Deputy at 0x284bbe9e970>,\n",
       " <__main__.Deputy at 0x284bbafa9d0>,\n",
       " <__main__.Deputy at 0x284bbe9eb20>,\n",
       " <__main__.Deputy at 0x284bbbb5f70>,\n",
       " <__main__.Deputy at 0x284bbd23a00>,\n",
       " <__main__.Deputy at 0x284bb68d3d0>,\n",
       " <__main__.Deputy at 0x284bbf396d0>,\n",
       " <__main__.Deputy at 0x284bbf39730>,\n",
       " <__main__.Deputy at 0x284bbb077f0>,\n",
       " <__main__.Deputy at 0x284bbcc2af0>,\n",
       " <__main__.Deputy at 0x284bb757ca0>,\n",
       " <__main__.Deputy at 0x284bbe17850>,\n",
       " <__main__.Deputy at 0x284bbb1f820>,\n",
       " <__main__.Deputy at 0x284bbf0c7f0>,\n",
       " <__main__.Deputy at 0x284bbcd45b0>,\n",
       " <__main__.Deputy at 0x284bbe8e0a0>,\n",
       " <__main__.Deputy at 0x284bbf082b0>,\n",
       " <__main__.Deputy at 0x284bbe9e760>,\n",
       " <__main__.Deputy at 0x284bbea2370>,\n",
       " <__main__.Deputy at 0x284bbd239d0>,\n",
       " <__main__.Deputy at 0x284bbef9cd0>,\n",
       " <__main__.Deputy at 0x284bbea2e20>,\n",
       " <__main__.Deputy at 0x284bbe72fa0>,\n",
       " <__main__.Deputy at 0x284bbf041f0>,\n",
       " <__main__.Deputy at 0x284bbe9e700>,\n",
       " <__main__.Deputy at 0x284bb76fb20>,\n",
       " <__main__.Deputy at 0x284bbb60700>,\n",
       " <__main__.Deputy at 0x284bbe55520>,\n",
       " <__main__.Deputy at 0x284bb7e28e0>,\n",
       " <__main__.Deputy at 0x284bb8463d0>,\n",
       " <__main__.Deputy at 0x284bbd80c70>,\n",
       " <__main__.Deputy at 0x284bb761af0>,\n",
       " <__main__.Deputy at 0x284bbe43280>,\n",
       " <__main__.Deputy at 0x284bb887820>,\n",
       " <__main__.Deputy at 0x284bb7291c0>,\n",
       " <__main__.Deputy at 0x284bbb65b50>,\n",
       " <__main__.Deputy at 0x284bbe18a30>,\n",
       " <__main__.Deputy at 0x284bb729ca0>,\n",
       " <__main__.Deputy at 0x284bb7c2ca0>,\n",
       " <__main__.Deputy at 0x284bbddff10>,\n",
       " <__main__.Deputy at 0x284bb70d4f0>,\n",
       " <__main__.Deputy at 0x284bbbffe80>,\n",
       " <__main__.Deputy at 0x284bb827df0>,\n",
       " <__main__.Deputy at 0x284bbc46340>,\n",
       " <__main__.Deputy at 0x284bbacd550>,\n",
       " <__main__.Deputy at 0x284bb7d0f10>,\n",
       " <__main__.Deputy at 0x284bb7a62e0>,\n",
       " <__main__.Deputy at 0x284bbe5ee50>,\n",
       " <__main__.Deputy at 0x284bbe01a60>,\n",
       " <__main__.Deputy at 0x284bbe01b80>,\n",
       " <__main__.Deputy at 0x284bbe010d0>]"
      ]
     },
     "execution_count": 10,
     "metadata": {},
     "output_type": "execute_result"
    }
   ],
   "source": [
    "deputes = []\n",
    "r = requests.get(votings[0])\n",
    "soup = BeautifulSoup(r.content.decode('windows-1252', 'ignore'), 'html.parser')\n",
    "uls = soup.find_all('ul', {'class':'results'})\n",
    "for ul in uls:\n",
    "    for li in ul.find_all('li'):\n",
    "        name = li.find('a').text.replace('\\u00E8', '\\u010D').replace('\\xa0', ' ').replace('\\u00F8', '\\u0159').replace('\\u00EC', '\\u00E8')\n",
    "        vote = \n",
    "        id = str(li.find('a').get('href').split('id=', 1)[1])[:4]\n",
    "        deputes.append(Deputy(str(name),str(id)))\n",
    "deputes"
   ]
  },
  {
   "cell_type": "code",
   "execution_count": null,
   "metadata": {},
   "outputs": [],
   "source": [
    "    \n",
    "# for elem in ahrefs:\n",
    "#     if elem.startswith('hlasy.sqw?g='):\n",
    "#         id_list.append(str(elem.split('hlasy.sqw?g=')[1])[:-5])\n",
    "    \n",
    "# pg_list = []\n",
    "# for elem in ahrefs:\n",
    "#     if elem.startswith('phlasa.sqw?o=8&l=en&pg='):\n",
    "#         pg_list.append(int(elem.split('phlasa.sqw?o=8&l=en&pg=')[1]))\n",
    "    \n",
    "# for i in range(max(pg_list) + 1):\n",
    "#     if i == 0 or i == 1:\n",
    "#         continue\n",
    "#     url = 'https://public.psp.cz/en/sqw/phlasa.sqw?o=8&l=en&pg=' + str(i)\n",
    "#     r = requests.get(url)\n",
    "#     soup = BeautifulSoup(r.content.decode('windows-1252', 'ignore'), 'html.parser')\n",
    "#     ahrefs.clear()\n",
    "    \n",
    "#     for link in soup.find_all('a'):\n",
    "#         ahrefs.append(link.get('href'))\n",
    "    \n",
    "#     for elem in ahrefs:\n",
    "#         if elem.startswith('hlasy.sqw?g='):\n",
    "#             id_list.append(str(elem.split('hlasy.sqw?g=')[1])[:-5])\n",
    "    \n",
    "    "
   ]
  },
  {
   "cell_type": "code",
   "execution_count": null,
   "metadata": {},
   "outputs": [],
   "source": []
  },
  {
   "cell_type": "code",
   "execution_count": null,
   "metadata": {},
   "outputs": [],
   "source": []
  }
 ],
 "metadata": {
  "kernelspec": {
   "display_name": "Python 3",
   "language": "python",
   "name": "python3"
  },
  "language_info": {
   "codemirror_mode": {
    "name": "ipython",
    "version": 3
   },
   "file_extension": ".py",
   "mimetype": "text/x-python",
   "name": "python",
   "nbconvert_exporter": "python",
   "pygments_lexer": "ipython3",
   "version": "3.8.3"
  }
 },
 "nbformat": 4,
 "nbformat_minor": 4
}
