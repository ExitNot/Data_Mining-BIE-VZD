{
 "cells": [
  {
   "cell_type": "markdown",
   "metadata": {},
   "source": [
    "# 1st Homework - data visualisation and web scraping (deadline October 18th)\n",
    "\n",
    "  * In this homework you should download (*scrape*) data from the web, process it and visualise.\n",
    "  * The objective is to download data from server https://www.psp.cz/en/sqw/hlasovani.sqw?o=8 regarding voting in the Chamber of Deputies of the Parliament of the Czech Republic, save it in a tabular form and create visualisations, which make exploration of the data easier and show interesting information about it.\n",
    "\n",
    "> **Unfortunately, the web page is only in Czech. However, it should be possible to navigate it. Please contact your tutorial teacher in case of any questions.**\n",
    "\n",
    "## Data\n",
    "\n",
    " * Download data from all votings of the current Chamber of Deputies (since 2017). Download details of voting of particular deputies.\n",
    " * Data should contain basic information about the voting - number of meeting, number of voting, point of the meeting and date.\n",
    "\n",
    "## Instructions\n",
    "\n",
    "> **Homework is assigned in a way that you have space for invention. Thinking of the _exact solution path_ is part of the assignment. Originality will be taken into account in the evaluation.**\n",
    "\n",
    "**Basic points of the assignment (8 points)**:\n",
    "  * Write Python script for downloading data. Download the data and save it in a suitable machine-readable format.\n",
    "  * **Wait at least 1 second between two consecutive requests to the server, to not overload it.**\n",
    "  * In the second part of the notebook, work with the data loaded from a local file. File(s) with downloaded data should be submitted as well (so the reviewer do not have to download the data again).\n",
    "  * Create visualisations to show the following:\n",
    "    * Deputies changing their parliamentary clubs.\n",
    "    * Attendance of individual deputies in the votings. Attendance of parliamentary clubs in the votings.\n",
    "    * How often individual parliamentary clubs vote the same and different.\n",
    "    * Are deputies in the same parliamentary club voting the same? Who are the biggest rebels?\n",
    "\n",
    "**Further points of assignment**, each for 2 points (maximum for the homework is 12):\n",
    "  * Visualise some time development in the data (e.g. attendance, change of agreement in voting among individual parliamentary clubs, etc.)\n",
    "  * Find individual deputies who have the most similar voting or attendance.\n",
    "  * Try to find particular voting, where deputies voted the most differently than traditionally.\n",
    "  \n",
    "## Tips and tricks\n",
    "  * Import libraries at the beginning of the notebook, or the beginning of scraping and visualisation parts.\n",
    "  * Use markdown cells (like this one) and headings to make orientation in the notebook easier.\n",
    "  * Select plots and visualisation matching the information you want to show. You can see galleries of libraries `matplotlib` and `seaborn` for inspiration.\n",
    "\n",
    "## Submission notes\n",
    "\n",
    "  * Follow instructions at https://courses.fit.cvut.cz/BIE-VZD/homeworks/index.html\n",
    "  * Submit **Jupyter Notebook** (possibly with additional scripts) and **file(s)** with downloaded data\n",
    "  * Reviewer may allow you to finish or correct your homework to achieve additional points. However, the first version is crucial."
   ]
  },
  {
   "cell_type": "code",
   "execution_count": 18,
   "metadata": {},
   "outputs": [],
   "source": [
    "import requests\n",
    "from bs4 import BeautifulSoup\n",
    "import pandas as pd\n",
    "import time\n",
    "import re\n",
    "import lxml.html\n",
    "\n",
    "\n",
    "class Deputy:\n",
    "    def __init__(self, name, id):\n",
    "        self.name = name\n",
    "        self.id = id\n",
    "        self.generate_info()\n",
    "#         self.vote_num = 0\n",
    "    def generate_info(self):\n",
    "        time.sleep(0.5)\n",
    "        if self.id == '6165':\n",
    "            self.polit_group = 'ANO 2011'\n",
    "            self.member_from = '26.10.2013'\n",
    "            return\n",
    "        self.url = str('https://public.psp.cz/en/sqw/detail.sqw?id=' + str(self.id) + '&o=8&l=cz')\n",
    "        r = requests.get(self.url)\n",
    "        soup = BeautifulSoup(r.content.decode('windows-1252', 'ignore'), 'html.parser')\n",
    "#         display('url:' + self.url)\n",
    "        polit_groups = [i for i in soup.find_all('a') if 'Political group' in str(i)]\n",
    "#         display(polit_group)\n",
    "        for idx, p_group in enumerate(polit_groups):\n",
    "            polit_groups[idx] = str(str(p_group).split('Political group ', 1)[1])[:-4]\n",
    "        self.polit_group = polit_groups\n",
    "        self.member_from = str(soup.find_all('li')[0]).split('member  from ')[1].replace('\\xa0', '')[:-5]\n",
    "    def load_to_csv(self, path):\n",
    "        out = str(self.name) + ';' + str(self.id) + ';' + str(self.polit_group) + ';' + str(self.member_from) + '\\n'\n",
    "        with open(path, 'w') as file:\n",
    "            file.write(out)\n",
    "\n",
    "class Voting():\n",
    "    def __init__(self, name, id):\n",
    "        self.name = name\n",
    "        self.id = id\n",
    "        self.generate_info()\n",
    "            \n",
    "# Here we start scraping the data. \n",
    "def download_data(url):\n",
    "    r = requests.get(url)\n",
    "    soup = BeautifulSoup(r.content.decode('windows-1252', 'ignore'), 'html.parser')\n",
    "    ahrefs = []\n",
    "    \n",
    "    for link in soup.find_all('a'):\n",
    "        ahrefs.append(link.get('href'))\n",
    "        \n",
    "    meeting_links = []\n",
    "    url = 'https://public.psp.cz/en/sqw/'\n",
    "    \n",
    "    for elem in ahrefs:\n",
    "        if elem.startswith('hl.sqw?o=8&s=') and len(elem) <= 15:\n",
    "            meeting_links.append(url + elem)\n",
    "            \n",
    "    \n",
    "#     r = requests.get(meeting_links[0])  # Here i have to change it for cycle\n",
    "#     r.encoding=\"windows-1252\"\n",
    "\n",
    "#     soup = BeautifulSoup(r.content)\n",
    "\n",
    "#     # soup.find_all('a', href=re.compile(\"phlasa.sqw\"))\n",
    "#     links = soup.select_one(\"a[href^='phlasa.sqw']\") \n",
    "#     links = re.search(r'\"([^\"]*)\"', str(links))\n",
    "#     links = url + links.group()[1:-1]\n",
    "#     links = re.sub('amp;', '', links)"
   ]
  },
  {
   "cell_type": "code",
   "execution_count": 2,
   "metadata": {},
   "outputs": [],
   "source": [
    "# url with a form\n",
    "url = 'https://www.psp.cz/en/sqw/hlasovani.sqw?o=8'\n",
    "\n",
    "download_data(url)"
   ]
  },
  {
   "cell_type": "code",
   "execution_count": 3,
   "metadata": {},
   "outputs": [],
   "source": []
  },
  {
   "cell_type": "code",
   "execution_count": 4,
   "metadata": {},
   "outputs": [],
   "source": []
  },
  {
   "cell_type": "code",
   "execution_count": 5,
   "metadata": {},
   "outputs": [],
   "source": []
  },
  {
   "cell_type": "code",
   "execution_count": 6,
   "metadata": {
    "scrolled": true
   },
   "outputs": [],
   "source": [
    "r = requests.get(links)\n",
    "r.encoding=\"windows-1252\"\n",
    "soup = BeautifulSoup(r.content, 'lxml')\n",
    "# https://public.psp.cz/en/sqw/hlasy.sqw?g=67018&l=en is a link example\n",
    "\n",
    "ahrefs.clear()\n",
    "for link in soup.find_all('a'):\n",
    "    ahrefs.append(link.get('href'))"
   ]
  },
  {
   "cell_type": "code",
   "execution_count": 7,
   "metadata": {},
   "outputs": [],
   "source": [
    "votings = []\n",
    "url = 'https://public.psp.cz/en/sqw/'\n",
    "for elem in ahrefs:\n",
    "    if elem.startswith('hlasy.sqw?g='):\n",
    "        votings.append(url + elem)\n",
    "        "
   ]
  },
  {
   "cell_type": "code",
   "execution_count": 8,
   "metadata": {},
   "outputs": [],
   "source": [
    "deputes = []\n",
    "r = requests.get(votings[0])\n",
    "r.encoding=\"windows-1252\"\n",
    "soup = BeautifulSoup(r.content, 'lxml')\n",
    "for link in soup.find_all('li'):\n",
    "    deputes.append(link)"
   ]
  },
  {
   "cell_type": "code",
   "execution_count": 9,
   "metadata": {},
   "outputs": [
    {
     "data": {
      "text/plain": [
       "'https://public.psp.cz/en/sqw/hlasy.sqw?g=67018&l=en'"
      ]
     },
     "execution_count": 9,
     "metadata": {},
     "output_type": "execute_result"
    }
   ],
   "source": [
    "votings[0]"
   ]
  },
  {
   "cell_type": "code",
   "execution_count": 10,
   "metadata": {
    "scrolled": true
   },
   "outputs": [
    {
     "data": {
      "text/plain": [
       "'url:https://public.psp.cz/en/sqw/detail.sqw?id=6254&o=8&l=cz'"
      ]
     },
     "metadata": {},
     "output_type": "display_data"
    },
    {
     "data": {
      "text/plain": [
       "[<a href=\"fsnem.sqw?id=1292&amp;o=8\">Political group ANO 2011</a>]"
      ]
     },
     "metadata": {},
     "output_type": "display_data"
    },
    {
     "data": {
      "text/plain": [
       "'url:https://public.psp.cz/en/sqw/detail.sqw?id=6150&o=8&l=cz'"
      ]
     },
     "metadata": {},
     "output_type": "display_data"
    },
    {
     "data": {
      "text/plain": [
       "[<a href=\"fsnem.sqw?id=1292&amp;o=8\">Political group ANO 2011</a>]"
      ]
     },
     "metadata": {},
     "output_type": "display_data"
    },
    {
     "data": {
      "text/plain": [
       "'url:https://public.psp.cz/en/sqw/detail.sqw?id=6428&o=8&l=cz'"
      ]
     },
     "metadata": {},
     "output_type": "display_data"
    },
    {
     "data": {
      "text/plain": [
       "[<a href=\"fsnem.sqw?id=1292&amp;o=8\">Political group ANO 2011</a>]"
      ]
     },
     "metadata": {},
     "output_type": "display_data"
    },
    {
     "data": {
      "text/plain": [
       "'url:https://public.psp.cz/en/sqw/detail.sqw?id=6177&o=8&l=cz'"
      ]
     },
     "metadata": {},
     "output_type": "display_data"
    },
    {
     "data": {
      "text/plain": [
       "[<a href=\"fsnem.sqw?id=1292&amp;o=8\">Political group ANO 2011</a>]"
      ]
     },
     "metadata": {},
     "output_type": "display_data"
    },
    {
     "data": {
      "text/plain": [
       "'url:https://public.psp.cz/en/sqw/detail.sqw?id=6437&o=8&l=cz'"
      ]
     },
     "metadata": {},
     "output_type": "display_data"
    },
    {
     "data": {
      "text/plain": [
       "[<a href=\"fsnem.sqw?id=1292&amp;o=8\">Political group ANO 2011</a>]"
      ]
     },
     "metadata": {},
     "output_type": "display_data"
    },
    {
     "data": {
      "text/plain": [
       "'url:https://public.psp.cz/en/sqw/detail.sqw?id=6143&o=8&l=cz'"
      ]
     },
     "metadata": {},
     "output_type": "display_data"
    },
    {
     "data": {
      "text/plain": [
       "[<a href=\"fsnem.sqw?id=1292&amp;o=8\">Political group ANO 2011</a>]"
      ]
     },
     "metadata": {},
     "output_type": "display_data"
    },
    {
     "data": {
      "text/plain": [
       "'url:https://public.psp.cz/en/sqw/detail.sqw?id=6439&o=8&l=cz'"
      ]
     },
     "metadata": {},
     "output_type": "display_data"
    },
    {
     "data": {
      "text/plain": [
       "[<a href=\"fsnem.sqw?id=1292&amp;o=8\">Political group ANO 2011</a>]"
      ]
     },
     "metadata": {},
     "output_type": "display_data"
    },
    {
     "data": {
      "text/plain": [
       "'url:https://public.psp.cz/en/sqw/detail.sqw?id=6184&o=8&l=cz'"
      ]
     },
     "metadata": {},
     "output_type": "display_data"
    },
    {
     "data": {
      "text/plain": [
       "[<a href=\"fsnem.sqw?id=1292&amp;o=8\">Political group ANO 2011</a>]"
      ]
     },
     "metadata": {},
     "output_type": "display_data"
    },
    {
     "data": {
      "text/plain": [
       "'url:https://public.psp.cz/en/sqw/detail.sqw?id=6185&o=8&l=cz'"
      ]
     },
     "metadata": {},
     "output_type": "display_data"
    },
    {
     "data": {
      "text/plain": [
       "[<a href=\"fsnem.sqw?id=1292&amp;o=8\">Political group ANO 2011</a>]"
      ]
     },
     "metadata": {},
     "output_type": "display_data"
    },
    {
     "data": {
      "text/plain": [
       "'url:https://public.psp.cz/en/sqw/detail.sqw?id=6434&o=8&l=cz'"
      ]
     },
     "metadata": {},
     "output_type": "display_data"
    },
    {
     "data": {
      "text/plain": [
       "[<a href=\"fsnem.sqw?id=1292&amp;o=8\">Political group ANO 2011</a>]"
      ]
     },
     "metadata": {},
     "output_type": "display_data"
    },
    {
     "data": {
      "text/plain": [
       "'url:https://public.psp.cz/en/sqw/detail.sqw?id=6441&o=8&l=cz'"
      ]
     },
     "metadata": {},
     "output_type": "display_data"
    },
    {
     "data": {
      "text/plain": [
       "[<a href=\"fsnem.sqw?id=1292&amp;o=8\">Political group ANO 2011</a>]"
      ]
     },
     "metadata": {},
     "output_type": "display_data"
    },
    {
     "data": {
      "text/plain": [
       "'url:https://public.psp.cz/en/sqw/detail.sqw?id=6430&o=8&l=cz'"
      ]
     },
     "metadata": {},
     "output_type": "display_data"
    },
    {
     "data": {
      "text/plain": [
       "[<a href=\"fsnem.sqw?id=1292&amp;o=8\">Political group ANO 2011</a>,\n",
       " <a href=\"fsnem.sqw?id=1292&amp;o=8\">Political group ANO 2011</a>]"
      ]
     },
     "metadata": {},
     "output_type": "display_data"
    },
    {
     "data": {
      "text/plain": [
       "'url:https://public.psp.cz/en/sqw/detail.sqw?id=6431&o=8&l=cz'"
      ]
     },
     "metadata": {},
     "output_type": "display_data"
    },
    {
     "data": {
      "text/plain": [
       "[<a href=\"fsnem.sqw?id=1292&amp;o=8\">Political group ANO 2011</a>]"
      ]
     },
     "metadata": {},
     "output_type": "display_data"
    },
    {
     "data": {
      "text/plain": [
       "'url:https://public.psp.cz/en/sqw/detail.sqw?id=6190&o=8&l=cz'"
      ]
     },
     "metadata": {},
     "output_type": "display_data"
    },
    {
     "data": {
      "text/plain": [
       "[<a href=\"fsnem.sqw?id=1292&amp;o=8\">Political group ANO 2011</a>,\n",
       " <a href=\"fsnem.sqw?id=1292&amp;o=8\">Political group ANO 2011</a>]"
      ]
     },
     "metadata": {},
     "output_type": "display_data"
    },
    {
     "data": {
      "text/plain": [
       "'url:https://public.psp.cz/en/sqw/detail.sqw?id=6447&o=8&l=cz'"
      ]
     },
     "metadata": {},
     "output_type": "display_data"
    },
    {
     "data": {
      "text/plain": [
       "[<a href=\"fsnem.sqw?id=1292&amp;o=8\">Political group ANO 2011</a>]"
      ]
     },
     "metadata": {},
     "output_type": "display_data"
    },
    {
     "data": {
      "text/plain": [
       "'url:https://public.psp.cz/en/sqw/detail.sqw?id=6448&o=8&l=cz'"
      ]
     },
     "metadata": {},
     "output_type": "display_data"
    },
    {
     "data": {
      "text/plain": [
       "[<a href=\"fsnem.sqw?id=1292&amp;o=8\">Political group ANO 2011</a>]"
      ]
     },
     "metadata": {},
     "output_type": "display_data"
    },
    {
     "data": {
      "text/plain": [
       "'url:https://public.psp.cz/en/sqw/detail.sqw?id=6457&o=8&l=cz'"
      ]
     },
     "metadata": {},
     "output_type": "display_data"
    },
    {
     "data": {
      "text/plain": [
       "[<a href=\"fsnem.sqw?id=1292&amp;o=8\">Political group ANO 2011</a>]"
      ]
     },
     "metadata": {},
     "output_type": "display_data"
    },
    {
     "data": {
      "text/plain": [
       "'url:https://public.psp.cz/en/sqw/detail.sqw?id=6451&o=8&l=cz'"
      ]
     },
     "metadata": {},
     "output_type": "display_data"
    },
    {
     "data": {
      "text/plain": [
       "[<a href=\"fsnem.sqw?id=1292&amp;o=8\">Political group ANO 2011</a>]"
      ]
     },
     "metadata": {},
     "output_type": "display_data"
    },
    {
     "data": {
      "text/plain": [
       "'url:https://public.psp.cz/en/sqw/detail.sqw?id=6139&o=8&l=cz'"
      ]
     },
     "metadata": {},
     "output_type": "display_data"
    },
    {
     "data": {
      "text/plain": [
       "[<a href=\"fsnem.sqw?id=1292&amp;o=8\">Political group ANO 2011</a>,\n",
       " <a href=\"fsnem.sqw?id=1292&amp;o=8\">Political group ANO 2011</a>]"
      ]
     },
     "metadata": {},
     "output_type": "display_data"
    },
    {
     "data": {
      "text/plain": [
       "'url:https://public.psp.cz/en/sqw/detail.sqw?id=6303&o=8&l=cz'"
      ]
     },
     "metadata": {},
     "output_type": "display_data"
    },
    {
     "data": {
      "text/plain": [
       "[<a href=\"fsnem.sqw?id=1292&amp;o=8\">Political group ANO 2011</a>]"
      ]
     },
     "metadata": {},
     "output_type": "display_data"
    },
    {
     "data": {
      "text/plain": [
       "'url:https://public.psp.cz/en/sqw/detail.sqw?id=6453&o=8&l=cz'"
      ]
     },
     "metadata": {},
     "output_type": "display_data"
    },
    {
     "data": {
      "text/plain": [
       "[<a href=\"fsnem.sqw?id=1292&amp;o=8\">Political group ANO 2011</a>]"
      ]
     },
     "metadata": {},
     "output_type": "display_data"
    },
    {
     "data": {
      "text/plain": [
       "'url:https://public.psp.cz/en/sqw/detail.sqw?id=6458&o=8&l=cz'"
      ]
     },
     "metadata": {},
     "output_type": "display_data"
    },
    {
     "data": {
      "text/plain": [
       "[<a href=\"fsnem.sqw?id=1292&amp;o=8\">Political group ANO 2011</a>]"
      ]
     },
     "metadata": {},
     "output_type": "display_data"
    },
    {
     "data": {
      "text/plain": [
       "'url:https://public.psp.cz/en/sqw/detail.sqw?id=6201&o=8&l=cz'"
      ]
     },
     "metadata": {},
     "output_type": "display_data"
    },
    {
     "data": {
      "text/plain": [
       "[<a href=\"fsnem.sqw?id=1292&amp;o=8\">Political group ANO 2011</a>]"
      ]
     },
     "metadata": {},
     "output_type": "display_data"
    },
    {
     "data": {
      "text/plain": [
       "'url:https://public.psp.cz/en/sqw/detail.sqw?id=6463&o=8&l=cz'"
      ]
     },
     "metadata": {},
     "output_type": "display_data"
    },
    {
     "data": {
      "text/plain": [
       "[<a href=\"fsnem.sqw?id=1292&amp;o=8\">Political group ANO 2011</a>]"
      ]
     },
     "metadata": {},
     "output_type": "display_data"
    },
    {
     "data": {
      "text/plain": [
       "'url:https://public.psp.cz/en/sqw/detail.sqw?id=6496&o=8&l=cz'"
      ]
     },
     "metadata": {},
     "output_type": "display_data"
    },
    {
     "data": {
      "text/plain": [
       "[<a href=\"fsnem.sqw?id=1292&amp;o=8\">Political group ANO 2011</a>]"
      ]
     },
     "metadata": {},
     "output_type": "display_data"
    },
    {
     "data": {
      "text/plain": [
       "'url:https://public.psp.cz/en/sqw/detail.sqw?id=6497&o=8&l=cz'"
      ]
     },
     "metadata": {},
     "output_type": "display_data"
    },
    {
     "data": {
      "text/plain": [
       "[<a href=\"fsnem.sqw?id=1292&amp;o=8\">Political group ANO 2011</a>]"
      ]
     },
     "metadata": {},
     "output_type": "display_data"
    },
    {
     "data": {
      "text/plain": [
       "'url:https://public.psp.cz/en/sqw/detail.sqw?id=6209&o=8&l=cz'"
      ]
     },
     "metadata": {},
     "output_type": "display_data"
    },
    {
     "data": {
      "text/plain": [
       "[<a href=\"fsnem.sqw?id=1292&amp;o=8\">Political group ANO 2011</a>]"
      ]
     },
     "metadata": {},
     "output_type": "display_data"
    },
    {
     "data": {
      "text/plain": [
       "'url:https://public.psp.cz/en/sqw/detail.sqw?id=6506&o=8&l=cz'"
      ]
     },
     "metadata": {},
     "output_type": "display_data"
    },
    {
     "data": {
      "text/plain": [
       "[<a href=\"fsnem.sqw?id=1292&amp;o=8\">Political group ANO 2011</a>]"
      ]
     },
     "metadata": {},
     "output_type": "display_data"
    },
    {
     "data": {
      "text/plain": [
       "'url:https://public.psp.cz/en/sqw/detail.sqw?id=6211&o=8&l=cz'"
      ]
     },
     "metadata": {},
     "output_type": "display_data"
    },
    {
     "data": {
      "text/plain": [
       "[<a href=\"fsnem.sqw?id=1292&amp;o=8\">Political group ANO 2011</a>]"
      ]
     },
     "metadata": {},
     "output_type": "display_data"
    },
    {
     "data": {
      "text/plain": [
       "'url:https://public.psp.cz/en/sqw/detail.sqw?id=6464&o=8&l=cz'"
      ]
     },
     "metadata": {},
     "output_type": "display_data"
    },
    {
     "data": {
      "text/plain": [
       "[<a href=\"fsnem.sqw?id=1292&amp;o=8\">Political group ANO 2011</a>]"
      ]
     },
     "metadata": {},
     "output_type": "display_data"
    },
    {
     "data": {
      "text/plain": [
       "'url:https://public.psp.cz/en/sqw/detail.sqw?id=6246&o=8&l=cz'"
      ]
     },
     "metadata": {},
     "output_type": "display_data"
    },
    {
     "data": {
      "text/plain": [
       "[<a href=\"fsnem.sqw?id=1292&amp;o=8\">Political group ANO 2011</a>]"
      ]
     },
     "metadata": {},
     "output_type": "display_data"
    },
    {
     "data": {
      "text/plain": [
       "'url:https://public.psp.cz/en/sqw/detail.sqw?id=6509&o=8&l=cz'"
      ]
     },
     "metadata": {},
     "output_type": "display_data"
    },
    {
     "data": {
      "text/plain": [
       "[<a href=\"fsnem.sqw?id=1292&amp;o=8\">Political group ANO 2011</a>]"
      ]
     },
     "metadata": {},
     "output_type": "display_data"
    },
    {
     "data": {
      "text/plain": [
       "'url:https://public.psp.cz/en/sqw/detail.sqw?id=6215&o=8&l=cz'"
      ]
     },
     "metadata": {},
     "output_type": "display_data"
    },
    {
     "data": {
      "text/plain": [
       "[<a href=\"fsnem.sqw?id=1292&amp;o=8\">Political group ANO 2011</a>,\n",
       " <a href=\"fsnem.sqw?id=1292&amp;o=8\">Political group ANO 2011</a>]"
      ]
     },
     "metadata": {},
     "output_type": "display_data"
    },
    {
     "data": {
      "text/plain": [
       "'url:https://public.psp.cz/en/sqw/detail.sqw?id=6511&o=8&l=cz'"
      ]
     },
     "metadata": {},
     "output_type": "display_data"
    },
    {
     "data": {
      "text/plain": [
       "[<a href=\"fsnem.sqw?id=1292&amp;o=8\">Political group ANO 2011</a>]"
      ]
     },
     "metadata": {},
     "output_type": "display_data"
    },
    {
     "data": {
      "text/plain": [
       "'url:https://public.psp.cz/en/sqw/detail.sqw?id=6512&o=8&l=cz'"
      ]
     },
     "metadata": {},
     "output_type": "display_data"
    },
    {
     "data": {
      "text/plain": [
       "[<a href=\"fsnem.sqw?id=1292&amp;o=8\">Political group ANO 2011</a>]"
      ]
     },
     "metadata": {},
     "output_type": "display_data"
    },
    {
     "data": {
      "text/plain": [
       "'url:https://public.psp.cz/en/sqw/detail.sqw?id=6468&o=8&l=cz'"
      ]
     },
     "metadata": {},
     "output_type": "display_data"
    },
    {
     "data": {
      "text/plain": [
       "[<a href=\"fsnem.sqw?id=1292&amp;o=8\">Political group ANO 2011</a>]"
      ]
     },
     "metadata": {},
     "output_type": "display_data"
    },
    {
     "data": {
      "text/plain": [
       "'url:https://public.psp.cz/en/sqw/detail.sqw?id=6536&o=8&l=cz'"
      ]
     },
     "metadata": {},
     "output_type": "display_data"
    },
    {
     "data": {
      "text/plain": [
       "[<a href=\"fsnem.sqw?id=1292&amp;o=8\">Political group ANO 2011</a>]"
      ]
     },
     "metadata": {},
     "output_type": "display_data"
    },
    {
     "data": {
      "text/plain": [
       "'url:https://public.psp.cz/en/sqw/detail.sqw?id=6534&o=8&l=cz'"
      ]
     },
     "metadata": {},
     "output_type": "display_data"
    },
    {
     "data": {
      "text/plain": [
       "[<a href=\"fsnem.sqw?id=1292&amp;o=8\">Political group ANO 2011</a>]"
      ]
     },
     "metadata": {},
     "output_type": "display_data"
    },
    {
     "data": {
      "text/plain": [
       "'url:https://public.psp.cz/en/sqw/detail.sqw?id=6221&o=8&l=cz'"
      ]
     },
     "metadata": {},
     "output_type": "display_data"
    },
    {
     "data": {
      "text/plain": [
       "[<a href=\"fsnem.sqw?id=1292&amp;o=8\">Political group ANO 2011</a>]"
      ]
     },
     "metadata": {},
     "output_type": "display_data"
    },
    {
     "data": {
      "text/plain": [
       "'url:https://public.psp.cz/en/sqw/detail.sqw?id=6476&o=8&l=cz'"
      ]
     },
     "metadata": {},
     "output_type": "display_data"
    },
    {
     "data": {
      "text/plain": [
       "[<a href=\"fsnem.sqw?id=1292&amp;o=8\">Political group ANO 2011</a>]"
      ]
     },
     "metadata": {},
     "output_type": "display_data"
    },
    {
     "data": {
      "text/plain": [
       "'url:https://public.psp.cz/en/sqw/detail.sqw?id=6471&o=8&l=cz'"
      ]
     },
     "metadata": {},
     "output_type": "display_data"
    },
    {
     "data": {
      "text/plain": [
       "[<a href=\"fsnem.sqw?id=1292&amp;o=8\">Political group ANO 2011</a>]"
      ]
     },
     "metadata": {},
     "output_type": "display_data"
    },
    {
     "data": {
      "text/plain": [
       "'url:https://public.psp.cz/en/sqw/detail.sqw?id=6487&o=8&l=cz'"
      ]
     },
     "metadata": {},
     "output_type": "display_data"
    },
    {
     "data": {
      "text/plain": [
       "[<a href=\"fsnem.sqw?id=1292&amp;o=8\">Political group ANO 2011</a>]"
      ]
     },
     "metadata": {},
     "output_type": "display_data"
    },
    {
     "data": {
      "text/plain": [
       "'url:https://public.psp.cz/en/sqw/detail.sqw?id=6533&o=8&l=cz'"
      ]
     },
     "metadata": {},
     "output_type": "display_data"
    },
    {
     "data": {
      "text/plain": [
       "[<a href=\"fsnem.sqw?id=1292&amp;o=8\">Political group ANO 2011</a>]"
      ]
     },
     "metadata": {},
     "output_type": "display_data"
    },
    {
     "data": {
      "text/plain": [
       "'url:https://public.psp.cz/en/sqw/detail.sqw?id=6475&o=8&l=cz'"
      ]
     },
     "metadata": {},
     "output_type": "display_data"
    },
    {
     "data": {
      "text/plain": [
       "[<a href=\"fsnem.sqw?id=1292&amp;o=8\">Political group ANO 2011</a>]"
      ]
     },
     "metadata": {},
     "output_type": "display_data"
    },
    {
     "data": {
      "text/plain": [
       "'url:https://public.psp.cz/en/sqw/detail.sqw?id=6172&o=8&l=cz'"
      ]
     },
     "metadata": {},
     "output_type": "display_data"
    },
    {
     "data": {
      "text/plain": [
       "[<a href=\"fsnem.sqw?id=1292&amp;o=8\">Political group ANO 2011</a>]"
      ]
     },
     "metadata": {},
     "output_type": "display_data"
    },
    {
     "data": {
      "text/plain": [
       "'url:https://public.psp.cz/en/sqw/detail.sqw?id=6474&o=8&l=cz'"
      ]
     },
     "metadata": {},
     "output_type": "display_data"
    },
    {
     "data": {
      "text/plain": [
       "[<a href=\"fsnem.sqw?id=1292&amp;o=8\">Political group ANO 2011</a>]"
      ]
     },
     "metadata": {},
     "output_type": "display_data"
    },
    {
     "data": {
      "text/plain": [
       "'url:https://public.psp.cz/en/sqw/detail.sqw?id=6225&o=8&l=cz'"
      ]
     },
     "metadata": {},
     "output_type": "display_data"
    },
    {
     "data": {
      "text/plain": [
       "[<a href=\"fsnem.sqw?id=1292&amp;o=8\">Political group ANO 2011</a>,\n",
       " <a href=\"fsnem.sqw?id=1292&amp;o=8\">Political group ANO 2011</a>]"
      ]
     },
     "metadata": {},
     "output_type": "display_data"
    },
    {
     "data": {
      "text/plain": [
       "'url:https://public.psp.cz/en/sqw/detail.sqw?id=6318&o=8&l=cz'"
      ]
     },
     "metadata": {},
     "output_type": "display_data"
    },
    {
     "data": {
      "text/plain": [
       "[<a href=\"fsnem.sqw?id=1292&amp;o=8\">Political group ANO 2011</a>]"
      ]
     },
     "metadata": {},
     "output_type": "display_data"
    },
    {
     "data": {
      "text/plain": [
       "'url:https://public.psp.cz/en/sqw/detail.sqw?id=6409&o=8&l=cz'"
      ]
     },
     "metadata": {},
     "output_type": "display_data"
    },
    {
     "data": {
      "text/plain": [
       "[<a href=\"fsnem.sqw?id=1292&amp;o=8\">Political group ANO 2011</a>]"
      ]
     },
     "metadata": {},
     "output_type": "display_data"
    },
    {
     "data": {
      "text/plain": [
       "'url:https://public.psp.cz/en/sqw/detail.sqw?id=6171&o=8&l=cz'"
      ]
     },
     "metadata": {},
     "output_type": "display_data"
    },
    {
     "data": {
      "text/plain": [
       "[<a href=\"fsnem.sqw?id=1292&amp;o=8\">Political group ANO 2011</a>]"
      ]
     },
     "metadata": {},
     "output_type": "display_data"
    },
    {
     "data": {
      "text/plain": [
       "'url:https://public.psp.cz/en/sqw/detail.sqw?id=6202&o=8&l=cz'"
      ]
     },
     "metadata": {},
     "output_type": "display_data"
    },
    {
     "data": {
      "text/plain": [
       "[<a href=\"fsnem.sqw?id=1292&amp;o=8\">Political group ANO 2011</a>]"
      ]
     },
     "metadata": {},
     "output_type": "display_data"
    },
    {
     "data": {
      "text/plain": [
       "'url:https://public.psp.cz/en/sqw/detail.sqw?id=6527&o=8&l=cz'"
      ]
     },
     "metadata": {},
     "output_type": "display_data"
    },
    {
     "data": {
      "text/plain": [
       "[<a href=\"fsnem.sqw?id=1292&amp;o=8\">Political group ANO 2011</a>]"
      ]
     },
     "metadata": {},
     "output_type": "display_data"
    },
    {
     "data": {
      "text/plain": [
       "'url:https://public.psp.cz/en/sqw/detail.sqw?id=6472&o=8&l=cz'"
      ]
     },
     "metadata": {},
     "output_type": "display_data"
    },
    {
     "data": {
      "text/plain": [
       "[<a href=\"fsnem.sqw?id=1292&amp;o=8\">Political group ANO 2011</a>]"
      ]
     },
     "metadata": {},
     "output_type": "display_data"
    },
    {
     "data": {
      "text/plain": [
       "'url:https://public.psp.cz/en/sqw/detail.sqw?id=6525&o=8&l=cz'"
      ]
     },
     "metadata": {},
     "output_type": "display_data"
    },
    {
     "data": {
      "text/plain": [
       "[<a href=\"fsnem.sqw?id=1292&amp;o=8\">Political group ANO 2011</a>,\n",
       " <a href=\"fsnem.sqw?id=1292&amp;o=8\">Political group ANO 2011</a>]"
      ]
     },
     "metadata": {},
     "output_type": "display_data"
    },
    {
     "data": {
      "text/plain": [
       "'url:https://public.psp.cz/en/sqw/detail.sqw?id=6158&o=8&l=cz'"
      ]
     },
     "metadata": {},
     "output_type": "display_data"
    },
    {
     "data": {
      "text/plain": [
       "[<a href=\"fsnem.sqw?id=1292&amp;o=8\">Political group ANO 2011</a>]"
      ]
     },
     "metadata": {},
     "output_type": "display_data"
    },
    {
     "data": {
      "text/plain": [
       "'url:https://public.psp.cz/en/sqw/detail.sqw?id=6523&o=8&l=cz'"
      ]
     },
     "metadata": {},
     "output_type": "display_data"
    },
    {
     "data": {
      "text/plain": [
       "[<a href=\"fsnem.sqw?id=1292&amp;o=8\">Political group ANO 2011</a>]"
      ]
     },
     "metadata": {},
     "output_type": "display_data"
    },
    {
     "data": {
      "text/plain": [
       "'url:https://public.psp.cz/en/sqw/detail.sqw?id=6500&o=8&l=cz'"
      ]
     },
     "metadata": {},
     "output_type": "display_data"
    },
    {
     "data": {
      "text/plain": [
       "[<a href=\"fsnem.sqw?id=1292&amp;o=8\">Political group ANO 2011</a>,\n",
       " <a href=\"fsnem.sqw?id=1292&amp;o=8\">Political group ANO 2011</a>]"
      ]
     },
     "metadata": {},
     "output_type": "display_data"
    },
    {
     "data": {
      "text/plain": [
       "'url:https://public.psp.cz/en/sqw/detail.sqw?id=6379&o=8&l=cz'"
      ]
     },
     "metadata": {},
     "output_type": "display_data"
    },
    {
     "data": {
      "text/plain": [
       "[<a href=\"fsnem.sqw?id=1292&amp;o=8\">Political group ANO 2011</a>]"
      ]
     },
     "metadata": {},
     "output_type": "display_data"
    },
    {
     "data": {
      "text/plain": [
       "'url:https://public.psp.cz/en/sqw/detail.sqw?id=6520&o=8&l=cz'"
      ]
     },
     "metadata": {},
     "output_type": "display_data"
    },
    {
     "data": {
      "text/plain": [
       "[<a href=\"fsnem.sqw?id=1292&amp;o=8\">Political group ANO 2011</a>]"
      ]
     },
     "metadata": {},
     "output_type": "display_data"
    },
    {
     "data": {
      "text/plain": [
       "'url:https://public.psp.cz/en/sqw/detail.sqw?id=6519&o=8&l=cz'"
      ]
     },
     "metadata": {},
     "output_type": "display_data"
    },
    {
     "data": {
      "text/plain": [
       "[<a href=\"fsnem.sqw?id=1292&amp;o=8\">Political group ANO 2011</a>]"
      ]
     },
     "metadata": {},
     "output_type": "display_data"
    },
    {
     "data": {
      "text/plain": [
       "'url:https://public.psp.cz/en/sqw/detail.sqw?id=6518&o=8&l=cz'"
      ]
     },
     "metadata": {},
     "output_type": "display_data"
    },
    {
     "data": {
      "text/plain": [
       "[<a href=\"fsnem.sqw?id=1292&amp;o=8\">Political group ANO 2011</a>]"
      ]
     },
     "metadata": {},
     "output_type": "display_data"
    },
    {
     "data": {
      "text/plain": [
       "'url:https://public.psp.cz/en/sqw/detail.sqw?id=6517&o=8&l=cz'"
      ]
     },
     "metadata": {},
     "output_type": "display_data"
    },
    {
     "data": {
      "text/plain": [
       "[<a href=\"fsnem.sqw?id=1292&amp;o=8\">Political group ANO 2011</a>]"
      ]
     },
     "metadata": {},
     "output_type": "display_data"
    },
    {
     "data": {
      "text/plain": [
       "'url:https://public.psp.cz/en/sqw/detail.sqw?id=6501&o=8&l=cz'"
      ]
     },
     "metadata": {},
     "output_type": "display_data"
    },
    {
     "data": {
      "text/plain": [
       "[<a href=\"fsnem.sqw?id=1292&amp;o=8\">Political group ANO 2011</a>]"
      ]
     },
     "metadata": {},
     "output_type": "display_data"
    },
    {
     "data": {
      "text/plain": [
       "'url:https://public.psp.cz/en/sqw/detail.sqw?id=443&&o=8&l=cz'"
      ]
     },
     "metadata": {},
     "output_type": "display_data"
    },
    {
     "data": {
      "text/plain": [
       "[<a href=\"fsnem.sqw?id=1292&amp;o=8\">Political group ANO 2011</a>]"
      ]
     },
     "metadata": {},
     "output_type": "display_data"
    },
    {
     "data": {
      "text/plain": [
       "'url:https://public.psp.cz/en/sqw/detail.sqw?id=6515&o=8&l=cz'"
      ]
     },
     "metadata": {},
     "output_type": "display_data"
    },
    {
     "data": {
      "text/plain": [
       "[<a href=\"fsnem.sqw?id=1292&amp;o=8\">Political group ANO 2011</a>]"
      ]
     },
     "metadata": {},
     "output_type": "display_data"
    },
    {
     "data": {
      "text/plain": [
       "'url:https://public.psp.cz/en/sqw/detail.sqw?id=6287&o=8&l=cz'"
      ]
     },
     "metadata": {},
     "output_type": "display_data"
    },
    {
     "data": {
      "text/plain": [
       "[<a href=\"fsnem.sqw?id=1292&amp;o=8\">Political group ANO 2011</a>]"
      ]
     },
     "metadata": {},
     "output_type": "display_data"
    },
    {
     "data": {
      "text/plain": [
       "'url:https://public.psp.cz/en/sqw/detail.sqw?id=6505&o=8&l=cz'"
      ]
     },
     "metadata": {},
     "output_type": "display_data"
    },
    {
     "data": {
      "text/plain": [
       "[<a href=\"fsnem.sqw?id=1292&amp;o=8\">Political group ANO 2011</a>]"
      ]
     },
     "metadata": {},
     "output_type": "display_data"
    },
    {
     "data": {
      "text/plain": [
       "'url:https://public.psp.cz/en/sqw/detail.sqw?id=6484&o=8&l=cz'"
      ]
     },
     "metadata": {},
     "output_type": "display_data"
    },
    {
     "data": {
      "text/plain": [
       "[<a href=\"fsnem.sqw?id=1292&amp;o=8\">Political group ANO 2011</a>]"
      ]
     },
     "metadata": {},
     "output_type": "display_data"
    },
    {
     "data": {
      "text/plain": [
       "'url:https://public.psp.cz/en/sqw/detail.sqw?id=6291&o=8&l=cz'"
      ]
     },
     "metadata": {},
     "output_type": "display_data"
    },
    {
     "data": {
      "text/plain": [
       "[<a href=\"fsnem.sqw?id=1292&amp;o=8\">Political group ANO 2011</a>]"
      ]
     },
     "metadata": {},
     "output_type": "display_data"
    },
    {
     "data": {
      "text/plain": [
       "'url:https://public.psp.cz/en/sqw/detail.sqw?id=6240&o=8&l=cz'"
      ]
     },
     "metadata": {},
     "output_type": "display_data"
    },
    {
     "data": {
      "text/plain": [
       "[<a href=\"fsnem.sqw?id=1292&amp;o=8\">Political group ANO 2011</a>]"
      ]
     },
     "metadata": {},
     "output_type": "display_data"
    },
    {
     "data": {
      "text/plain": [
       "'url:https://public.psp.cz/en/sqw/detail.sqw?id=6168&o=8&l=cz'"
      ]
     },
     "metadata": {},
     "output_type": "display_data"
    },
    {
     "data": {
      "text/plain": [
       "[<a href=\"fsnem.sqw?id=1292&amp;o=8\">Political group ANO 2011</a>]"
      ]
     },
     "metadata": {},
     "output_type": "display_data"
    },
    {
     "data": {
      "text/plain": [
       "'url:https://public.psp.cz/en/sqw/detail.sqw?id=6491&o=8&l=cz'"
      ]
     },
     "metadata": {},
     "output_type": "display_data"
    },
    {
     "data": {
      "text/plain": [
       "[<a href=\"fsnem.sqw?id=1292&amp;o=8\">Political group ANO 2011</a>]"
      ]
     },
     "metadata": {},
     "output_type": "display_data"
    },
    {
     "data": {
      "text/plain": [
       "'url:https://public.psp.cz/en/sqw/detail.sqw?id=6166&o=8&l=cz'"
      ]
     },
     "metadata": {},
     "output_type": "display_data"
    },
    {
     "data": {
      "text/plain": [
       "[<a href=\"fsnem.sqw?id=1292&amp;o=8\">Political group ANO 2011</a>,\n",
       " <a href=\"fsnem.sqw?id=1292&amp;o=8\">Political group ANO 2011</a>]"
      ]
     },
     "metadata": {},
     "output_type": "display_data"
    },
    {
     "data": {
      "text/plain": [
       "'url:https://public.psp.cz/en/sqw/detail.sqw?id=6492&o=8&l=cz'"
      ]
     },
     "metadata": {},
     "output_type": "display_data"
    },
    {
     "data": {
      "text/plain": [
       "[<a href=\"fsnem.sqw?id=1292&amp;o=8\">Political group ANO 2011</a>]"
      ]
     },
     "metadata": {},
     "output_type": "display_data"
    },
    {
     "data": {
      "text/plain": [
       "'url:https://public.psp.cz/en/sqw/detail.sqw?id=6490&o=8&l=cz'"
      ]
     },
     "metadata": {},
     "output_type": "display_data"
    },
    {
     "data": {
      "text/plain": [
       "[<a href=\"fsnem.sqw?id=1292&amp;o=8\">Political group ANO 2011</a>]"
      ]
     },
     "metadata": {},
     "output_type": "display_data"
    },
    {
     "data": {
      "text/plain": [
       "'url:https://public.psp.cz/en/sqw/detail.sqw?id=6161&o=8&l=cz'"
      ]
     },
     "metadata": {},
     "output_type": "display_data"
    },
    {
     "data": {
      "text/plain": [
       "[<a href=\"fsnem.sqw?id=1292&amp;o=8\">Political group ANO 2011</a>]"
      ]
     },
     "metadata": {},
     "output_type": "display_data"
    },
    {
     "data": {
      "text/plain": [
       "'url:https://public.psp.cz/en/sqw/detail.sqw?id=6480&o=8&l=cz'"
      ]
     },
     "metadata": {},
     "output_type": "display_data"
    },
    {
     "data": {
      "text/plain": [
       "[<a href=\"fsnem.sqw?id=1292&amp;o=8\">Political group ANO 2011</a>]"
      ]
     },
     "metadata": {},
     "output_type": "display_data"
    },
    {
     "data": {
      "text/plain": [
       "'url:https://public.psp.cz/en/sqw/detail.sqw?id=5700&o=8&l=cz'"
      ]
     },
     "metadata": {},
     "output_type": "display_data"
    },
    {
     "data": {
      "text/plain": [
       "[<a href=\"fsnem.sqw?id=1295&amp;o=8\">Political group Civic Democratic Party</a>,\n",
       " <a href=\"fsnem.sqw?id=1295&amp;o=8\">Political group Civic Democratic Party</a>]"
      ]
     },
     "metadata": {},
     "output_type": "display_data"
    },
    {
     "data": {
      "text/plain": [
       "'url:https://public.psp.cz/en/sqw/detail.sqw?id=5379&o=8&l=cz'"
      ]
     },
     "metadata": {},
     "output_type": "display_data"
    },
    {
     "data": {
      "text/plain": [
       "[<a href=\"fsnem.sqw?id=1295&amp;o=8\">Political group Civic Democratic Party</a>,\n",
       " <a href=\"fsnem.sqw?id=1295&amp;o=8\">Political group Civic Democratic Party</a>]"
      ]
     },
     "metadata": {},
     "output_type": "display_data"
    },
    {
     "data": {
      "text/plain": [
       "'url:https://public.psp.cz/en/sqw/detail.sqw?id=6435&o=8&l=cz'"
      ]
     },
     "metadata": {},
     "output_type": "display_data"
    },
    {
     "data": {
      "text/plain": [
       "[<a href=\"fsnem.sqw?id=1295&amp;o=8\">Political group Civic Democratic Party</a>]"
      ]
     },
     "metadata": {},
     "output_type": "display_data"
    },
    {
     "data": {
      "text/plain": [
       "'url:https://public.psp.cz/en/sqw/detail.sqw?id=6436&o=8&l=cz'"
      ]
     },
     "metadata": {},
     "output_type": "display_data"
    },
    {
     "data": {
      "text/plain": [
       "[<a href=\"fsnem.sqw?id=1295&amp;o=8\">Political group Civic Democratic Party</a>]"
      ]
     },
     "metadata": {},
     "output_type": "display_data"
    },
    {
     "data": {
      "text/plain": [
       "'url:https://public.psp.cz/en/sqw/detail.sqw?id=4&o=&o=8&l=cz'"
      ]
     },
     "metadata": {},
     "output_type": "display_data"
    },
    {
     "data": {
      "text/plain": [
       "[<a href=\"fsnem.sqw?id=1295&amp;o=8\">Political group Civic Democratic Party</a>,\n",
       " <a href=\"fsnem.sqw?id=1295&amp;o=8\">Political group Civic Democratic Party</a>]"
      ]
     },
     "metadata": {},
     "output_type": "display_data"
    },
    {
     "data": {
      "text/plain": [
       "'url:https://public.psp.cz/en/sqw/detail.sqw?id=6438&o=8&l=cz'"
      ]
     },
     "metadata": {},
     "output_type": "display_data"
    },
    {
     "data": {
      "text/plain": [
       "[<a href=\"fsnem.sqw?id=1295&amp;o=8\">Political group Civic Democratic Party</a>]"
      ]
     },
     "metadata": {},
     "output_type": "display_data"
    },
    {
     "data": {
      "text/plain": [
       "'url:https://public.psp.cz/en/sqw/detail.sqw?id=6079&o=8&l=cz'"
      ]
     },
     "metadata": {},
     "output_type": "display_data"
    },
    {
     "data": {
      "text/plain": [
       "[<a href=\"fsnem.sqw?id=1295&amp;o=8\">Political group Civic Democratic Party</a>]"
      ]
     },
     "metadata": {},
     "output_type": "display_data"
    },
    {
     "data": {
      "text/plain": [
       "'url:https://public.psp.cz/en/sqw/detail.sqw?id=5903&o=8&l=cz'"
      ]
     },
     "metadata": {},
     "output_type": "display_data"
    },
    {
     "data": {
      "text/plain": [
       "[<a href=\"fsnem.sqw?id=1295&amp;o=8\">Political group Civic Democratic Party</a>,\n",
       " <a href=\"fsnem.sqw?id=1295&amp;o=8\">Political group Civic Democratic Party</a>]"
      ]
     },
     "metadata": {},
     "output_type": "display_data"
    },
    {
     "data": {
      "text/plain": [
       "'url:https://public.psp.cz/en/sqw/detail.sqw?id=6074&o=8&l=cz'"
      ]
     },
     "metadata": {},
     "output_type": "display_data"
    },
    {
     "data": {
      "text/plain": [
       "[<a href=\"fsnem.sqw?id=1295&amp;o=8\">Political group Civic Democratic Party</a>]"
      ]
     },
     "metadata": {},
     "output_type": "display_data"
    },
    {
     "data": {
      "text/plain": [
       "'url:https://public.psp.cz/en/sqw/detail.sqw?id=6459&o=8&l=cz'"
      ]
     },
     "metadata": {},
     "output_type": "display_data"
    },
    {
     "data": {
      "text/plain": [
       "[<a href=\"fsnem.sqw?id=1295&amp;o=8\">Political group Civic Democratic Party</a>]"
      ]
     },
     "metadata": {},
     "output_type": "display_data"
    },
    {
     "data": {
      "text/plain": [
       "'url:https://public.psp.cz/en/sqw/detail.sqw?id=6498&o=8&l=cz'"
      ]
     },
     "metadata": {},
     "output_type": "display_data"
    },
    {
     "data": {
      "text/plain": [
       "[<a href=\"fsnem.sqw?id=1295&amp;o=8\">Political group Civic Democratic Party</a>]"
      ]
     },
     "metadata": {},
     "output_type": "display_data"
    },
    {
     "data": {
      "text/plain": [
       "'url:https://public.psp.cz/en/sqw/detail.sqw?id=6510&o=8&l=cz'"
      ]
     },
     "metadata": {},
     "output_type": "display_data"
    },
    {
     "data": {
      "text/plain": [
       "[<a href=\"fsnem.sqw?id=1295&amp;o=8\">Political group Civic Democratic Party</a>]"
      ]
     },
     "metadata": {},
     "output_type": "display_data"
    },
    {
     "data": {
      "text/plain": [
       "'url:https://public.psp.cz/en/sqw/detail.sqw?id=6538&o=8&l=cz'"
      ]
     },
     "metadata": {},
     "output_type": "display_data"
    },
    {
     "data": {
      "text/plain": [
       "[<a href=\"fsnem.sqw?id=1295&amp;o=8\">Political group Civic Democratic Party</a>]"
      ]
     },
     "metadata": {},
     "output_type": "display_data"
    },
    {
     "data": {
      "text/plain": [
       "'url:https://public.psp.cz/en/sqw/detail.sqw?id=6467&o=8&l=cz'"
      ]
     },
     "metadata": {},
     "output_type": "display_data"
    },
    {
     "data": {
      "text/plain": [
       "[<a href=\"fsnem.sqw?id=1295&amp;o=8\">Political group Civic Democratic Party</a>]"
      ]
     },
     "metadata": {},
     "output_type": "display_data"
    },
    {
     "data": {
      "text/plain": [
       "'url:https://public.psp.cz/en/sqw/detail.sqw?id=5945&o=8&l=cz'"
      ]
     },
     "metadata": {},
     "output_type": "display_data"
    },
    {
     "data": {
      "text/plain": [
       "[<a href=\"fsnem.sqw?id=1295&amp;o=8\">Political group Civic Democratic Party</a>]"
      ]
     },
     "metadata": {},
     "output_type": "display_data"
    },
    {
     "data": {
      "text/plain": [
       "'url:https://public.psp.cz/en/sqw/detail.sqw?id=6470&o=8&l=cz'"
      ]
     },
     "metadata": {},
     "output_type": "display_data"
    },
    {
     "data": {
      "text/plain": [
       "[<a href=\"fsnem.sqw?id=1295&amp;o=8\">Political group Civic Democratic Party</a>]"
      ]
     },
     "metadata": {},
     "output_type": "display_data"
    },
    {
     "data": {
      "text/plain": [
       "'url:https://public.psp.cz/en/sqw/detail.sqw?id=6486&o=8&l=cz'"
      ]
     },
     "metadata": {},
     "output_type": "display_data"
    },
    {
     "data": {
      "text/plain": [
       "[<a href=\"fsnem.sqw?id=1295&amp;o=8\">Political group Civic Democratic Party</a>]"
      ]
     },
     "metadata": {},
     "output_type": "display_data"
    },
    {
     "data": {
      "text/plain": [
       "'url:https://public.psp.cz/en/sqw/detail.sqw?id=401&&o=8&l=cz'"
      ]
     },
     "metadata": {},
     "output_type": "display_data"
    },
    {
     "data": {
      "text/plain": [
       "[<a href=\"fsnem.sqw?id=1295&amp;o=8\">Political group Civic Democratic Party</a>]"
      ]
     },
     "metadata": {},
     "output_type": "display_data"
    },
    {
     "data": {
      "text/plain": [
       "'url:https://public.psp.cz/en/sqw/detail.sqw?id=6418&o=8&l=cz'"
      ]
     },
     "metadata": {},
     "output_type": "display_data"
    },
    {
     "data": {
      "text/plain": [
       "[<a href=\"fsnem.sqw?id=1295&amp;o=8\">Political group Civic Democratic Party</a>,\n",
       " <a href=\"fsnem.sqw?id=1295&amp;o=8\">Political group Civic Democratic Party</a>]"
      ]
     },
     "metadata": {},
     "output_type": "display_data"
    },
    {
     "data": {
      "text/plain": [
       "'url:https://public.psp.cz/en/sqw/detail.sqw?id=5969&o=8&l=cz'"
      ]
     },
     "metadata": {},
     "output_type": "display_data"
    },
    {
     "data": {
      "text/plain": [
       "[<a href=\"fsnem.sqw?id=1295&amp;o=8\">Political group Civic Democratic Party</a>,\n",
       " <a href=\"fsnem.sqw?id=1295&amp;o=8\">Political group Civic Democratic Party</a>]"
      ]
     },
     "metadata": {},
     "output_type": "display_data"
    },
    {
     "data": {
      "text/plain": [
       "'url:https://public.psp.cz/en/sqw/detail.sqw?id=6007&o=8&l=cz'"
      ]
     },
     "metadata": {},
     "output_type": "display_data"
    },
    {
     "data": {
      "text/plain": [
       "[<a href=\"fsnem.sqw?id=1295&amp;o=8\">Political group Civic Democratic Party</a>]"
      ]
     },
     "metadata": {},
     "output_type": "display_data"
    },
    {
     "data": {
      "text/plain": [
       "'url:https://public.psp.cz/en/sqw/detail.sqw?id=6493&o=8&l=cz'"
      ]
     },
     "metadata": {},
     "output_type": "display_data"
    },
    {
     "data": {
      "text/plain": [
       "[<a href=\"fsnem.sqw?id=1295&amp;o=8\">Political group Civic Democratic Party</a>]"
      ]
     },
     "metadata": {},
     "output_type": "display_data"
    },
    {
     "data": {
      "text/plain": [
       "'url:https://public.psp.cz/en/sqw/detail.sqw?id=6052&o=8&l=cz'"
      ]
     },
     "metadata": {},
     "output_type": "display_data"
    },
    {
     "data": {
      "text/plain": [
       "[<a href=\"fsnem.sqw?id=1295&amp;o=8\">Political group Civic Democratic Party</a>]"
      ]
     },
     "metadata": {},
     "output_type": "display_data"
    },
    {
     "data": {
      "text/plain": [
       "'url:https://public.psp.cz/en/sqw/detail.sqw?id=5844&o=8&l=cz'"
      ]
     },
     "metadata": {},
     "output_type": "display_data"
    },
    {
     "data": {
      "text/plain": [
       "[<a href=\"fsnem.sqw?id=1295&amp;o=8\">Political group Civic Democratic Party</a>]"
      ]
     },
     "metadata": {},
     "output_type": "display_data"
    },
    {
     "data": {
      "text/plain": [
       "'url:https://public.psp.cz/en/sqw/detail.sqw?id=5226&o=8&l=cz'"
      ]
     },
     "metadata": {},
     "output_type": "display_data"
    },
    {
     "data": {
      "text/plain": [
       "[<a href=\"fsnem.sqw?id=1295&amp;o=8\">Political group Civic Democratic Party</a>]"
      ]
     },
     "metadata": {},
     "output_type": "display_data"
    },
    {
     "data": {
      "text/plain": [
       "'url:https://public.psp.cz/en/sqw/detail.sqw?id=6429&o=8&l=cz'"
      ]
     },
     "metadata": {},
     "output_type": "display_data"
    },
    {
     "data": {
      "text/plain": [
       "[<a href=\"fsnem.sqw?id=1300&amp;o=8\">Political group Czech Pirate Party</a>,\n",
       " <a href=\"fsnem.sqw?id=1300&amp;o=8\">Political group Czech Pirate Party</a>]"
      ]
     },
     "metadata": {},
     "output_type": "display_data"
    },
    {
     "data": {
      "text/plain": [
       "'url:https://public.psp.cz/en/sqw/detail.sqw?id=6432&o=8&l=cz'"
      ]
     },
     "metadata": {},
     "output_type": "display_data"
    },
    {
     "data": {
      "text/plain": [
       "[<a href=\"fsnem.sqw?id=1300&amp;o=8\">Political group Czech Pirate Party</a>]"
      ]
     },
     "metadata": {},
     "output_type": "display_data"
    },
    {
     "data": {
      "text/plain": [
       "'url:https://public.psp.cz/en/sqw/detail.sqw?id=6433&o=8&l=cz'"
      ]
     },
     "metadata": {},
     "output_type": "display_data"
    },
    {
     "data": {
      "text/plain": [
       "[<a href=\"fsnem.sqw?id=1300&amp;o=8\">Political group Czech Pirate Party</a>]"
      ]
     },
     "metadata": {},
     "output_type": "display_data"
    },
    {
     "data": {
      "text/plain": [
       "'url:https://public.psp.cz/en/sqw/detail.sqw?id=6442&o=8&l=cz'"
      ]
     },
     "metadata": {},
     "output_type": "display_data"
    },
    {
     "data": {
      "text/plain": [
       "[<a href=\"fsnem.sqw?id=1300&amp;o=8\">Political group Czech Pirate Party</a>,\n",
       " <a href=\"fsnem.sqw?id=1300&amp;o=8\">Political group Czech Pirate Party</a>]"
      ]
     },
     "metadata": {},
     "output_type": "display_data"
    },
    {
     "data": {
      "text/plain": [
       "'url:https://public.psp.cz/en/sqw/detail.sqw?id=6446&o=8&l=cz'"
      ]
     },
     "metadata": {},
     "output_type": "display_data"
    },
    {
     "data": {
      "text/plain": [
       "[<a href=\"fsnem.sqw?id=1300&amp;o=8\">Political group Czech Pirate Party</a>]"
      ]
     },
     "metadata": {},
     "output_type": "display_data"
    },
    {
     "data": {
      "text/plain": [
       "'url:https://public.psp.cz/en/sqw/detail.sqw?id=6450&o=8&l=cz'"
      ]
     },
     "metadata": {},
     "output_type": "display_data"
    },
    {
     "data": {
      "text/plain": [
       "[<a href=\"fsnem.sqw?id=1300&amp;o=8\">Political group Czech Pirate Party</a>]"
      ]
     },
     "metadata": {},
     "output_type": "display_data"
    },
    {
     "data": {
      "text/plain": [
       "'url:https://public.psp.cz/en/sqw/detail.sqw?id=6454&o=8&l=cz'"
      ]
     },
     "metadata": {},
     "output_type": "display_data"
    },
    {
     "data": {
      "text/plain": [
       "[<a href=\"fsnem.sqw?id=1300&amp;o=8\">Political group Czech Pirate Party</a>]"
      ]
     },
     "metadata": {},
     "output_type": "display_data"
    },
    {
     "data": {
      "text/plain": [
       "'url:https://public.psp.cz/en/sqw/detail.sqw?id=6462&o=8&l=cz'"
      ]
     },
     "metadata": {},
     "output_type": "display_data"
    },
    {
     "data": {
      "text/plain": [
       "[<a href=\"fsnem.sqw?id=1300&amp;o=8\">Political group Czech Pirate Party</a>,\n",
       " <a href=\"fsnem.sqw?id=1300&amp;o=8\">Political group Czech Pirate Party</a>]"
      ]
     },
     "metadata": {},
     "output_type": "display_data"
    },
    {
     "data": {
      "text/plain": [
       "'url:https://public.psp.cz/en/sqw/detail.sqw?id=6507&o=8&l=cz'"
      ]
     },
     "metadata": {},
     "output_type": "display_data"
    },
    {
     "data": {
      "text/plain": [
       "[<a href=\"fsnem.sqw?id=1300&amp;o=8\">Political group Czech Pirate Party</a>,\n",
       " <a href=\"fsnem.sqw?id=1300&amp;o=8\">Political group Czech Pirate Party</a>,\n",
       " <a href=\"fsnem.sqw?id=1300&amp;o=8\">Political group Czech Pirate Party</a>]"
      ]
     },
     "metadata": {},
     "output_type": "display_data"
    },
    {
     "data": {
      "text/plain": [
       "'url:https://public.psp.cz/en/sqw/detail.sqw?id=6499&o=8&l=cz'"
      ]
     },
     "metadata": {},
     "output_type": "display_data"
    },
    {
     "data": {
      "text/plain": [
       "[<a href=\"fsnem.sqw?id=1300&amp;o=8\">Political group Czech Pirate Party</a>]"
      ]
     },
     "metadata": {},
     "output_type": "display_data"
    },
    {
     "data": {
      "text/plain": [
       "'url:https://public.psp.cz/en/sqw/detail.sqw?id=6465&o=8&l=cz'"
      ]
     },
     "metadata": {},
     "output_type": "display_data"
    },
    {
     "data": {
      "text/plain": [
       "[<a href=\"fsnem.sqw?id=1300&amp;o=8\">Political group Czech Pirate Party</a>]"
      ]
     },
     "metadata": {},
     "output_type": "display_data"
    },
    {
     "data": {
      "text/plain": [
       "'url:https://public.psp.cz/en/sqw/detail.sqw?id=6537&o=8&l=cz'"
      ]
     },
     "metadata": {},
     "output_type": "display_data"
    },
    {
     "data": {
      "text/plain": [
       "[<a href=\"fsnem.sqw?id=1300&amp;o=8\">Political group Czech Pirate Party</a>,\n",
       " <a href=\"fsnem.sqw?id=1300&amp;o=8\">Political group Czech Pirate Party</a>,\n",
       " <a href=\"fsnem.sqw?id=1300&amp;o=8\">Political group Czech Pirate Party</a>,\n",
       " <a href=\"fsnem.sqw?id=1300&amp;o=8\">Political group Czech Pirate Party</a>]"
      ]
     },
     "metadata": {},
     "output_type": "display_data"
    },
    {
     "data": {
      "text/plain": [
       "'url:https://public.psp.cz/en/sqw/detail.sqw?id=6535&o=8&l=cz'"
      ]
     },
     "metadata": {},
     "output_type": "display_data"
    },
    {
     "data": {
      "text/plain": [
       "[<a href=\"fsnem.sqw?id=1300&amp;o=8\">Political group Czech Pirate Party</a>]"
      ]
     },
     "metadata": {},
     "output_type": "display_data"
    },
    {
     "data": {
      "text/plain": [
       "'url:https://public.psp.cz/en/sqw/detail.sqw?id=6477&o=8&l=cz'"
      ]
     },
     "metadata": {},
     "output_type": "display_data"
    },
    {
     "data": {
      "text/plain": [
       "[<a href=\"fsnem.sqw?id=1300&amp;o=8\">Political group Czech Pirate Party</a>,\n",
       " <a href=\"fsnem.sqw?id=1300&amp;o=8\">Political group Czech Pirate Party</a>]"
      ]
     },
     "metadata": {},
     "output_type": "display_data"
    },
    {
     "data": {
      "text/plain": [
       "'url:https://public.psp.cz/en/sqw/detail.sqw?id=6488&o=8&l=cz'"
      ]
     },
     "metadata": {},
     "output_type": "display_data"
    },
    {
     "data": {
      "text/plain": [
       "[<a href=\"fsnem.sqw?id=1300&amp;o=8\">Political group Czech Pirate Party</a>,\n",
       " <a href=\"fsnem.sqw?id=1300&amp;o=8\">Political group Czech Pirate Party</a>]"
      ]
     },
     "metadata": {},
     "output_type": "display_data"
    },
    {
     "data": {
      "text/plain": [
       "'url:https://public.psp.cz/en/sqw/detail.sqw?id=6531&o=8&l=cz'"
      ]
     },
     "metadata": {},
     "output_type": "display_data"
    },
    {
     "data": {
      "text/plain": [
       "[<a href=\"fsnem.sqw?id=1300&amp;o=8\">Political group Czech Pirate Party</a>,\n",
       " <a href=\"fsnem.sqw?id=1300&amp;o=8\">Political group Czech Pirate Party</a>]"
      ]
     },
     "metadata": {},
     "output_type": "display_data"
    },
    {
     "data": {
      "text/plain": [
       "'url:https://public.psp.cz/en/sqw/detail.sqw?id=6529&o=8&l=cz'"
      ]
     },
     "metadata": {},
     "output_type": "display_data"
    },
    {
     "data": {
      "text/plain": [
       "[<a href=\"fsnem.sqw?id=1300&amp;o=8\">Political group Czech Pirate Party</a>]"
      ]
     },
     "metadata": {},
     "output_type": "display_data"
    },
    {
     "data": {
      "text/plain": [
       "'url:https://public.psp.cz/en/sqw/detail.sqw?id=6528&o=8&l=cz'"
      ]
     },
     "metadata": {},
     "output_type": "display_data"
    },
    {
     "data": {
      "text/plain": [
       "[<a href=\"fsnem.sqw?id=1300&amp;o=8\">Political group Czech Pirate Party</a>]"
      ]
     },
     "metadata": {},
     "output_type": "display_data"
    },
    {
     "data": {
      "text/plain": [
       "'url:https://public.psp.cz/en/sqw/detail.sqw?id=6526&o=8&l=cz'"
      ]
     },
     "metadata": {},
     "output_type": "display_data"
    },
    {
     "data": {
      "text/plain": [
       "[<a href=\"fsnem.sqw?id=1300&amp;o=8\">Political group Czech Pirate Party</a>]"
      ]
     },
     "metadata": {},
     "output_type": "display_data"
    },
    {
     "data": {
      "text/plain": [
       "'url:https://public.psp.cz/en/sqw/detail.sqw?id=6473&o=8&l=cz'"
      ]
     },
     "metadata": {},
     "output_type": "display_data"
    },
    {
     "data": {
      "text/plain": [
       "[<a href=\"fsnem.sqw?id=1300&amp;o=8\">Political group Czech Pirate Party</a>]"
      ]
     },
     "metadata": {},
     "output_type": "display_data"
    },
    {
     "data": {
      "text/plain": [
       "'url:https://public.psp.cz/en/sqw/detail.sqw?id=6483&o=8&l=cz'"
      ]
     },
     "metadata": {},
     "output_type": "display_data"
    },
    {
     "data": {
      "text/plain": [
       "[<a href=\"fsnem.sqw?id=1300&amp;o=8\">Political group Czech Pirate Party</a>]"
      ]
     },
     "metadata": {},
     "output_type": "display_data"
    },
    {
     "data": {
      "text/plain": [
       "'url:https://public.psp.cz/en/sqw/detail.sqw?id=6489&o=8&l=cz'"
      ]
     },
     "metadata": {},
     "output_type": "display_data"
    },
    {
     "data": {
      "text/plain": [
       "[<a href=\"fsnem.sqw?id=1300&amp;o=8\">Political group Czech Pirate Party</a>]"
      ]
     },
     "metadata": {},
     "output_type": "display_data"
    },
    {
     "data": {
      "text/plain": [
       "'url:https://public.psp.cz/en/sqw/detail.sqw?id=6440&o=8&l=cz'"
      ]
     },
     "metadata": {},
     "output_type": "display_data"
    },
    {
     "data": {
      "text/plain": [
       "[<a href=\"fsnem.sqw?id=1298&amp;o=8\">Political group Freedom and Direct Democracy</a>]"
      ]
     },
     "metadata": {},
     "output_type": "display_data"
    },
    {
     "data": {
      "text/plain": [
       "'url:https://public.psp.cz/en/sqw/detail.sqw?id=6445&o=8&l=cz'"
      ]
     },
     "metadata": {},
     "output_type": "display_data"
    },
    {
     "data": {
      "text/plain": [
       "[<a href=\"fsnem.sqw?id=1298&amp;o=8\">Political group Freedom and Direct Democracy</a>]"
      ]
     },
     "metadata": {},
     "output_type": "display_data"
    },
    {
     "data": {
      "text/plain": [
       "'url:https://public.psp.cz/en/sqw/detail.sqw?id=5459&o=8&l=cz'"
      ]
     },
     "metadata": {},
     "output_type": "display_data"
    },
    {
     "data": {
      "text/plain": [
       "[<a href=\"fsnem.sqw?id=1298&amp;o=8\">Political group Freedom and Direct Democracy</a>,\n",
       " <a href=\"fsnem.sqw?id=1298&amp;o=8\">Political group Freedom and Direct Democracy</a>]"
      ]
     },
     "metadata": {},
     "output_type": "display_data"
    },
    {
     "data": {
      "text/plain": [
       "'url:https://public.psp.cz/en/sqw/detail.sqw?id=6198&o=8&l=cz'"
      ]
     },
     "metadata": {},
     "output_type": "display_data"
    },
    {
     "data": {
      "text/plain": [
       "[<a href=\"fsnem.sqw?id=1298&amp;o=8\">Political group Freedom and Direct Democracy</a>]"
      ]
     },
     "metadata": {},
     "output_type": "display_data"
    },
    {
     "data": {
      "text/plain": [
       "'url:https://public.psp.cz/en/sqw/detail.sqw?id=6455&o=8&l=cz'"
      ]
     },
     "metadata": {},
     "output_type": "display_data"
    },
    {
     "data": {
      "text/plain": [
       "[<a href=\"fsnem.sqw?id=1298&amp;o=8\">Political group Freedom and Direct Democracy</a>]"
      ]
     },
     "metadata": {},
     "output_type": "display_data"
    },
    {
     "data": {
      "text/plain": [
       "'url:https://public.psp.cz/en/sqw/detail.sqw?id=6456&o=8&l=cz'"
      ]
     },
     "metadata": {},
     "output_type": "display_data"
    },
    {
     "data": {
      "text/plain": [
       "[<a href=\"fsnem.sqw?id=1298&amp;o=8\">Political group Freedom and Direct Democracy</a>]"
      ]
     },
     "metadata": {},
     "output_type": "display_data"
    },
    {
     "data": {
      "text/plain": [
       "'url:https://public.psp.cz/en/sqw/detail.sqw?id=6460&o=8&l=cz'"
      ]
     },
     "metadata": {},
     "output_type": "display_data"
    },
    {
     "data": {
      "text/plain": [
       "[<a href=\"fsnem.sqw?id=1298&amp;o=8\">Political group Freedom and Direct Democracy</a>]"
      ]
     },
     "metadata": {},
     "output_type": "display_data"
    },
    {
     "data": {
      "text/plain": [
       "'url:https://public.psp.cz/en/sqw/detail.sqw?id=6461&o=8&l=cz'"
      ]
     },
     "metadata": {},
     "output_type": "display_data"
    },
    {
     "data": {
      "text/plain": [
       "[<a href=\"fsnem.sqw?id=1298&amp;o=8\">Political group Freedom and Direct Democracy</a>]"
      ]
     },
     "metadata": {},
     "output_type": "display_data"
    },
    {
     "data": {
      "text/plain": [
       "'url:https://public.psp.cz/en/sqw/detail.sqw?id=6503&o=8&l=cz'"
      ]
     },
     "metadata": {},
     "output_type": "display_data"
    },
    {
     "data": {
      "text/plain": [
       "[<a href=\"fsnem.sqw?id=1298&amp;o=8\">Political group Freedom and Direct Democracy</a>]"
      ]
     },
     "metadata": {},
     "output_type": "display_data"
    },
    {
     "data": {
      "text/plain": [
       "'url:https://public.psp.cz/en/sqw/detail.sqw?id=6504&o=8&l=cz'"
      ]
     },
     "metadata": {},
     "output_type": "display_data"
    },
    {
     "data": {
      "text/plain": [
       "[<a href=\"fsnem.sqw?id=1298&amp;o=8\">Political group Freedom and Direct Democracy</a>]"
      ]
     },
     "metadata": {},
     "output_type": "display_data"
    },
    {
     "data": {
      "text/plain": [
       "'url:https://public.psp.cz/en/sqw/detail.sqw?id=6508&o=8&l=cz'"
      ]
     },
     "metadata": {},
     "output_type": "display_data"
    },
    {
     "data": {
      "text/plain": [
       "[<a href=\"fsnem.sqw?id=1298&amp;o=8\">Political group Freedom and Direct Democracy</a>]"
      ]
     },
     "metadata": {},
     "output_type": "display_data"
    },
    {
     "data": {
      "text/plain": [
       "'url:https://public.psp.cz/en/sqw/detail.sqw?id=6502&o=8&l=cz'"
      ]
     },
     "metadata": {},
     "output_type": "display_data"
    },
    {
     "data": {
      "text/plain": [
       "[<a href=\"fsnem.sqw?id=1298&amp;o=8\">Political group Freedom and Direct Democracy</a>]"
      ]
     },
     "metadata": {},
     "output_type": "display_data"
    },
    {
     "data": {
      "text/plain": [
       "'url:https://public.psp.cz/en/sqw/detail.sqw?id=6469&o=8&l=cz'"
      ]
     },
     "metadata": {},
     "output_type": "display_data"
    },
    {
     "data": {
      "text/plain": [
       "[<a href=\"fsnem.sqw?id=1298&amp;o=8\">Political group Freedom and Direct Democracy</a>]"
      ]
     },
     "metadata": {},
     "output_type": "display_data"
    },
    {
     "data": {
      "text/plain": [
       "'url:https://public.psp.cz/en/sqw/detail.sqw?id=6478&o=8&l=cz'"
      ]
     },
     "metadata": {},
     "output_type": "display_data"
    },
    {
     "data": {
      "text/plain": [
       "[<a href=\"fsnem.sqw?id=1298&amp;o=8\">Political group Freedom and Direct Democracy</a>]"
      ]
     },
     "metadata": {},
     "output_type": "display_data"
    },
    {
     "data": {
      "text/plain": [
       "'url:https://public.psp.cz/en/sqw/detail.sqw?id=6105&o=8&l=cz'"
      ]
     },
     "metadata": {},
     "output_type": "display_data"
    },
    {
     "data": {
      "text/plain": [
       "[<a href=\"fsnem.sqw?id=1298&amp;o=8\">Political group Freedom and Direct Democracy</a>]"
      ]
     },
     "metadata": {},
     "output_type": "display_data"
    },
    {
     "data": {
      "text/plain": [
       "'url:https://public.psp.cz/en/sqw/detail.sqw?id=6530&o=8&l=cz'"
      ]
     },
     "metadata": {},
     "output_type": "display_data"
    },
    {
     "data": {
      "text/plain": [
       "[<a href=\"fsnem.sqw?id=1298&amp;o=8\">Political group Freedom and Direct Democracy</a>]"
      ]
     },
     "metadata": {},
     "output_type": "display_data"
    },
    {
     "data": {
      "text/plain": [
       "'url:https://public.psp.cz/en/sqw/detail.sqw?id=6522&o=8&l=cz'"
      ]
     },
     "metadata": {},
     "output_type": "display_data"
    },
    {
     "data": {
      "text/plain": [
       "[<a href=\"fsnem.sqw?id=1298&amp;o=8\">Political group Freedom and Direct Democracy</a>]"
      ]
     },
     "metadata": {},
     "output_type": "display_data"
    },
    {
     "data": {
      "text/plain": [
       "'url:https://public.psp.cz/en/sqw/detail.sqw?id=6521&o=8&l=cz'"
      ]
     },
     "metadata": {},
     "output_type": "display_data"
    },
    {
     "data": {
      "text/plain": [
       "[<a href=\"fsnem.sqw?id=1298&amp;o=8\">Political group Freedom and Direct Democracy</a>,\n",
       " <a href=\"fsnem.sqw?id=1298&amp;o=8\">Political group Freedom and Direct Democracy</a>]"
      ]
     },
     "metadata": {},
     "output_type": "display_data"
    },
    {
     "data": {
      "text/plain": [
       "'url:https://public.psp.cz/en/sqw/detail.sqw?id=6479&o=8&l=cz'"
      ]
     },
     "metadata": {},
     "output_type": "display_data"
    },
    {
     "data": {
      "text/plain": [
       "[<a href=\"fsnem.sqw?id=1298&amp;o=8\">Political group Freedom and Direct Democracy</a>]"
      ]
     },
     "metadata": {},
     "output_type": "display_data"
    },
    {
     "data": {
      "text/plain": [
       "'url:https://public.psp.cz/en/sqw/detail.sqw?id=6514&o=8&l=cz'"
      ]
     },
     "metadata": {},
     "output_type": "display_data"
    },
    {
     "data": {
      "text/plain": [
       "[<a href=\"fsnem.sqw?id=1298&amp;o=8\">Political group Freedom and Direct Democracy</a>]"
      ]
     },
     "metadata": {},
     "output_type": "display_data"
    },
    {
     "data": {
      "text/plain": [
       "'url:https://public.psp.cz/en/sqw/detail.sqw?id=6495&o=8&l=cz'"
      ]
     },
     "metadata": {},
     "output_type": "display_data"
    },
    {
     "data": {
      "text/plain": [
       "[<a href=\"fsnem.sqw?id=1298&amp;o=8\">Political group Freedom and Direct Democracy</a>]"
      ]
     },
     "metadata": {},
     "output_type": "display_data"
    },
    {
     "data": {
      "text/plain": [
       "'url:https://public.psp.cz/en/sqw/detail.sqw?id=6481&o=8&l=cz'"
      ]
     },
     "metadata": {},
     "output_type": "display_data"
    },
    {
     "data": {
      "text/plain": [
       "[<a href=\"fsnem.sqw?id=1298&amp;o=8\">Political group Freedom and Direct Democracy</a>]"
      ]
     },
     "metadata": {},
     "output_type": "display_data"
    },
    {
     "data": {
      "text/plain": [
       "'url:https://public.psp.cz/en/sqw/detail.sqw?id=6002&o=8&l=cz'"
      ]
     },
     "metadata": {},
     "output_type": "display_data"
    },
    {
     "data": {
      "text/plain": [
       "[<a href=\"fsnem.sqw?id=1294&amp;o=8\">Political group Czech Social Democratic Party</a>]"
      ]
     },
     "metadata": {},
     "output_type": "display_data"
    },
    {
     "data": {
      "text/plain": [
       "'url:https://public.psp.cz/en/sqw/detail.sqw?id=6182&o=8&l=cz'"
      ]
     },
     "metadata": {},
     "output_type": "display_data"
    },
    {
     "data": {
      "text/plain": [
       "[<a href=\"fsnem.sqw?id=1294&amp;o=8\">Political group Czech Social Democratic Party</a>,\n",
       " <a href=\"fsnem.sqw?id=1294&amp;o=8\">Political group Czech Social Democratic Party</a>]"
      ]
     },
     "metadata": {},
     "output_type": "display_data"
    },
    {
     "data": {
      "text/plain": [
       "'url:https://public.psp.cz/en/sqw/detail.sqw?id=6444&o=8&l=cz'"
      ]
     },
     "metadata": {},
     "output_type": "display_data"
    },
    {
     "data": {
      "text/plain": [
       "[<a href=\"fsnem.sqw?id=1294&amp;o=8\">Political group Czech Social Democratic Party</a>]"
      ]
     },
     "metadata": {},
     "output_type": "display_data"
    },
    {
     "data": {
      "text/plain": [
       "'url:https://public.psp.cz/en/sqw/detail.sqw?id=5911&o=8&l=cz'"
      ]
     },
     "metadata": {},
     "output_type": "display_data"
    },
    {
     "data": {
      "text/plain": [
       "[<a href=\"fsnem.sqw?id=1294&amp;o=8\">Political group Czech Social Democratic Party</a>,\n",
       " <a href=\"fsnem.sqw?id=1298&amp;o=8\">Political group Freedom and Direct Democracy</a>]"
      ]
     },
     "metadata": {},
     "output_type": "display_data"
    },
    {
     "data": {
      "text/plain": [
       "'url:https://public.psp.cz/en/sqw/detail.sqw?id=5703&o=8&l=cz'"
      ]
     },
     "metadata": {},
     "output_type": "display_data"
    },
    {
     "data": {
      "text/plain": [
       "[<a href=\"fsnem.sqw?id=1294&amp;o=8\">Political group Czech Social Democratic Party</a>]"
      ]
     },
     "metadata": {},
     "output_type": "display_data"
    },
    {
     "data": {
      "text/plain": [
       "'url:https://public.psp.cz/en/sqw/detail.sqw?id=5462&o=8&l=cz'"
      ]
     },
     "metadata": {},
     "output_type": "display_data"
    },
    {
     "data": {
      "text/plain": [
       "[<a href=\"fsnem.sqw?id=1294&amp;o=8\">Political group Czech Social Democratic Party</a>]"
      ]
     },
     "metadata": {},
     "output_type": "display_data"
    },
    {
     "data": {
      "text/plain": [
       "'url:https://public.psp.cz/en/sqw/detail.sqw?id=6452&o=8&l=cz'"
      ]
     },
     "metadata": {},
     "output_type": "display_data"
    },
    {
     "data": {
      "text/plain": [
       "[<a href=\"fsnem.sqw?id=1294&amp;o=8\">Political group Czech Social Democratic Party</a>]"
      ]
     },
     "metadata": {},
     "output_type": "display_data"
    },
    {
     "data": {
      "text/plain": [
       "'url:https://public.psp.cz/en/sqw/detail.sqw?id=6200&o=8&l=cz'"
      ]
     },
     "metadata": {},
     "output_type": "display_data"
    },
    {
     "data": {
      "text/plain": [
       "[<a href=\"fsnem.sqw?id=1294&amp;o=8\">Political group Czech Social Democratic Party</a>]"
      ]
     },
     "metadata": {},
     "output_type": "display_data"
    },
    {
     "data": {
      "text/plain": [
       "'url:https://public.psp.cz/en/sqw/detail.sqw?id=5926&o=8&l=cz'"
      ]
     },
     "metadata": {},
     "output_type": "display_data"
    },
    {
     "data": {
      "text/plain": [
       "[<a href=\"fsnem.sqw?id=1294&amp;o=8\">Political group Czech Social Democratic Party</a>,\n",
       " <a href=\"fsnem.sqw?id=1294&amp;o=8\">Political group Czech Social Democratic Party</a>]"
      ]
     },
     "metadata": {},
     "output_type": "display_data"
    },
    {
     "data": {
      "text/plain": [
       "'url:https://public.psp.cz/en/sqw/detail.sqw?id=6532&o=8&l=cz'"
      ]
     },
     "metadata": {},
     "output_type": "display_data"
    },
    {
     "data": {
      "text/plain": [
       "[<a href=\"fsnem.sqw?id=1294&amp;o=8\">Political group Czech Social Democratic Party</a>]"
      ]
     },
     "metadata": {},
     "output_type": "display_data"
    },
    {
     "data": {
      "text/plain": [
       "'url:https://public.psp.cz/en/sqw/detail.sqw?id=237&&o=8&l=cz'"
      ]
     },
     "metadata": {},
     "output_type": "display_data"
    },
    {
     "data": {
      "text/plain": [
       "[<a href=\"fsnem.sqw?id=1294&amp;o=8\">Political group Czech Social Democratic Party</a>]"
      ]
     },
     "metadata": {},
     "output_type": "display_data"
    },
    {
     "data": {
      "text/plain": [
       "'url:https://public.psp.cz/en/sqw/detail.sqw?id=6516&o=8&l=cz'"
      ]
     },
     "metadata": {},
     "output_type": "display_data"
    },
    {
     "data": {
      "text/plain": [
       "[<a href=\"fsnem.sqw?id=1294&amp;o=8\">Political group Czech Social Democratic Party</a>]"
      ]
     },
     "metadata": {},
     "output_type": "display_data"
    },
    {
     "data": {
      "text/plain": [
       "'url:https://public.psp.cz/en/sqw/detail.sqw?id=6337&o=8&l=cz'"
      ]
     },
     "metadata": {},
     "output_type": "display_data"
    },
    {
     "data": {
      "text/plain": [
       "[<a href=\"fsnem.sqw?id=1294&amp;o=8\">Political group Czech Social Democratic Party</a>,\n",
       " <a href=\"fsnem.sqw?id=1294&amp;o=8\">Political group Czech Social Democratic Party</a>,\n",
       " <a href=\"fsnem.sqw?id=1294&amp;o=8\">Political group Czech Social Democratic Party</a>]"
      ]
     },
     "metadata": {},
     "output_type": "display_data"
    },
    {
     "data": {
      "text/plain": [
       "'url:https://public.psp.cz/en/sqw/detail.sqw?id=6494&o=8&l=cz'"
      ]
     },
     "metadata": {},
     "output_type": "display_data"
    },
    {
     "data": {
      "text/plain": [
       "[<a href=\"fsnem.sqw?id=1294&amp;o=8\">Political group Czech Social Democratic Party</a>,\n",
       " <a href=\"fsnem.sqw?id=1294&amp;o=8\">Political group Czech Social Democratic Party</a>]"
      ]
     },
     "metadata": {},
     "output_type": "display_data"
    },
    {
     "data": {
      "text/plain": [
       "'url:https://public.psp.cz/en/sqw/detail.sqw?id=252&&o=8&l=cz'"
      ]
     },
     "metadata": {},
     "output_type": "display_data"
    },
    {
     "data": {
      "text/plain": [
       "[<a href=\"fsnem.sqw?id=1294&amp;o=8\">Political group Czech Social Democratic Party</a>]"
      ]
     },
     "metadata": {},
     "output_type": "display_data"
    },
    {
     "data": {
      "text/plain": [
       "'url:https://public.psp.cz/en/sqw/detail.sqw?id=6149&o=8&l=cz'"
      ]
     },
     "metadata": {},
     "output_type": "display_data"
    },
    {
     "data": {
      "text/plain": [
       "[<a href=\"fsnem.sqw?id=1293&amp;o=8\">Political group Communist Party of Bohemia and Moravia</a>,\n",
       " <a href=\"fsnem.sqw?id=1293&amp;o=8\">Political group Communist Party of Bohemia and Moravia</a>]"
      ]
     },
     "metadata": {},
     "output_type": "display_data"
    },
    {
     "data": {
      "text/plain": [
       "'url:https://public.psp.cz/en/sqw/detail.sqw?id=5307&o=8&l=cz'"
      ]
     },
     "metadata": {},
     "output_type": "display_data"
    },
    {
     "data": {
      "text/plain": [
       "[<a href=\"fsnem.sqw?id=1293&amp;o=8\">Political group Communist Party of Bohemia and Moravia</a>]"
      ]
     },
     "metadata": {},
     "output_type": "display_data"
    },
    {
     "data": {
      "text/plain": [
       "'url:https://public.psp.cz/en/sqw/detail.sqw?id=5261&o=8&l=cz'"
      ]
     },
     "metadata": {},
     "output_type": "display_data"
    },
    {
     "data": {
      "text/plain": [
       "[<a href=\"fsnem.sqw?id=1293&amp;o=8\">Political group Communist Party of Bohemia and Moravia</a>]"
      ]
     },
     "metadata": {},
     "output_type": "display_data"
    },
    {
     "data": {
      "text/plain": [
       "'url:https://public.psp.cz/en/sqw/detail.sqw?id=303&&o=8&l=cz'"
      ]
     },
     "metadata": {},
     "output_type": "display_data"
    },
    {
     "data": {
      "text/plain": [
       "[<a href=\"fsnem.sqw?id=1293&amp;o=8\">Political group Communist Party of Bohemia and Moravia</a>]"
      ]
     },
     "metadata": {},
     "output_type": "display_data"
    },
    {
     "data": {
      "text/plain": [
       "'url:https://public.psp.cz/en/sqw/detail.sqw?id=305&&o=8&l=cz'"
      ]
     },
     "metadata": {},
     "output_type": "display_data"
    },
    {
     "data": {
      "text/plain": [
       "[<a href=\"fsnem.sqw?id=1293&amp;o=8\">Political group Communist Party of Bohemia and Moravia</a>]"
      ]
     },
     "metadata": {},
     "output_type": "display_data"
    },
    {
     "data": {
      "text/plain": [
       "'url:https://public.psp.cz/en/sqw/detail.sqw?id=4778&o=8&l=cz'"
      ]
     },
     "metadata": {},
     "output_type": "display_data"
    },
    {
     "data": {
      "text/plain": [
       "[<a href=\"fsnem.sqw?id=1293&amp;o=8\">Political group Communist Party of Bohemia and Moravia</a>]"
      ]
     },
     "metadata": {},
     "output_type": "display_data"
    },
    {
     "data": {
      "text/plain": [
       "'url:https://public.psp.cz/en/sqw/detail.sqw?id=5313&o=8&l=cz'"
      ]
     },
     "metadata": {},
     "output_type": "display_data"
    },
    {
     "data": {
      "text/plain": [
       "[<a href=\"fsnem.sqw?id=1293&amp;o=8\">Political group Communist Party of Bohemia and Moravia</a>]"
      ]
     },
     "metadata": {},
     "output_type": "display_data"
    },
    {
     "data": {
      "text/plain": [
       "'url:https://public.psp.cz/en/sqw/detail.sqw?id=309&&o=8&l=cz'"
      ]
     },
     "metadata": {},
     "output_type": "display_data"
    },
    {
     "data": {
      "text/plain": [
       "[<a href=\"fsnem.sqw?id=1293&amp;o=8\">Political group Communist Party of Bohemia and Moravia</a>,\n",
       " <a href=\"fsnem.sqw?id=1293&amp;o=8\">Political group Communist Party of Bohemia and Moravia</a>]"
      ]
     },
     "metadata": {},
     "output_type": "display_data"
    },
    {
     "data": {
      "text/plain": [
       "'url:https://public.psp.cz/en/sqw/detail.sqw?id=6279&o=8&l=cz'"
      ]
     },
     "metadata": {},
     "output_type": "display_data"
    },
    {
     "data": {
      "text/plain": [
       "[<a href=\"fsnem.sqw?id=1293&amp;o=8\">Political group Communist Party of Bohemia and Moravia</a>,\n",
       " <a href=\"fsnem.sqw?id=1293&amp;o=8\">Political group Communist Party of Bohemia and Moravia</a>]"
      ]
     },
     "metadata": {},
     "output_type": "display_data"
    },
    {
     "data": {
      "text/plain": [
       "'url:https://public.psp.cz/en/sqw/detail.sqw?id=5938&o=8&l=cz'"
      ]
     },
     "metadata": {},
     "output_type": "display_data"
    },
    {
     "data": {
      "text/plain": [
       "[<a href=\"fsnem.sqw?id=1293&amp;o=8\">Political group Communist Party of Bohemia and Moravia</a>]"
      ]
     },
     "metadata": {},
     "output_type": "display_data"
    },
    {
     "data": {
      "text/plain": [
       "'url:https://public.psp.cz/en/sqw/detail.sqw?id=6224&o=8&l=cz'"
      ]
     },
     "metadata": {},
     "output_type": "display_data"
    },
    {
     "data": {
      "text/plain": [
       "[<a href=\"fsnem.sqw?id=1293&amp;o=8\">Political group Communist Party of Bohemia and Moravia</a>]"
      ]
     },
     "metadata": {},
     "output_type": "display_data"
    },
    {
     "data": {
      "text/plain": [
       "'url:https://public.psp.cz/en/sqw/detail.sqw?id=6485&o=8&l=cz'"
      ]
     },
     "metadata": {},
     "output_type": "display_data"
    },
    {
     "data": {
      "text/plain": [
       "[<a href=\"fsnem.sqw?id=1293&amp;o=8\">Political group Communist Party of Bohemia and Moravia</a>]"
      ]
     },
     "metadata": {},
     "output_type": "display_data"
    },
    {
     "data": {
      "text/plain": [
       "'url:https://public.psp.cz/en/sqw/detail.sqw?id=6233&o=8&l=cz'"
      ]
     },
     "metadata": {},
     "output_type": "display_data"
    },
    {
     "data": {
      "text/plain": [
       "[<a href=\"fsnem.sqw?id=1293&amp;o=8\">Political group Communist Party of Bohemia and Moravia</a>]"
      ]
     },
     "metadata": {},
     "output_type": "display_data"
    },
    {
     "data": {
      "text/plain": [
       "'url:https://public.psp.cz/en/sqw/detail.sqw?id=6169&o=8&l=cz'"
      ]
     },
     "metadata": {},
     "output_type": "display_data"
    },
    {
     "data": {
      "text/plain": [
       "[<a href=\"fsnem.sqw?id=1293&amp;o=8\">Political group Communist Party of Bohemia and Moravia</a>]"
      ]
     },
     "metadata": {},
     "output_type": "display_data"
    },
    {
     "data": {
      "text/plain": [
       "'url:https://public.psp.cz/en/sqw/detail.sqw?id=5268&o=8&l=cz'"
      ]
     },
     "metadata": {},
     "output_type": "display_data"
    },
    {
     "data": {
      "text/plain": [
       "[<a href=\"fsnem.sqw?id=1293&amp;o=8\">Political group Communist Party of Bohemia and Moravia</a>]"
      ]
     },
     "metadata": {},
     "output_type": "display_data"
    },
    {
     "data": {
      "text/plain": [
       "'url:https://public.psp.cz/en/sqw/detail.sqw?id=6178&o=8&l=cz'"
      ]
     },
     "metadata": {},
     "output_type": "display_data"
    },
    {
     "data": {
      "text/plain": [
       "[<a href=\"fsnem.sqw?id=1297&amp;o=8\">Political group Christian and Democratic Union - Czechoslovak People's Party</a>,\n",
       " <a href=\"fsnem.sqw?id=1297&amp;o=8\">Political group Christian and Democratic Union - Czechoslovak People's Party</a>]"
      ]
     },
     "metadata": {},
     "output_type": "display_data"
    },
    {
     "data": {
      "text/plain": [
       "'url:https://public.psp.cz/en/sqw/detail.sqw?id=6138&o=8&l=cz'"
      ]
     },
     "metadata": {},
     "output_type": "display_data"
    },
    {
     "data": {
      "text/plain": [
       "[<a href=\"fsnem.sqw?id=1297&amp;o=8\">Political group Christian and Democratic Union - Czechoslovak People's Party</a>]"
      ]
     },
     "metadata": {},
     "output_type": "display_data"
    },
    {
     "data": {
      "text/plain": [
       "'url:https://public.psp.cz/en/sqw/detail.sqw?id=6179&o=8&l=cz'"
      ]
     },
     "metadata": {},
     "output_type": "display_data"
    },
    {
     "data": {
      "text/plain": [
       "[<a href=\"fsnem.sqw?id=1297&amp;o=8\">Political group Christian and Democratic Union - Czechoslovak People's Party</a>,\n",
       " <a href=\"fsnem.sqw?id=1297&amp;o=8\">Political group Christian and Democratic Union - Czechoslovak People's Party</a>]"
      ]
     },
     "metadata": {},
     "output_type": "display_data"
    },
    {
     "data": {
      "text/plain": [
       "'url:https://public.psp.cz/en/sqw/detail.sqw?id=6443&o=8&l=cz'"
      ]
     },
     "metadata": {},
     "output_type": "display_data"
    },
    {
     "data": {
      "text/plain": [
       "[<a href=\"fsnem.sqw?id=1297&amp;o=8\">Political group Christian and Democratic Union - Czechoslovak People's Party</a>]"
      ]
     },
     "metadata": {},
     "output_type": "display_data"
    },
    {
     "data": {
      "text/plain": [
       "'url:https://public.psp.cz/en/sqw/detail.sqw?id=6292&o=8&l=cz'"
      ]
     },
     "metadata": {},
     "output_type": "display_data"
    },
    {
     "data": {
      "text/plain": [
       "[<a href=\"fsnem.sqw?id=1297&amp;o=8\">Political group Christian and Democratic Union - Czechoslovak People's Party</a>]"
      ]
     },
     "metadata": {},
     "output_type": "display_data"
    },
    {
     "data": {
      "text/plain": [
       "'url:https://public.psp.cz/en/sqw/detail.sqw?id=5847&o=8&l=cz'"
      ]
     },
     "metadata": {},
     "output_type": "display_data"
    },
    {
     "data": {
      "text/plain": [
       "[<a href=\"fsnem.sqw?id=1297&amp;o=8\">Political group Christian and Democratic Union - Czechoslovak People's Party</a>]"
      ]
     },
     "metadata": {},
     "output_type": "display_data"
    },
    {
     "data": {
      "text/plain": [
       "'url:https://public.psp.cz/en/sqw/detail.sqw?id=6205&o=8&l=cz'"
      ]
     },
     "metadata": {},
     "output_type": "display_data"
    },
    {
     "data": {
      "text/plain": [
       "[<a href=\"fsnem.sqw?id=1297&amp;o=8\">Political group Christian and Democratic Union - Czechoslovak People's Party</a>]"
      ]
     },
     "metadata": {},
     "output_type": "display_data"
    },
    {
     "data": {
      "text/plain": [
       "'url:https://public.psp.cz/en/sqw/detail.sqw?id=6207&o=8&l=cz'"
      ]
     },
     "metadata": {},
     "output_type": "display_data"
    },
    {
     "data": {
      "text/plain": [
       "[<a href=\"fsnem.sqw?id=1297&amp;o=8\">Political group Christian and Democratic Union - Czechoslovak People's Party</a>]"
      ]
     },
     "metadata": {},
     "output_type": "display_data"
    },
    {
     "data": {
      "text/plain": [
       "'url:https://public.psp.cz/en/sqw/detail.sqw?id=6222&o=8&l=cz'"
      ]
     },
     "metadata": {},
     "output_type": "display_data"
    },
    {
     "data": {
      "text/plain": [
       "[<a href=\"fsnem.sqw?id=1297&amp;o=8\">Political group Christian and Democratic Union - Czechoslovak People's Party</a>,\n",
       " <a href=\"fsnem.sqw?id=1297&amp;o=8\">Political group Christian and Democratic Union - Czechoslovak People's Party</a>]"
      ]
     },
     "metadata": {},
     "output_type": "display_data"
    },
    {
     "data": {
      "text/plain": [
       "'url:https://public.psp.cz/en/sqw/detail.sqw?id=6513&o=8&l=cz'"
      ]
     },
     "metadata": {},
     "output_type": "display_data"
    },
    {
     "data": {
      "text/plain": [
       "[<a href=\"fsnem.sqw?id=1297&amp;o=8\">Political group Christian and Democratic Union - Czechoslovak People's Party</a>]"
      ]
     },
     "metadata": {},
     "output_type": "display_data"
    },
    {
     "data": {
      "text/plain": [
       "'url:https://public.psp.cz/en/sqw/detail.sqw?id=6449&o=8&l=cz'"
      ]
     },
     "metadata": {},
     "output_type": "display_data"
    },
    {
     "data": {
      "text/plain": [
       "[<a href=\"fsnem.sqw?id=1299&amp;o=8\">Political group TOP 09</a>]"
      ]
     },
     "metadata": {},
     "output_type": "display_data"
    },
    {
     "data": {
      "text/plain": [
       "'url:https://public.psp.cz/en/sqw/detail.sqw?id=377&&o=8&l=cz'"
      ]
     },
     "metadata": {},
     "output_type": "display_data"
    },
    {
     "data": {
      "text/plain": [
       "[<a href=\"fsnem.sqw?id=1299&amp;o=8\">Political group TOP 09</a>,\n",
       " <a href=\"fsnem.sqw?id=1299&amp;o=8\">Political group TOP 09</a>]"
      ]
     },
     "metadata": {},
     "output_type": "display_data"
    },
    {
     "data": {
      "text/plain": [
       "'url:https://public.psp.cz/en/sqw/detail.sqw?id=5943&o=8&l=cz'"
      ]
     },
     "metadata": {},
     "output_type": "display_data"
    },
    {
     "data": {
      "text/plain": [
       "[<a href=\"fsnem.sqw?id=1299&amp;o=8\">Political group TOP 09</a>]"
      ]
     },
     "metadata": {},
     "output_type": "display_data"
    },
    {
     "data": {
      "text/plain": [
       "'url:https://public.psp.cz/en/sqw/detail.sqw?id=6147&o=8&l=cz'"
      ]
     },
     "metadata": {},
     "output_type": "display_data"
    },
    {
     "data": {
      "text/plain": [
       "[<a href=\"fsnem.sqw?id=1299&amp;o=8\">Political group TOP 09</a>,\n",
       " <a href=\"fsnem.sqw?id=1299&amp;o=8\">Political group TOP 09</a>]"
      ]
     },
     "metadata": {},
     "output_type": "display_data"
    },
    {
     "data": {
      "text/plain": [
       "'url:https://public.psp.cz/en/sqw/detail.sqw?id=5558&o=8&l=cz'"
      ]
     },
     "metadata": {},
     "output_type": "display_data"
    },
    {
     "data": {
      "text/plain": [
       "[<a href=\"fsnem.sqw?id=1299&amp;o=8\">Political group TOP 09</a>]"
      ]
     },
     "metadata": {},
     "output_type": "display_data"
    },
    {
     "data": {
      "text/plain": [
       "'url:https://public.psp.cz/en/sqw/detail.sqw?id=6137&o=8&l=cz'"
      ]
     },
     "metadata": {},
     "output_type": "display_data"
    },
    {
     "data": {
      "text/plain": [
       "[<a href=\"fsnem.sqw?id=1299&amp;o=8\">Political group TOP 09</a>,\n",
       " <a href=\"fsnem.sqw?id=1299&amp;o=8\">Political group TOP 09</a>]"
      ]
     },
     "metadata": {},
     "output_type": "display_data"
    },
    {
     "data": {
      "text/plain": [
       "'url:https://public.psp.cz/en/sqw/detail.sqw?id=6482&o=8&l=cz'"
      ]
     },
     "metadata": {},
     "output_type": "display_data"
    },
    {
     "data": {
      "text/plain": [
       "[<a href=\"fsnem.sqw?id=1299&amp;o=8\">Political group TOP 09</a>]"
      ]
     },
     "metadata": {},
     "output_type": "display_data"
    },
    {
     "data": {
      "text/plain": [
       "'url:https://public.psp.cz/en/sqw/detail.sqw?id=5909&o=8&l=cz'"
      ]
     },
     "metadata": {},
     "output_type": "display_data"
    },
    {
     "data": {
      "text/plain": [
       "[<a href=\"fsnem.sqw?id=1296&amp;o=8\">Political group Mayors and Independents</a>,\n",
       " <a href=\"fsnem.sqw?id=1296&amp;o=8\">Political group Mayors and Independents</a>]"
      ]
     },
     "metadata": {},
     "output_type": "display_data"
    },
    {
     "data": {
      "text/plain": [
       "'url:https://public.psp.cz/en/sqw/detail.sqw?id=5914&o=8&l=cz'"
      ]
     },
     "metadata": {},
     "output_type": "display_data"
    },
    {
     "data": {
      "text/plain": [
       "[<a href=\"fsnem.sqw?id=1296&amp;o=8\">Political group Mayors and Independents</a>]"
      ]
     },
     "metadata": {},
     "output_type": "display_data"
    },
    {
     "data": {
      "text/plain": [
       "'url:https://public.psp.cz/en/sqw/detail.sqw?id=6214&o=8&l=cz'"
      ]
     },
     "metadata": {},
     "output_type": "display_data"
    },
    {
     "data": {
      "text/plain": [
       "[<a href=\"fsnem.sqw?id=1296&amp;o=8\">Political group Mayors and Independents</a>,\n",
       " <a href=\"fsnem.sqw?id=1296&amp;o=8\">Political group Mayors and Independents</a>]"
      ]
     },
     "metadata": {},
     "output_type": "display_data"
    },
    {
     "data": {
      "text/plain": [
       "'url:https://public.psp.cz/en/sqw/detail.sqw?id=6466&o=8&l=cz'"
      ]
     },
     "metadata": {},
     "output_type": "display_data"
    },
    {
     "data": {
      "text/plain": [
       "[<a href=\"fsnem.sqw?id=1296&amp;o=8\">Political group Mayors and Independents</a>]"
      ]
     },
     "metadata": {},
     "output_type": "display_data"
    },
    {
     "data": {
      "text/plain": [
       "'url:https://public.psp.cz/en/sqw/detail.sqw?id=6417&o=8&l=cz'"
      ]
     },
     "metadata": {},
     "output_type": "display_data"
    },
    {
     "data": {
      "text/plain": [
       "[<a href=\"fsnem.sqw?id=1296&amp;o=8\">Political group Mayors and Independents</a>]"
      ]
     },
     "metadata": {},
     "output_type": "display_data"
    },
    {
     "data": {
      "text/plain": [
       "'url:https://public.psp.cz/en/sqw/detail.sqw?id=6524&o=8&l=cz'"
      ]
     },
     "metadata": {},
     "output_type": "display_data"
    },
    {
     "data": {
      "text/plain": [
       "[<a href=\"fsnem.sqw?id=1296&amp;o=8\">Political group Mayors and Independents</a>,\n",
       " <a href=\"fsnem.sqw?id=1296&amp;o=8\">Political group Mayors and Independents</a>]"
      ]
     },
     "metadata": {},
     "output_type": "display_data"
    },
    {
     "data": {
      "text/plain": [
       "[<__main__.Deputy at 0x284bba92b20>,\n",
       " <__main__.Deputy at 0x284bba9a1f0>,\n",
       " <__main__.Deputy at 0x284bba92f40>,\n",
       " <__main__.Deputy at 0x284bbb1f6d0>,\n",
       " <__main__.Deputy at 0x284bba92ee0>,\n",
       " <__main__.Deputy at 0x284bbc08460>,\n",
       " <__main__.Deputy at 0x284bbc21880>,\n",
       " <__main__.Deputy at 0x284bbc9dfd0>,\n",
       " <__main__.Deputy at 0x284bbc21b80>,\n",
       " <__main__.Deputy at 0x284bbb559d0>,\n",
       " <__main__.Deputy at 0x284bba9a880>,\n",
       " <__main__.Deputy at 0x284bbc54ac0>,\n",
       " <__main__.Deputy at 0x284bbc2da30>,\n",
       " <__main__.Deputy at 0x284bbc587c0>,\n",
       " <__main__.Deputy at 0x284bbd28d60>,\n",
       " <__main__.Deputy at 0x284bbe27a90>,\n",
       " <__main__.Deputy at 0x284bbdaca90>,\n",
       " <__main__.Deputy at 0x284bbe18940>,\n",
       " <__main__.Deputy at 0x284bbb655b0>,\n",
       " <__main__.Deputy at 0x284bbf25b50>,\n",
       " <__main__.Deputy at 0x284bbf2b280>,\n",
       " <__main__.Deputy at 0x284bbf14160>,\n",
       " <__main__.Deputy at 0x284bbbff1c0>,\n",
       " <__main__.Deputy at 0x284bbdc5fd0>,\n",
       " <__main__.Deputy at 0x284bb7e2fa0>,\n",
       " <__main__.Deputy at 0x284bb7e43a0>,\n",
       " <__main__.Deputy at 0x284bbd28b20>,\n",
       " <__main__.Deputy at 0x284bbece190>,\n",
       " <__main__.Deputy at 0x284bbc57130>,\n",
       " <__main__.Deputy at 0x284bbc085e0>,\n",
       " <__main__.Deputy at 0x284bbf5d700>,\n",
       " <__main__.Deputy at 0x284bb70df70>,\n",
       " <__main__.Deputy at 0x284bb87d070>,\n",
       " <__main__.Deputy at 0x284bb876e50>,\n",
       " <__main__.Deputy at 0x284bbc89bb0>,\n",
       " <__main__.Deputy at 0x284bbe09670>,\n",
       " <__main__.Deputy at 0x284bbd0cac0>,\n",
       " <__main__.Deputy at 0x284bbdd0a30>,\n",
       " <__main__.Deputy at 0x284bbcd4d60>,\n",
       " <__main__.Deputy at 0x284bbdfaca0>,\n",
       " <__main__.Deputy at 0x284bbf4e430>,\n",
       " <__main__.Deputy at 0x284bbea2250>,\n",
       " <__main__.Deputy at 0x284bbb07f70>,\n",
       " <__main__.Deputy at 0x284bbea22b0>,\n",
       " <__main__.Deputy at 0x284bbb07d30>,\n",
       " <__main__.Deputy at 0x284bb793bb0>,\n",
       " <__main__.Deputy at 0x284bbaa6a00>,\n",
       " <__main__.Deputy at 0x284bb842d30>,\n",
       " <__main__.Deputy at 0x284bbaa67f0>,\n",
       " <__main__.Deputy at 0x284bba9a8b0>,\n",
       " <__main__.Deputy at 0x284bba92eb0>,\n",
       " <__main__.Deputy at 0x284bbdfab50>,\n",
       " <__main__.Deputy at 0x284bbf39040>,\n",
       " <__main__.Deputy at 0x284bbc89670>,\n",
       " <__main__.Deputy at 0x284bbf39af0>,\n",
       " <__main__.Deputy at 0x284bbf36fd0>,\n",
       " <__main__.Deputy at 0x284bbddfe20>,\n",
       " <__main__.Deputy at 0x284bbea2fa0>,\n",
       " <__main__.Deputy at 0x284bbddff70>,\n",
       " <__main__.Deputy at 0x284bbe01460>,\n",
       " <__main__.Deputy at 0x284bb75a730>,\n",
       " <__main__.Deputy at 0x284bbc979d0>,\n",
       " <__main__.Deputy at 0x284bbe01670>,\n",
       " <__main__.Deputy at 0x284bb7294c0>,\n",
       " <__main__.Deputy at 0x284bbccb070>,\n",
       " <__main__.Deputy at 0x284bb7294f0>,\n",
       " <__main__.Deputy at 0x284bbebd040>,\n",
       " <__main__.Deputy at 0x284bbe8e040>,\n",
       " <__main__.Deputy at 0x284bbebd310>,\n",
       " <__main__.Deputy at 0x284bbcc5b80>,\n",
       " <__main__.Deputy at 0x284bb7283a0>,\n",
       " <__main__.Deputy at 0x284bbd36ee0>,\n",
       " <__main__.Deputy at 0x284bbf08a30>,\n",
       " <__main__.Deputy at 0x284bbe43dc0>,\n",
       " <__main__.Deputy at 0x284bbe43f40>,\n",
       " <__main__.Deputy at 0x284bbd6ef70>,\n",
       " <__main__.Deputy at 0x284bbf2b3d0>,\n",
       " <__main__.Deputy at 0x284bbb1ff10>,\n",
       " <__main__.Deputy at 0x284bbc2dc70>,\n",
       " <__main__.Deputy at 0x284bb89a100>,\n",
       " <__main__.Deputy at 0x284bbdfaac0>,\n",
       " <__main__.Deputy at 0x284bbc9d460>,\n",
       " <__main__.Deputy at 0x284bbe01580>,\n",
       " <__main__.Deputy at 0x284bbcc29d0>,\n",
       " <__main__.Deputy at 0x284bbd36910>,\n",
       " <__main__.Deputy at 0x284bbebf070>,\n",
       " <__main__.Deputy at 0x284bbeb4e80>,\n",
       " <__main__.Deputy at 0x284bb887d90>,\n",
       " <__main__.Deputy at 0x284bbcc2a90>,\n",
       " <__main__.Deputy at 0x284bbe17b50>,\n",
       " <__main__.Deputy at 0x284bbca9430>,\n",
       " <__main__.Deputy at 0x284bbd36be0>,\n",
       " <__main__.Deputy at 0x284bbe17cd0>,\n",
       " <__main__.Deputy at 0x284bb7d9a60>,\n",
       " <__main__.Deputy at 0x284bbb973d0>,\n",
       " <__main__.Deputy at 0x284bbb8b6a0>,\n",
       " <__main__.Deputy at 0x284bbc14cd0>,\n",
       " <__main__.Deputy at 0x284bb779040>,\n",
       " <__main__.Deputy at 0x284bbaa4af0>,\n",
       " <__main__.Deputy at 0x284bb85a520>,\n",
       " <__main__.Deputy at 0x284bb830490>,\n",
       " <__main__.Deputy at 0x284bb77fee0>,\n",
       " <__main__.Deputy at 0x284bb85a5b0>,\n",
       " <__main__.Deputy at 0x284bbc54340>,\n",
       " <__main__.Deputy at 0x284bbd36880>,\n",
       " <__main__.Deputy at 0x284bbb55190>,\n",
       " <__main__.Deputy at 0x284bb6b0fd0>,\n",
       " <__main__.Deputy at 0x284bba9a0d0>,\n",
       " <__main__.Deputy at 0x284bbe18460>,\n",
       " <__main__.Deputy at 0x284bbf36070>,\n",
       " <__main__.Deputy at 0x284bbf14970>,\n",
       " <__main__.Deputy at 0x284bbb83340>,\n",
       " <__main__.Deputy at 0x284bbf271f0>,\n",
       " <__main__.Deputy at 0x284bbf4e970>,\n",
       " <__main__.Deputy at 0x284bbc9d700>,\n",
       " <__main__.Deputy at 0x284bbdff520>,\n",
       " <__main__.Deputy at 0x284bb70b250>,\n",
       " <__main__.Deputy at 0x284bbe24c40>,\n",
       " <__main__.Deputy at 0x284bbf27550>,\n",
       " <__main__.Deputy at 0x284bb6b0af0>,\n",
       " <__main__.Deputy at 0x284bb784700>,\n",
       " <__main__.Deputy at 0x284bbd57f70>,\n",
       " <__main__.Deputy at 0x284bbe3ac10>,\n",
       " <__main__.Deputy at 0x284bbd2f400>,\n",
       " <__main__.Deputy at 0x284bbd71fd0>,\n",
       " <__main__.Deputy at 0x284bbc54cd0>,\n",
       " <__main__.Deputy at 0x284bb761520>,\n",
       " <__main__.Deputy at 0x284bbd7a070>,\n",
       " <__main__.Deputy at 0x284bbee5160>,\n",
       " <__main__.Deputy at 0x284bbb83be0>,\n",
       " <__main__.Deputy at 0x284bbebf430>,\n",
       " <__main__.Deputy at 0x284bb80b040>,\n",
       " <__main__.Deputy at 0x284bbf25580>,\n",
       " <__main__.Deputy at 0x284bbb83d60>,\n",
       " <__main__.Deputy at 0x284bbc971c0>,\n",
       " <__main__.Deputy at 0x284bb6f89d0>,\n",
       " <__main__.Deputy at 0x284bb7d9790>,\n",
       " <__main__.Deputy at 0x284bbb8ba30>,\n",
       " <__main__.Deputy at 0x284bb842ac0>,\n",
       " <__main__.Deputy at 0x284bbaa69d0>,\n",
       " <__main__.Deputy at 0x284bbe06850>,\n",
       " <__main__.Deputy at 0x284bbf2b2e0>,\n",
       " <__main__.Deputy at 0x284bb744a90>,\n",
       " <__main__.Deputy at 0x284bbc46ca0>,\n",
       " <__main__.Deputy at 0x284bb75a6d0>,\n",
       " <__main__.Deputy at 0x284bbef3bb0>,\n",
       " <__main__.Deputy at 0x284bb744bb0>,\n",
       " <__main__.Deputy at 0x284bb761670>,\n",
       " <__main__.Deputy at 0x284bbf0c700>,\n",
       " <__main__.Deputy at 0x284bbe9e970>,\n",
       " <__main__.Deputy at 0x284bbafa9d0>,\n",
       " <__main__.Deputy at 0x284bbe9eb20>,\n",
       " <__main__.Deputy at 0x284bbbb5f70>,\n",
       " <__main__.Deputy at 0x284bbd23a00>,\n",
       " <__main__.Deputy at 0x284bb68d3d0>,\n",
       " <__main__.Deputy at 0x284bbf396d0>,\n",
       " <__main__.Deputy at 0x284bbf39730>,\n",
       " <__main__.Deputy at 0x284bbb077f0>,\n",
       " <__main__.Deputy at 0x284bbcc2af0>,\n",
       " <__main__.Deputy at 0x284bb757ca0>,\n",
       " <__main__.Deputy at 0x284bbe17850>,\n",
       " <__main__.Deputy at 0x284bbb1f820>,\n",
       " <__main__.Deputy at 0x284bbf0c7f0>,\n",
       " <__main__.Deputy at 0x284bbcd45b0>,\n",
       " <__main__.Deputy at 0x284bbe8e0a0>,\n",
       " <__main__.Deputy at 0x284bbf082b0>,\n",
       " <__main__.Deputy at 0x284bbe9e760>,\n",
       " <__main__.Deputy at 0x284bbea2370>,\n",
       " <__main__.Deputy at 0x284bbd239d0>,\n",
       " <__main__.Deputy at 0x284bbef9cd0>,\n",
       " <__main__.Deputy at 0x284bbea2e20>,\n",
       " <__main__.Deputy at 0x284bbe72fa0>,\n",
       " <__main__.Deputy at 0x284bbf041f0>,\n",
       " <__main__.Deputy at 0x284bbe9e700>,\n",
       " <__main__.Deputy at 0x284bb76fb20>,\n",
       " <__main__.Deputy at 0x284bbb60700>,\n",
       " <__main__.Deputy at 0x284bbe55520>,\n",
       " <__main__.Deputy at 0x284bb7e28e0>,\n",
       " <__main__.Deputy at 0x284bb8463d0>,\n",
       " <__main__.Deputy at 0x284bbd80c70>,\n",
       " <__main__.Deputy at 0x284bb761af0>,\n",
       " <__main__.Deputy at 0x284bbe43280>,\n",
       " <__main__.Deputy at 0x284bb887820>,\n",
       " <__main__.Deputy at 0x284bb7291c0>,\n",
       " <__main__.Deputy at 0x284bbb65b50>,\n",
       " <__main__.Deputy at 0x284bbe18a30>,\n",
       " <__main__.Deputy at 0x284bb729ca0>,\n",
       " <__main__.Deputy at 0x284bb7c2ca0>,\n",
       " <__main__.Deputy at 0x284bbddff10>,\n",
       " <__main__.Deputy at 0x284bb70d4f0>,\n",
       " <__main__.Deputy at 0x284bbbffe80>,\n",
       " <__main__.Deputy at 0x284bb827df0>,\n",
       " <__main__.Deputy at 0x284bbc46340>,\n",
       " <__main__.Deputy at 0x284bbacd550>,\n",
       " <__main__.Deputy at 0x284bb7d0f10>,\n",
       " <__main__.Deputy at 0x284bb7a62e0>,\n",
       " <__main__.Deputy at 0x284bbe5ee50>,\n",
       " <__main__.Deputy at 0x284bbe01a60>,\n",
       " <__main__.Deputy at 0x284bbe01b80>,\n",
       " <__main__.Deputy at 0x284bbe010d0>]"
      ]
     },
     "execution_count": 10,
     "metadata": {},
     "output_type": "execute_result"
    }
   ],
   "source": [
    "# [href^=\"detail.sqw?id=\"] \n",
    "# soup.find_all('div', {'id':'main-content'})\n",
    "deputes = []\n",
    "r = requests.get(votings[0])\n",
    "soup = BeautifulSoup(r.content.decode('windows-1252', 'ignore'), 'html.parser')\n",
    "uls = soup.find_all('ul', {'class':'results'})\n",
    "for ul in uls:\n",
    "    for li in ul.find_all('li'):\n",
    "        name = li.find('a').text.replace('\\u00E8', '\\u010D').replace('\\xa0', ' ').replace('\\u00F8', '\\u0159').replace('\\u00EC', '\\u00E8')\n",
    "        vote = \n",
    "        id = str(li.find('a').get('href').split('id=', 1)[1])[:4]\n",
    "        deputes.append(Deputy(str(name),str(id)))\n",
    "deputes"
   ]
  },
  {
   "cell_type": "code",
   "execution_count": null,
   "metadata": {},
   "outputs": [],
   "source": [
    "class Voting:\n",
    "    def __init__(self):\n",
    "        self."
   ]
  }
 ],
 "metadata": {
  "kernelspec": {
   "display_name": "Python 3",
   "language": "python",
   "name": "python3"
  },
  "language_info": {
   "codemirror_mode": {
    "name": "ipython",
    "version": 3
   },
   "file_extension": ".py",
   "mimetype": "text/x-python",
   "name": "python",
   "nbconvert_exporter": "python",
   "pygments_lexer": "ipython3",
   "version": "3.8.3"
  }
 },
 "nbformat": 4,
 "nbformat_minor": 4
}
